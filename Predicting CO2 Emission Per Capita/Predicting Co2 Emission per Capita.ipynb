{
 "cells": [
  {
   "cell_type": "markdown",
   "id": "a9a27a9d",
   "metadata": {},
   "source": [
    "# Predicting Co2 Emission per Capita"
   ]
  },
  {
   "cell_type": "markdown",
   "id": "3a06e9f3",
   "metadata": {},
   "source": [
    "The CO2 Emission Per Capita Prediction project aims to develop a data-driven solution that accurately forecasts carbon dioxide (CO2) emissions on a per capita basis for different regions or countries. The project seeks to leverage historical emissions data, socio-economic indicators, and potentially other relevant variables to create a predictive model capable of estimating future emissions per person. The ultimate goal is to gain insights into emission trends, identify factors influencing emissions, and aid policymakers in making informed decisions to mitigate climate change."
   ]
  },
  {
   "cell_type": "markdown",
   "id": "b8855a82",
   "metadata": {},
   "source": [
    "# Importing Libraries"
   ]
  },
  {
   "cell_type": "markdown",
   "id": "e11258d3",
   "metadata": {},
   "source": [
    "These are just a few examples of popular Python libraries. You can import any other library using the same import statement followed by the library name or alias:\n",
    "\n",
    "NumPy: for numerical operations and array manipulation\n",
    "\n",
    "Pandas: for data manipulation and analysis\n",
    "\n",
    "Matplotlib: for creating visualizations\n",
    "\n",
    "Scikit-learn: for machine learning algorithms"
   ]
  },
  {
   "cell_type": "code",
   "execution_count": 1,
   "id": "0d52c246",
   "metadata": {},
   "outputs": [],
   "source": [
    "import pandas as pd\n",
    "import numpy as np\n",
    "import seaborn as sns\n",
    "import matplotlib.pyplot as plt\n",
    "\n",
    "%matplotlib inline"
   ]
  },
  {
   "cell_type": "code",
   "execution_count": 2,
   "id": "a3e1ee3a",
   "metadata": {},
   "outputs": [],
   "source": [
    "import warnings\n",
    "warnings.filterwarnings('ignore')"
   ]
  },
  {
   "cell_type": "markdown",
   "id": "23f1d2cb",
   "metadata": {},
   "source": [
    "# Importing Dataset"
   ]
  },
  {
   "cell_type": "markdown",
   "id": "9219b643",
   "metadata": {},
   "source": [
    "The dataset contains monthly observations of environmental, atmospheric, and socio-economic attributes, including greenhouse gases like CO2, CH4, and N2O, as well as MEI for El Niño analysis. It also includes CFC-11 and CFC-12 data, TSI for solar irradiance, aerosols, temperature, population, and CO2 emissions per capita."
   ]
  },
  {
   "cell_type": "code",
   "execution_count": 3,
   "id": "76a6a067",
   "metadata": {},
   "outputs": [],
   "source": [
    "dataframe = pd.read_csv('carbon-segment.csv')"
   ]
  },
  {
   "cell_type": "markdown",
   "id": "fc97bd39",
   "metadata": {},
   "source": [
    "# Data Processing "
   ]
  },
  {
   "cell_type": "markdown",
   "id": "8c9da90e",
   "metadata": {},
   "source": [
    "After acquiring the dataset, we will perform data preprocessing to clean and prepare the data for analysis. This includes handling missing values, removing duplicates, and transforming categorical variables into numerical representations using techniques like one-hot encoding or label encoding."
   ]
  },
  {
   "cell_type": "code",
   "execution_count": 4,
   "id": "122694ef",
   "metadata": {},
   "outputs": [
    {
     "data": {
      "text/html": [
       "<div>\n",
       "<style scoped>\n",
       "    .dataframe tbody tr th:only-of-type {\n",
       "        vertical-align: middle;\n",
       "    }\n",
       "\n",
       "    .dataframe tbody tr th {\n",
       "        vertical-align: top;\n",
       "    }\n",
       "\n",
       "    .dataframe thead th {\n",
       "        text-align: right;\n",
       "    }\n",
       "</style>\n",
       "<table border=\"1\" class=\"dataframe\">\n",
       "  <thead>\n",
       "    <tr style=\"text-align: right;\">\n",
       "      <th></th>\n",
       "      <th>Year</th>\n",
       "      <th>Month</th>\n",
       "      <th>MEI</th>\n",
       "      <th>CO2</th>\n",
       "      <th>CH4</th>\n",
       "      <th>N2O</th>\n",
       "      <th>CFC-11</th>\n",
       "      <th>CFC-12</th>\n",
       "      <th>TSI</th>\n",
       "      <th>Aerosols</th>\n",
       "      <th>Temp</th>\n",
       "      <th>Population</th>\n",
       "      <th>CO2emissionspercapita</th>\n",
       "    </tr>\n",
       "  </thead>\n",
       "  <tbody>\n",
       "    <tr>\n",
       "      <th>0</th>\n",
       "      <td>1983</td>\n",
       "      <td>12</td>\n",
       "      <td>-0.176</td>\n",
       "      <td>343.07</td>\n",
       "      <td>1654.31</td>\n",
       "      <td>304.082</td>\n",
       "      <td>196.609</td>\n",
       "      <td>362.174</td>\n",
       "      <td>1366.0607</td>\n",
       "      <td>0.0486</td>\n",
       "      <td>0.078</td>\n",
       "      <td>4699569304</td>\n",
       "      <td>4.11</td>\n",
       "    </tr>\n",
       "    <tr>\n",
       "      <th>1</th>\n",
       "      <td>1984</td>\n",
       "      <td>12</td>\n",
       "      <td>-0.611</td>\n",
       "      <td>344.54</td>\n",
       "      <td>1672.15</td>\n",
       "      <td>305.313</td>\n",
       "      <td>207.308</td>\n",
       "      <td>372.701</td>\n",
       "      <td>1365.7617</td>\n",
       "      <td>0.0188</td>\n",
       "      <td>-0.282</td>\n",
       "      <td>4784011621</td>\n",
       "      <td>4.16</td>\n",
       "    </tr>\n",
       "    <tr>\n",
       "      <th>2</th>\n",
       "      <td>1985</td>\n",
       "      <td>12</td>\n",
       "      <td>-0.293</td>\n",
       "      <td>345.82</td>\n",
       "      <td>1677.99</td>\n",
       "      <td>305.653</td>\n",
       "      <td>217.326</td>\n",
       "      <td>394.539</td>\n",
       "      <td>1365.6794</td>\n",
       "      <td>0.0122</td>\n",
       "      <td>-0.002</td>\n",
       "      <td>4870921740</td>\n",
       "      <td>4.14</td>\n",
       "    </tr>\n",
       "    <tr>\n",
       "      <th>3</th>\n",
       "      <td>1986</td>\n",
       "      <td>12</td>\n",
       "      <td>1.183</td>\n",
       "      <td>347.15</td>\n",
       "      <td>1698.08</td>\n",
       "      <td>306.612</td>\n",
       "      <td>229.058</td>\n",
       "      <td>411.112</td>\n",
       "      <td>1365.6717</td>\n",
       "      <td>0.0120</td>\n",
       "      <td>0.022</td>\n",
       "      <td>4960567912</td>\n",
       "      <td>4.14</td>\n",
       "    </tr>\n",
       "    <tr>\n",
       "      <th>4</th>\n",
       "      <td>1987</td>\n",
       "      <td>12</td>\n",
       "      <td>1.251</td>\n",
       "      <td>349.18</td>\n",
       "      <td>1708.14</td>\n",
       "      <td>306.503</td>\n",
       "      <td>240.058</td>\n",
       "      <td>436.000</td>\n",
       "      <td>1366.0350</td>\n",
       "      <td>0.0089</td>\n",
       "      <td>0.314</td>\n",
       "      <td>5052522147</td>\n",
       "      <td>4.20</td>\n",
       "    </tr>\n",
       "  </tbody>\n",
       "</table>\n",
       "</div>"
      ],
      "text/plain": [
       "   Year  Month    MEI     CO2      CH4      N2O   CFC-11   CFC-12        TSI  \\\n",
       "0  1983     12 -0.176  343.07  1654.31  304.082  196.609  362.174  1366.0607   \n",
       "1  1984     12 -0.611  344.54  1672.15  305.313  207.308  372.701  1365.7617   \n",
       "2  1985     12 -0.293  345.82  1677.99  305.653  217.326  394.539  1365.6794   \n",
       "3  1986     12  1.183  347.15  1698.08  306.612  229.058  411.112  1365.6717   \n",
       "4  1987     12  1.251  349.18  1708.14  306.503  240.058  436.000  1366.0350   \n",
       "\n",
       "   Aerosols   Temp  Population  CO2emissionspercapita  \n",
       "0    0.0486  0.078  4699569304                   4.11  \n",
       "1    0.0188 -0.282  4784011621                   4.16  \n",
       "2    0.0122 -0.002  4870921740                   4.14  \n",
       "3    0.0120  0.022  4960567912                   4.14  \n",
       "4    0.0089  0.314  5052522147                   4.20  "
      ]
     },
     "execution_count": 4,
     "metadata": {},
     "output_type": "execute_result"
    }
   ],
   "source": [
    "dataframe.head()"
   ]
  },
  {
   "cell_type": "code",
   "execution_count": 5,
   "id": "da9f4a60",
   "metadata": {},
   "outputs": [
    {
     "data": {
      "text/html": [
       "<div>\n",
       "<style scoped>\n",
       "    .dataframe tbody tr th:only-of-type {\n",
       "        vertical-align: middle;\n",
       "    }\n",
       "\n",
       "    .dataframe tbody tr th {\n",
       "        vertical-align: top;\n",
       "    }\n",
       "\n",
       "    .dataframe thead th {\n",
       "        text-align: right;\n",
       "    }\n",
       "</style>\n",
       "<table border=\"1\" class=\"dataframe\">\n",
       "  <thead>\n",
       "    <tr style=\"text-align: right;\">\n",
       "      <th></th>\n",
       "      <th>Year</th>\n",
       "      <th>Month</th>\n",
       "      <th>MEI</th>\n",
       "      <th>CO2</th>\n",
       "      <th>CH4</th>\n",
       "      <th>N2O</th>\n",
       "      <th>CFC-11</th>\n",
       "      <th>CFC-12</th>\n",
       "      <th>TSI</th>\n",
       "      <th>Aerosols</th>\n",
       "      <th>Temp</th>\n",
       "      <th>Population</th>\n",
       "      <th>CO2emissionspercapita</th>\n",
       "    </tr>\n",
       "  </thead>\n",
       "  <tbody>\n",
       "    <tr>\n",
       "      <th>21</th>\n",
       "      <td>2004</td>\n",
       "      <td>12</td>\n",
       "      <td>0.643</td>\n",
       "      <td>377.45</td>\n",
       "      <td>1797.24</td>\n",
       "      <td>318.825</td>\n",
       "      <td>252.754</td>\n",
       "      <td>542.172</td>\n",
       "      <td>1366.1552</td>\n",
       "      <td>0.0027</td>\n",
       "      <td>0.381</td>\n",
       "      <td>6461159389</td>\n",
       "      <td>4.45</td>\n",
       "    </tr>\n",
       "    <tr>\n",
       "      <th>22</th>\n",
       "      <td>2005</td>\n",
       "      <td>12</td>\n",
       "      <td>-0.585</td>\n",
       "      <td>379.92</td>\n",
       "      <td>1798.89</td>\n",
       "      <td>319.688</td>\n",
       "      <td>250.989</td>\n",
       "      <td>541.799</td>\n",
       "      <td>1365.8549</td>\n",
       "      <td>0.0036</td>\n",
       "      <td>0.366</td>\n",
       "      <td>6541907027</td>\n",
       "      <td>4.55</td>\n",
       "    </tr>\n",
       "    <tr>\n",
       "      <th>23</th>\n",
       "      <td>2006</td>\n",
       "      <td>12</td>\n",
       "      <td>0.951</td>\n",
       "      <td>381.79</td>\n",
       "      <td>1795.04</td>\n",
       "      <td>320.451</td>\n",
       "      <td>248.480</td>\n",
       "      <td>539.377</td>\n",
       "      <td>1365.7087</td>\n",
       "      <td>0.0054</td>\n",
       "      <td>0.518</td>\n",
       "      <td>6623517833</td>\n",
       "      <td>4.64</td>\n",
       "    </tr>\n",
       "    <tr>\n",
       "      <th>24</th>\n",
       "      <td>2007</td>\n",
       "      <td>12</td>\n",
       "      <td>-1.168</td>\n",
       "      <td>383.89</td>\n",
       "      <td>1805.58</td>\n",
       "      <td>321.217</td>\n",
       "      <td>246.261</td>\n",
       "      <td>537.052</td>\n",
       "      <td>1365.6927</td>\n",
       "      <td>0.0040</td>\n",
       "      <td>0.226</td>\n",
       "      <td>6705946610</td>\n",
       "      <td>4.76</td>\n",
       "    </tr>\n",
       "    <tr>\n",
       "      <th>25</th>\n",
       "      <td>2008</td>\n",
       "      <td>12</td>\n",
       "      <td>-0.666</td>\n",
       "      <td>385.56</td>\n",
       "      <td>1812.88</td>\n",
       "      <td>322.182</td>\n",
       "      <td>244.204</td>\n",
       "      <td>535.005</td>\n",
       "      <td>1365.6926</td>\n",
       "      <td>0.0046</td>\n",
       "      <td>0.330</td>\n",
       "      <td>6789088686</td>\n",
       "      <td>4.73</td>\n",
       "    </tr>\n",
       "  </tbody>\n",
       "</table>\n",
       "</div>"
      ],
      "text/plain": [
       "    Year  Month    MEI     CO2      CH4      N2O   CFC-11   CFC-12        TSI  \\\n",
       "21  2004     12  0.643  377.45  1797.24  318.825  252.754  542.172  1366.1552   \n",
       "22  2005     12 -0.585  379.92  1798.89  319.688  250.989  541.799  1365.8549   \n",
       "23  2006     12  0.951  381.79  1795.04  320.451  248.480  539.377  1365.7087   \n",
       "24  2007     12 -1.168  383.89  1805.58  321.217  246.261  537.052  1365.6927   \n",
       "25  2008     12 -0.666  385.56  1812.88  322.182  244.204  535.005  1365.6926   \n",
       "\n",
       "    Aerosols   Temp  Population  CO2emissionspercapita  \n",
       "21    0.0027  0.381  6461159389                   4.45  \n",
       "22    0.0036  0.366  6541907027                   4.55  \n",
       "23    0.0054  0.518  6623517833                   4.64  \n",
       "24    0.0040  0.226  6705946610                   4.76  \n",
       "25    0.0046  0.330  6789088686                   4.73  "
      ]
     },
     "execution_count": 5,
     "metadata": {},
     "output_type": "execute_result"
    }
   ],
   "source": [
    "dataframe.tail()"
   ]
  },
  {
   "cell_type": "code",
   "execution_count": 6,
   "id": "799d19c8",
   "metadata": {},
   "outputs": [
    {
     "data": {
      "text/plain": [
       "(26, 13)"
      ]
     },
     "execution_count": 6,
     "metadata": {},
     "output_type": "execute_result"
    }
   ],
   "source": [
    "dataframe.shape"
   ]
  },
  {
   "cell_type": "code",
   "execution_count": 7,
   "id": "6b5f54eb",
   "metadata": {},
   "outputs": [
    {
     "name": "stdout",
     "output_type": "stream",
     "text": [
      "<class 'pandas.core.frame.DataFrame'>\n",
      "RangeIndex: 26 entries, 0 to 25\n",
      "Data columns (total 13 columns):\n",
      " #   Column                 Non-Null Count  Dtype  \n",
      "---  ------                 --------------  -----  \n",
      " 0   Year                   26 non-null     int64  \n",
      " 1   Month                  26 non-null     int64  \n",
      " 2   MEI                    26 non-null     float64\n",
      " 3   CO2                    26 non-null     float64\n",
      " 4   CH4                    26 non-null     float64\n",
      " 5   N2O                    26 non-null     float64\n",
      " 6   CFC-11                 26 non-null     float64\n",
      " 7   CFC-12                 26 non-null     float64\n",
      " 8   TSI                    26 non-null     float64\n",
      " 9   Aerosols               26 non-null     float64\n",
      " 10  Temp                   26 non-null     float64\n",
      " 11  Population             26 non-null     int64  \n",
      " 12  CO2emissionspercapita  26 non-null     float64\n",
      "dtypes: float64(10), int64(3)\n",
      "memory usage: 2.8 KB\n"
     ]
    }
   ],
   "source": [
    "dataframe.info()"
   ]
  },
  {
   "cell_type": "code",
   "execution_count": 8,
   "id": "6e8b5dd0",
   "metadata": {},
   "outputs": [
    {
     "data": {
      "text/plain": [
       "False"
      ]
     },
     "execution_count": 8,
     "metadata": {},
     "output_type": "execute_result"
    }
   ],
   "source": [
    "dataframe.isna().sum().any()"
   ]
  },
  {
   "cell_type": "code",
   "execution_count": 9,
   "id": "d4823a27",
   "metadata": {},
   "outputs": [
    {
     "data": {
      "text/plain": [
       "Year                     False\n",
       "Month                    False\n",
       "MEI                      False\n",
       "CO2                      False\n",
       "CH4                      False\n",
       "N2O                      False\n",
       "CFC-11                   False\n",
       "CFC-12                   False\n",
       "TSI                      False\n",
       "Aerosols                 False\n",
       "Temp                     False\n",
       "Population               False\n",
       "CO2emissionspercapita    False\n",
       "dtype: bool"
      ]
     },
     "execution_count": 9,
     "metadata": {},
     "output_type": "execute_result"
    }
   ],
   "source": [
    "dataframe.isna().any()"
   ]
  },
  {
   "cell_type": "code",
   "execution_count": 10,
   "id": "5fc34abe",
   "metadata": {},
   "outputs": [
    {
     "data": {
      "text/plain": [
       "Index(['Year', 'Month', 'MEI', 'CO2', 'CH4', 'N2O', 'CFC-11', 'CFC-12', 'TSI',\n",
       "       'Aerosols', 'Temp', 'Population', 'CO2emissionspercapita'],\n",
       "      dtype='object')"
      ]
     },
     "execution_count": 10,
     "metadata": {},
     "output_type": "execute_result"
    }
   ],
   "source": [
    "dataframe.columns"
   ]
  },
  {
   "cell_type": "markdown",
   "id": "93d7c4b3",
   "metadata": {},
   "source": [
    "# Visualizing Co2 Emission in Different Interval Of Time"
   ]
  },
  {
   "cell_type": "markdown",
   "id": "80bcccc5",
   "metadata": {},
   "source": [
    "From the diagram below we can see that the emission of Co2 has increased rapidly in last 15 years."
   ]
  },
  {
   "cell_type": "code",
   "execution_count": 16,
   "id": "f64b196c",
   "metadata": {},
   "outputs": [
    {
     "data": {
      "image/png": "[encoded data removed]",
      "text/plain": [
       "<Figure size 864x360 with 1 Axes>"
      ]
     },
     "metadata": {
      "needs_background": "light"
     },
     "output_type": "display_data"
    }
   ],
   "source": [
    "plt.rcParams['figure.figsize'] = [12, 5]\n",
    "\n",
    "ax = sns.lineplot(data = dataframe, x = 'Year', y = 'CO2emissionspercapita')\n",
    "\n",
    "from matplotlib.ticker import PercentFormatter\n",
    "ax.yaxis.set_major_formatter(PercentFormatter(1.0))"
   ]
  },
  {
   "cell_type": "markdown",
   "id": "e53840d7",
   "metadata": {},
   "source": [
    "# Statical Info"
   ]
  },
  {
   "cell_type": "markdown",
   "id": "ece2489f",
   "metadata": {},
   "source": [
    "Statistical information refers to numerical data or metrics that describe various aspects of a dataset or population. These statistics provide quantitative measures of central tendency, dispersion, relationships, and other properties of the data."
   ]
  },
  {
   "cell_type": "code",
   "execution_count": 17,
   "id": "11fe1485",
   "metadata": {},
   "outputs": [
    {
     "data": {
      "text/html": [
       "<div>\n",
       "<style scoped>\n",
       "    .dataframe tbody tr th:only-of-type {\n",
       "        vertical-align: middle;\n",
       "    }\n",
       "\n",
       "    .dataframe tbody tr th {\n",
       "        vertical-align: top;\n",
       "    }\n",
       "\n",
       "    .dataframe thead th {\n",
       "        text-align: right;\n",
       "    }\n",
       "</style>\n",
       "<table border=\"1\" class=\"dataframe\">\n",
       "  <thead>\n",
       "    <tr style=\"text-align: right;\">\n",
       "      <th></th>\n",
       "      <th>Year</th>\n",
       "      <th>Month</th>\n",
       "      <th>MEI</th>\n",
       "      <th>CO2</th>\n",
       "      <th>CH4</th>\n",
       "      <th>N2O</th>\n",
       "      <th>CFC-11</th>\n",
       "      <th>CFC-12</th>\n",
       "      <th>TSI</th>\n",
       "      <th>Aerosols</th>\n",
       "      <th>Temp</th>\n",
       "      <th>Population</th>\n",
       "      <th>CO2emissionspercapita</th>\n",
       "    </tr>\n",
       "  </thead>\n",
       "  <tbody>\n",
       "    <tr>\n",
       "      <th>count</th>\n",
       "      <td>26.000000</td>\n",
       "      <td>26.0</td>\n",
       "      <td>26.000000</td>\n",
       "      <td>26.000000</td>\n",
       "      <td>26.000000</td>\n",
       "      <td>26.000000</td>\n",
       "      <td>26.000000</td>\n",
       "      <td>26.000000</td>\n",
       "      <td>26.000000</td>\n",
       "      <td>26.000000</td>\n",
       "      <td>26.000000</td>\n",
       "      <td>2.600000e+01</td>\n",
       "      <td>26.000000</td>\n",
       "    </tr>\n",
       "    <tr>\n",
       "      <th>mean</th>\n",
       "      <td>1995.500000</td>\n",
       "      <td>12.0</td>\n",
       "      <td>0.131692</td>\n",
       "      <td>362.921538</td>\n",
       "      <td>1761.152692</td>\n",
       "      <td>312.783731</td>\n",
       "      <td>252.469577</td>\n",
       "      <td>499.406577</td>\n",
       "      <td>1366.098115</td>\n",
       "      <td>0.016769</td>\n",
       "      <td>0.224462</td>\n",
       "      <td>5.766520e+09</td>\n",
       "      <td>4.244615</td>\n",
       "    </tr>\n",
       "    <tr>\n",
       "      <th>std</th>\n",
       "      <td>7.648529</td>\n",
       "      <td>0.0</td>\n",
       "      <td>0.943217</td>\n",
       "      <td>12.959837</td>\n",
       "      <td>45.944775</td>\n",
       "      <td>5.410247</td>\n",
       "      <td>20.039295</td>\n",
       "      <td>57.564628</td>\n",
       "      <td>0.419458</td>\n",
       "      <td>0.030214</td>\n",
       "      <td>0.187143</td>\n",
       "      <td>6.351239e+08</td>\n",
       "      <td>0.206266</td>\n",
       "    </tr>\n",
       "    <tr>\n",
       "      <th>min</th>\n",
       "      <td>1983.000000</td>\n",
       "      <td>12.0</td>\n",
       "      <td>-1.343000</td>\n",
       "      <td>343.070000</td>\n",
       "      <td>1654.310000</td>\n",
       "      <td>304.082000</td>\n",
       "      <td>196.609000</td>\n",
       "      <td>362.174000</td>\n",
       "      <td>1365.640200</td>\n",
       "      <td>0.002100</td>\n",
       "      <td>-0.282000</td>\n",
       "      <td>4.699569e+09</td>\n",
       "      <td>4.040000</td>\n",
       "    </tr>\n",
       "    <tr>\n",
       "      <th>25%</th>\n",
       "      <td>1989.250000</td>\n",
       "      <td>12.0</td>\n",
       "      <td>-0.584000</td>\n",
       "      <td>353.197500</td>\n",
       "      <td>1735.352500</td>\n",
       "      <td>308.725250</td>\n",
       "      <td>246.815750</td>\n",
       "      <td>478.891000</td>\n",
       "      <td>1365.706150</td>\n",
       "      <td>0.002925</td>\n",
       "      <td>0.107250</td>\n",
       "      <td>5.259889e+09</td>\n",
       "      <td>4.115000</td>\n",
       "    </tr>\n",
       "    <tr>\n",
       "      <th>50%</th>\n",
       "      <td>1995.500000</td>\n",
       "      <td>12.0</td>\n",
       "      <td>0.072500</td>\n",
       "      <td>361.395000</td>\n",
       "      <td>1775.975000</td>\n",
       "      <td>311.893000</td>\n",
       "      <td>258.714000</td>\n",
       "      <td>529.848000</td>\n",
       "      <td>1365.989350</td>\n",
       "      <td>0.005700</td>\n",
       "      <td>0.212500</td>\n",
       "      <td>5.784552e+09</td>\n",
       "      <td>4.165000</td>\n",
       "    </tr>\n",
       "    <tr>\n",
       "      <th>75%</th>\n",
       "      <td>2001.750000</td>\n",
       "      <td>12.0</td>\n",
       "      <td>0.874250</td>\n",
       "      <td>373.077500</td>\n",
       "      <td>1796.202500</td>\n",
       "      <td>317.131250</td>\n",
       "      <td>267.087750</td>\n",
       "      <td>540.406000</td>\n",
       "      <td>1366.349750</td>\n",
       "      <td>0.012150</td>\n",
       "      <td>0.336000</td>\n",
       "      <td>6.281987e+09</td>\n",
       "      <td>4.270000</td>\n",
       "    </tr>\n",
       "    <tr>\n",
       "      <th>max</th>\n",
       "      <td>2008.000000</td>\n",
       "      <td>12.0</td>\n",
       "      <td>2.320000</td>\n",
       "      <td>385.560000</td>\n",
       "      <td>1812.880000</td>\n",
       "      <td>322.182000</td>\n",
       "      <td>271.494000</td>\n",
       "      <td>543.419000</td>\n",
       "      <td>1366.949200</td>\n",
       "      <td>0.138500</td>\n",
       "      <td>0.526000</td>\n",
       "      <td>6.789089e+09</td>\n",
       "      <td>4.760000</td>\n",
       "    </tr>\n",
       "  </tbody>\n",
       "</table>\n",
       "</div>"
      ],
      "text/plain": [
       "              Year  Month        MEI         CO2          CH4         N2O  \\\n",
       "count    26.000000   26.0  26.000000   26.000000    26.000000   26.000000   \n",
       "mean   1995.500000   12.0   0.131692  362.921538  1761.152692  312.783731   \n",
       "std       7.648529    0.0   0.943217   12.959837    45.944775    5.410247   \n",
       "min    1983.000000   12.0  -1.343000  343.070000  1654.310000  304.082000   \n",
       "25%    1989.250000   12.0  -0.584000  353.197500  1735.352500  308.725250   \n",
       "50%    1995.500000   12.0   0.072500  361.395000  1775.975000  311.893000   \n",
       "75%    2001.750000   12.0   0.874250  373.077500  1796.202500  317.131250   \n",
       "max    2008.000000   12.0   2.320000  385.560000  1812.880000  322.182000   \n",
       "\n",
       "           CFC-11      CFC-12          TSI   Aerosols       Temp  \\\n",
       "count   26.000000   26.000000    26.000000  26.000000  26.000000   \n",
       "mean   252.469577  499.406577  1366.098115   0.016769   0.224462   \n",
       "std     20.039295   57.564628     0.419458   0.030214   0.187143   \n",
       "min    196.609000  362.174000  1365.640200   0.002100  -0.282000   \n",
       "25%    246.815750  478.891000  1365.706150   0.002925   0.107250   \n",
       "50%    258.714000  529.848000  1365.989350   0.005700   0.212500   \n",
       "75%    267.087750  540.406000  1366.349750   0.012150   0.336000   \n",
       "max    271.494000  543.419000  1366.949200   0.138500   0.526000   \n",
       "\n",
       "         Population  CO2emissionspercapita  \n",
       "count  2.600000e+01              26.000000  \n",
       "mean   5.766520e+09               4.244615  \n",
       "std    6.351239e+08               0.206266  \n",
       "min    4.699569e+09               4.040000  \n",
       "25%    5.259889e+09               4.115000  \n",
       "50%    5.784552e+09               4.165000  \n",
       "75%    6.281987e+09               4.270000  \n",
       "max    6.789089e+09               4.760000  "
      ]
     },
     "execution_count": 17,
     "metadata": {},
     "output_type": "execute_result"
    }
   ],
   "source": [
    "dataframe.describe()"
   ]
  },
  {
   "cell_type": "markdown",
   "id": "d99aa914",
   "metadata": {},
   "source": [
    "# Correlation Matrix"
   ]
  },
  {
   "cell_type": "markdown",
   "id": "02935dad",
   "metadata": {},
   "source": [
    "A correlation matrix is a table that shows the pairwise correlations between variables in a dataset. Each cell in the table represents the correlation between two variables, and the strength and direction of the correlation is indicated by the color and magnitude of the cell.\n",
    "\n",
    "Correlation matrices are commonly used in data analysis to identify relationships between variables and to help understand the structure of the data. The values in the correlation matrix range from -1 to 1, with -1 indicating a perfect negative correlation, 1 indicating a perfect positive correlation, and 0 indicating no correlation."
   ]
  },
  {
   "cell_type": "code",
   "execution_count": 18,
   "id": "0dc96899",
   "metadata": {},
   "outputs": [],
   "source": [
    "corr_matrix = dataframe.corr()"
   ]
  },
  {
   "cell_type": "code",
   "execution_count": 19,
   "id": "0081f31e",
   "metadata": {},
   "outputs": [
    {
     "data": {
      "text/html": [
       "<div>\n",
       "<style scoped>\n",
       "    .dataframe tbody tr th:only-of-type {\n",
       "        vertical-align: middle;\n",
       "    }\n",
       "\n",
       "    .dataframe tbody tr th {\n",
       "        vertical-align: top;\n",
       "    }\n",
       "\n",
       "    .dataframe thead th {\n",
       "        text-align: right;\n",
       "    }\n",
       "</style>\n",
       "<table border=\"1\" class=\"dataframe\">\n",
       "  <thead>\n",
       "    <tr style=\"text-align: right;\">\n",
       "      <th></th>\n",
       "      <th>Year</th>\n",
       "      <th>Month</th>\n",
       "      <th>MEI</th>\n",
       "      <th>CO2</th>\n",
       "      <th>CH4</th>\n",
       "      <th>N2O</th>\n",
       "      <th>CFC-11</th>\n",
       "      <th>CFC-12</th>\n",
       "      <th>TSI</th>\n",
       "      <th>Aerosols</th>\n",
       "      <th>Temp</th>\n",
       "      <th>Population</th>\n",
       "      <th>CO2emissionspercapita</th>\n",
       "    </tr>\n",
       "  </thead>\n",
       "  <tbody>\n",
       "    <tr>\n",
       "      <th>Year</th>\n",
       "      <td>1.000000</td>\n",
       "      <td>NaN</td>\n",
       "      <td>-0.120235</td>\n",
       "      <td>0.996468</td>\n",
       "      <td>0.919019</td>\n",
       "      <td>0.996096</td>\n",
       "      <td>0.419276</td>\n",
       "      <td>0.861932</td>\n",
       "      <td>0.078423</td>\n",
       "      <td>-0.340784</td>\n",
       "      <td>0.721911</td>\n",
       "      <td>0.999652</td>\n",
       "      <td>0.648312</td>\n",
       "    </tr>\n",
       "    <tr>\n",
       "      <th>Month</th>\n",
       "      <td>NaN</td>\n",
       "      <td>NaN</td>\n",
       "      <td>NaN</td>\n",
       "      <td>NaN</td>\n",
       "      <td>NaN</td>\n",
       "      <td>NaN</td>\n",
       "      <td>NaN</td>\n",
       "      <td>NaN</td>\n",
       "      <td>NaN</td>\n",
       "      <td>NaN</td>\n",
       "      <td>NaN</td>\n",
       "      <td>NaN</td>\n",
       "      <td>NaN</td>\n",
       "    </tr>\n",
       "    <tr>\n",
       "      <th>MEI</th>\n",
       "      <td>-0.120235</td>\n",
       "      <td>NaN</td>\n",
       "      <td>1.000000</td>\n",
       "      <td>-0.143940</td>\n",
       "      <td>-0.065620</td>\n",
       "      <td>-0.134603</td>\n",
       "      <td>0.163090</td>\n",
       "      <td>0.010181</td>\n",
       "      <td>-0.075435</td>\n",
       "      <td>0.290140</td>\n",
       "      <td>0.204414</td>\n",
       "      <td>-0.114456</td>\n",
       "      <td>-0.220075</td>\n",
       "    </tr>\n",
       "    <tr>\n",
       "      <th>CO2</th>\n",
       "      <td>0.996468</td>\n",
       "      <td>NaN</td>\n",
       "      <td>-0.143940</td>\n",
       "      <td>1.000000</td>\n",
       "      <td>0.892215</td>\n",
       "      <td>0.997846</td>\n",
       "      <td>0.362871</td>\n",
       "      <td>0.825592</td>\n",
       "      <td>0.069089</td>\n",
       "      <td>-0.352806</td>\n",
       "      <td>0.718282</td>\n",
       "      <td>0.994463</td>\n",
       "      <td>0.701557</td>\n",
       "    </tr>\n",
       "    <tr>\n",
       "      <th>CH4</th>\n",
       "      <td>0.919019</td>\n",
       "      <td>NaN</td>\n",
       "      <td>-0.065620</td>\n",
       "      <td>0.892215</td>\n",
       "      <td>1.000000</td>\n",
       "      <td>0.898145</td>\n",
       "      <td>0.722420</td>\n",
       "      <td>0.981221</td>\n",
       "      <td>0.186603</td>\n",
       "      <td>-0.261628</td>\n",
       "      <td>0.721507</td>\n",
       "      <td>0.928396</td>\n",
       "      <td>0.389714</td>\n",
       "    </tr>\n",
       "    <tr>\n",
       "      <th>N2O</th>\n",
       "      <td>0.996096</td>\n",
       "      <td>NaN</td>\n",
       "      <td>-0.134603</td>\n",
       "      <td>0.997846</td>\n",
       "      <td>0.898145</td>\n",
       "      <td>1.000000</td>\n",
       "      <td>0.375138</td>\n",
       "      <td>0.832338</td>\n",
       "      <td>0.092810</td>\n",
       "      <td>-0.323711</td>\n",
       "      <td>0.701529</td>\n",
       "      <td>0.994446</td>\n",
       "      <td>0.684825</td>\n",
       "    </tr>\n",
       "    <tr>\n",
       "      <th>CFC-11</th>\n",
       "      <td>0.419276</td>\n",
       "      <td>NaN</td>\n",
       "      <td>0.163090</td>\n",
       "      <td>0.362871</td>\n",
       "      <td>0.722420</td>\n",
       "      <td>0.375138</td>\n",
       "      <td>1.000000</td>\n",
       "      <td>0.814453</td>\n",
       "      <td>0.276913</td>\n",
       "      <td>0.036161</td>\n",
       "      <td>0.425829</td>\n",
       "      <td>0.442534</td>\n",
       "      <td>-0.136941</td>\n",
       "    </tr>\n",
       "    <tr>\n",
       "      <th>CFC-12</th>\n",
       "      <td>0.861932</td>\n",
       "      <td>NaN</td>\n",
       "      <td>0.010181</td>\n",
       "      <td>0.825592</td>\n",
       "      <td>0.981221</td>\n",
       "      <td>0.832338</td>\n",
       "      <td>0.814453</td>\n",
       "      <td>1.000000</td>\n",
       "      <td>0.232667</td>\n",
       "      <td>-0.207960</td>\n",
       "      <td>0.708054</td>\n",
       "      <td>0.874584</td>\n",
       "      <td>0.287690</td>\n",
       "    </tr>\n",
       "    <tr>\n",
       "      <th>TSI</th>\n",
       "      <td>0.078423</td>\n",
       "      <td>NaN</td>\n",
       "      <td>-0.075435</td>\n",
       "      <td>0.069089</td>\n",
       "      <td>0.186603</td>\n",
       "      <td>0.092810</td>\n",
       "      <td>0.276913</td>\n",
       "      <td>0.232667</td>\n",
       "      <td>1.000000</td>\n",
       "      <td>-0.116439</td>\n",
       "      <td>0.175297</td>\n",
       "      <td>0.083694</td>\n",
       "      <td>-0.231023</td>\n",
       "    </tr>\n",
       "    <tr>\n",
       "      <th>Aerosols</th>\n",
       "      <td>-0.340784</td>\n",
       "      <td>NaN</td>\n",
       "      <td>0.290140</td>\n",
       "      <td>-0.352806</td>\n",
       "      <td>-0.261628</td>\n",
       "      <td>-0.323711</td>\n",
       "      <td>0.036161</td>\n",
       "      <td>-0.207960</td>\n",
       "      <td>-0.116439</td>\n",
       "      <td>1.000000</td>\n",
       "      <td>-0.403628</td>\n",
       "      <td>-0.333378</td>\n",
       "      <td>-0.242181</td>\n",
       "    </tr>\n",
       "    <tr>\n",
       "      <th>Temp</th>\n",
       "      <td>0.721911</td>\n",
       "      <td>NaN</td>\n",
       "      <td>0.204414</td>\n",
       "      <td>0.718282</td>\n",
       "      <td>0.721507</td>\n",
       "      <td>0.701529</td>\n",
       "      <td>0.425829</td>\n",
       "      <td>0.708054</td>\n",
       "      <td>0.175297</td>\n",
       "      <td>-0.403628</td>\n",
       "      <td>1.000000</td>\n",
       "      <td>0.724261</td>\n",
       "      <td>0.360749</td>\n",
       "    </tr>\n",
       "    <tr>\n",
       "      <th>Population</th>\n",
       "      <td>0.999652</td>\n",
       "      <td>NaN</td>\n",
       "      <td>-0.114456</td>\n",
       "      <td>0.994463</td>\n",
       "      <td>0.928396</td>\n",
       "      <td>0.994446</td>\n",
       "      <td>0.442534</td>\n",
       "      <td>0.874584</td>\n",
       "      <td>0.083694</td>\n",
       "      <td>-0.333378</td>\n",
       "      <td>0.724261</td>\n",
       "      <td>1.000000</td>\n",
       "      <td>0.636049</td>\n",
       "    </tr>\n",
       "    <tr>\n",
       "      <th>CO2emissionspercapita</th>\n",
       "      <td>0.648312</td>\n",
       "      <td>NaN</td>\n",
       "      <td>-0.220075</td>\n",
       "      <td>0.701557</td>\n",
       "      <td>0.389714</td>\n",
       "      <td>0.684825</td>\n",
       "      <td>-0.136941</td>\n",
       "      <td>0.287690</td>\n",
       "      <td>-0.231023</td>\n",
       "      <td>-0.242181</td>\n",
       "      <td>0.360749</td>\n",
       "      <td>0.636049</td>\n",
       "      <td>1.000000</td>\n",
       "    </tr>\n",
       "  </tbody>\n",
       "</table>\n",
       "</div>"
      ],
      "text/plain": [
       "                           Year  Month       MEI       CO2       CH4  \\\n",
       "Year                   1.000000    NaN -0.120235  0.996468  0.919019   \n",
       "Month                       NaN    NaN       NaN       NaN       NaN   \n",
       "MEI                   -0.120235    NaN  1.000000 -0.143940 -0.065620   \n",
       "CO2                    0.996468    NaN -0.143940  1.000000  0.892215   \n",
       "CH4                    0.919019    NaN -0.065620  0.892215  1.000000   \n",
       "N2O                    0.996096    NaN -0.134603  0.997846  0.898145   \n",
       "CFC-11                 0.419276    NaN  0.163090  0.362871  0.722420   \n",
       "CFC-12                 0.861932    NaN  0.010181  0.825592  0.981221   \n",
       "TSI                    0.078423    NaN -0.075435  0.069089  0.186603   \n",
       "Aerosols              -0.340784    NaN  0.290140 -0.352806 -0.261628   \n",
       "Temp                   0.721911    NaN  0.204414  0.718282  0.721507   \n",
       "Population             0.999652    NaN -0.114456  0.994463  0.928396   \n",
       "CO2emissionspercapita  0.648312    NaN -0.220075  0.701557  0.389714   \n",
       "\n",
       "                            N2O    CFC-11    CFC-12       TSI  Aerosols  \\\n",
       "Year                   0.996096  0.419276  0.861932  0.078423 -0.340784   \n",
       "Month                       NaN       NaN       NaN       NaN       NaN   \n",
       "MEI                   -0.134603  0.163090  0.010181 -0.075435  0.290140   \n",
       "CO2                    0.997846  0.362871  0.825592  0.069089 -0.352806   \n",
       "CH4                    0.898145  0.722420  0.981221  0.186603 -0.261628   \n",
       "N2O                    1.000000  0.375138  0.832338  0.092810 -0.323711   \n",
       "CFC-11                 0.375138  1.000000  0.814453  0.276913  0.036161   \n",
       "CFC-12                 0.832338  0.814453  1.000000  0.232667 -0.207960   \n",
       "TSI                    0.092810  0.276913  0.232667  1.000000 -0.116439   \n",
       "Aerosols              -0.323711  0.036161 -0.207960 -0.116439  1.000000   \n",
       "Temp                   0.701529  0.425829  0.708054  0.175297 -0.403628   \n",
       "Population             0.994446  0.442534  0.874584  0.083694 -0.333378   \n",
       "CO2emissionspercapita  0.684825 -0.136941  0.287690 -0.231023 -0.242181   \n",
       "\n",
       "                           Temp  Population  CO2emissionspercapita  \n",
       "Year                   0.721911    0.999652               0.648312  \n",
       "Month                       NaN         NaN                    NaN  \n",
       "MEI                    0.204414   -0.114456              -0.220075  \n",
       "CO2                    0.718282    0.994463               0.701557  \n",
       "CH4                    0.721507    0.928396               0.389714  \n",
       "N2O                    0.701529    0.994446               0.684825  \n",
       "CFC-11                 0.425829    0.442534              -0.136941  \n",
       "CFC-12                 0.708054    0.874584               0.287690  \n",
       "TSI                    0.175297    0.083694              -0.231023  \n",
       "Aerosols              -0.403628   -0.333378              -0.242181  \n",
       "Temp                   1.000000    0.724261               0.360749  \n",
       "Population             0.724261    1.000000               0.636049  \n",
       "CO2emissionspercapita  0.360749    0.636049               1.000000  "
      ]
     },
     "execution_count": 19,
     "metadata": {},
     "output_type": "execute_result"
    }
   ],
   "source": [
    "corr_matrix"
   ]
  },
  {
   "cell_type": "code",
   "execution_count": 20,
   "id": "5d63edf8",
   "metadata": {},
   "outputs": [
    {
     "data": {
      "text/plain": [
       "<AxesSubplot:>"
      ]
     },
     "execution_count": 20,
     "metadata": {},
     "output_type": "execute_result"
    },
    {
     "data": {
      "image/png": "[encoded data removed]",
      "text/plain": [
       "<Figure size 864x432 with 2 Axes>"
      ]
     },
     "metadata": {
      "needs_background": "light"
     },
     "output_type": "display_data"
    }
   ],
   "source": [
    "plt.figure(figsize = (12, 6))\n",
    "sns.heatmap(corr_matrix, \n",
    "            annot = True, \n",
    "            cmap = 'inferno')"
   ]
  },
  {
   "cell_type": "markdown",
   "id": "2ba2b8bf",
   "metadata": {},
   "source": [
    "# Correlation Of Co2 Emission With Different Attributes"
   ]
  },
  {
   "cell_type": "code",
   "execution_count": 22,
   "id": "d1a4ddbf",
   "metadata": {},
   "outputs": [
    {
     "data": {
      "text/plain": [
       "Index(['Year', 'Month', 'MEI', 'CO2', 'CH4', 'N2O', 'CFC-11', 'CFC-12', 'TSI',\n",
       "       'Aerosols', 'Temp', 'Population', 'CO2emissionspercapita'],\n",
       "      dtype='object')"
      ]
     },
     "execution_count": 22,
     "metadata": {},
     "output_type": "execute_result"
    }
   ],
   "source": [
    "dataframe.columns"
   ]
  },
  {
   "cell_type": "code",
   "execution_count": 24,
   "id": "d2c15c46",
   "metadata": {},
   "outputs": [],
   "source": [
    "dataset = dataframe.drop('CO2emissionspercapita', axis = 1)"
   ]
  },
  {
   "cell_type": "code",
   "execution_count": 25,
   "id": "5323eae8",
   "metadata": {},
   "outputs": [
    {
     "data": {
      "text/html": [
       "<div>\n",
       "<style scoped>\n",
       "    .dataframe tbody tr th:only-of-type {\n",
       "        vertical-align: middle;\n",
       "    }\n",
       "\n",
       "    .dataframe tbody tr th {\n",
       "        vertical-align: top;\n",
       "    }\n",
       "\n",
       "    .dataframe thead th {\n",
       "        text-align: right;\n",
       "    }\n",
       "</style>\n",
       "<table border=\"1\" class=\"dataframe\">\n",
       "  <thead>\n",
       "    <tr style=\"text-align: right;\">\n",
       "      <th></th>\n",
       "      <th>Year</th>\n",
       "      <th>Month</th>\n",
       "      <th>MEI</th>\n",
       "      <th>CO2</th>\n",
       "      <th>CH4</th>\n",
       "      <th>N2O</th>\n",
       "      <th>CFC-11</th>\n",
       "      <th>CFC-12</th>\n",
       "      <th>TSI</th>\n",
       "      <th>Aerosols</th>\n",
       "      <th>Temp</th>\n",
       "      <th>Population</th>\n",
       "    </tr>\n",
       "  </thead>\n",
       "  <tbody>\n",
       "    <tr>\n",
       "      <th>0</th>\n",
       "      <td>1983</td>\n",
       "      <td>12</td>\n",
       "      <td>-0.176</td>\n",
       "      <td>343.07</td>\n",
       "      <td>1654.31</td>\n",
       "      <td>304.082</td>\n",
       "      <td>196.609</td>\n",
       "      <td>362.174</td>\n",
       "      <td>1366.0607</td>\n",
       "      <td>0.0486</td>\n",
       "      <td>0.078</td>\n",
       "      <td>4699569304</td>\n",
       "    </tr>\n",
       "    <tr>\n",
       "      <th>1</th>\n",
       "      <td>1984</td>\n",
       "      <td>12</td>\n",
       "      <td>-0.611</td>\n",
       "      <td>344.54</td>\n",
       "      <td>1672.15</td>\n",
       "      <td>305.313</td>\n",
       "      <td>207.308</td>\n",
       "      <td>372.701</td>\n",
       "      <td>1365.7617</td>\n",
       "      <td>0.0188</td>\n",
       "      <td>-0.282</td>\n",
       "      <td>4784011621</td>\n",
       "    </tr>\n",
       "    <tr>\n",
       "      <th>2</th>\n",
       "      <td>1985</td>\n",
       "      <td>12</td>\n",
       "      <td>-0.293</td>\n",
       "      <td>345.82</td>\n",
       "      <td>1677.99</td>\n",
       "      <td>305.653</td>\n",
       "      <td>217.326</td>\n",
       "      <td>394.539</td>\n",
       "      <td>1365.6794</td>\n",
       "      <td>0.0122</td>\n",
       "      <td>-0.002</td>\n",
       "      <td>4870921740</td>\n",
       "    </tr>\n",
       "    <tr>\n",
       "      <th>3</th>\n",
       "      <td>1986</td>\n",
       "      <td>12</td>\n",
       "      <td>1.183</td>\n",
       "      <td>347.15</td>\n",
       "      <td>1698.08</td>\n",
       "      <td>306.612</td>\n",
       "      <td>229.058</td>\n",
       "      <td>411.112</td>\n",
       "      <td>1365.6717</td>\n",
       "      <td>0.0120</td>\n",
       "      <td>0.022</td>\n",
       "      <td>4960567912</td>\n",
       "    </tr>\n",
       "    <tr>\n",
       "      <th>4</th>\n",
       "      <td>1987</td>\n",
       "      <td>12</td>\n",
       "      <td>1.251</td>\n",
       "      <td>349.18</td>\n",
       "      <td>1708.14</td>\n",
       "      <td>306.503</td>\n",
       "      <td>240.058</td>\n",
       "      <td>436.000</td>\n",
       "      <td>1366.0350</td>\n",
       "      <td>0.0089</td>\n",
       "      <td>0.314</td>\n",
       "      <td>5052522147</td>\n",
       "    </tr>\n",
       "  </tbody>\n",
       "</table>\n",
       "</div>"
      ],
      "text/plain": [
       "   Year  Month    MEI     CO2      CH4      N2O   CFC-11   CFC-12        TSI  \\\n",
       "0  1983     12 -0.176  343.07  1654.31  304.082  196.609  362.174  1366.0607   \n",
       "1  1984     12 -0.611  344.54  1672.15  305.313  207.308  372.701  1365.7617   \n",
       "2  1985     12 -0.293  345.82  1677.99  305.653  217.326  394.539  1365.6794   \n",
       "3  1986     12  1.183  347.15  1698.08  306.612  229.058  411.112  1365.6717   \n",
       "4  1987     12  1.251  349.18  1708.14  306.503  240.058  436.000  1366.0350   \n",
       "\n",
       "   Aerosols   Temp  Population  \n",
       "0    0.0486  0.078  4699569304  \n",
       "1    0.0188 -0.282  4784011621  \n",
       "2    0.0122 -0.002  4870921740  \n",
       "3    0.0120  0.022  4960567912  \n",
       "4    0.0089  0.314  5052522147  "
      ]
     },
     "execution_count": 25,
     "metadata": {},
     "output_type": "execute_result"
    }
   ],
   "source": [
    "dataset.head()"
   ]
  },
  {
   "cell_type": "code",
   "execution_count": 26,
   "id": "ef587996",
   "metadata": {},
   "outputs": [
    {
     "data": {
      "text/plain": [
       "<AxesSubplot:title={'center':'Correlation With Co2 Emission Per Capita'}>"
      ]
     },
     "execution_count": 26,
     "metadata": {},
     "output_type": "execute_result"
    },
    {
     "data": {
      "image/png": "[encoded data removed]",
      "text/plain": [
       "<Figure size 864x360 with 1 Axes>"
      ]
     },
     "metadata": {
      "needs_background": "light"
     },
     "output_type": "display_data"
    }
   ],
   "source": [
    "dataset.corrwith(dataframe['CO2emissionspercapita']).plot.bar(\n",
    "    title = 'Correlation With Co2 Emission Per Capita', \n",
    "    figsize = (12, 5), \n",
    "    cmap = 'plasma'\n",
    ")"
   ]
  },
  {
   "cell_type": "code",
   "execution_count": 27,
   "id": "531fb134",
   "metadata": {},
   "outputs": [
    {
     "data": {
      "text/html": [
       "<div>\n",
       "<style scoped>\n",
       "    .dataframe tbody tr th:only-of-type {\n",
       "        vertical-align: middle;\n",
       "    }\n",
       "\n",
       "    .dataframe tbody tr th {\n",
       "        vertical-align: top;\n",
       "    }\n",
       "\n",
       "    .dataframe thead th {\n",
       "        text-align: right;\n",
       "    }\n",
       "</style>\n",
       "<table border=\"1\" class=\"dataframe\">\n",
       "  <thead>\n",
       "    <tr style=\"text-align: right;\">\n",
       "      <th></th>\n",
       "      <th>Year</th>\n",
       "      <th>Month</th>\n",
       "      <th>MEI</th>\n",
       "      <th>CO2</th>\n",
       "      <th>CH4</th>\n",
       "      <th>N2O</th>\n",
       "      <th>CFC-11</th>\n",
       "      <th>CFC-12</th>\n",
       "      <th>TSI</th>\n",
       "      <th>Aerosols</th>\n",
       "      <th>Temp</th>\n",
       "      <th>Population</th>\n",
       "      <th>CO2emissionspercapita</th>\n",
       "    </tr>\n",
       "  </thead>\n",
       "  <tbody>\n",
       "    <tr>\n",
       "      <th>0</th>\n",
       "      <td>1983</td>\n",
       "      <td>12</td>\n",
       "      <td>-0.176</td>\n",
       "      <td>343.07</td>\n",
       "      <td>1654.31</td>\n",
       "      <td>304.082</td>\n",
       "      <td>196.609</td>\n",
       "      <td>362.174</td>\n",
       "      <td>1366.0607</td>\n",
       "      <td>0.0486</td>\n",
       "      <td>0.078</td>\n",
       "      <td>4699569304</td>\n",
       "      <td>4.11</td>\n",
       "    </tr>\n",
       "    <tr>\n",
       "      <th>1</th>\n",
       "      <td>1984</td>\n",
       "      <td>12</td>\n",
       "      <td>-0.611</td>\n",
       "      <td>344.54</td>\n",
       "      <td>1672.15</td>\n",
       "      <td>305.313</td>\n",
       "      <td>207.308</td>\n",
       "      <td>372.701</td>\n",
       "      <td>1365.7617</td>\n",
       "      <td>0.0188</td>\n",
       "      <td>-0.282</td>\n",
       "      <td>4784011621</td>\n",
       "      <td>4.16</td>\n",
       "    </tr>\n",
       "    <tr>\n",
       "      <th>2</th>\n",
       "      <td>1985</td>\n",
       "      <td>12</td>\n",
       "      <td>-0.293</td>\n",
       "      <td>345.82</td>\n",
       "      <td>1677.99</td>\n",
       "      <td>305.653</td>\n",
       "      <td>217.326</td>\n",
       "      <td>394.539</td>\n",
       "      <td>1365.6794</td>\n",
       "      <td>0.0122</td>\n",
       "      <td>-0.002</td>\n",
       "      <td>4870921740</td>\n",
       "      <td>4.14</td>\n",
       "    </tr>\n",
       "    <tr>\n",
       "      <th>3</th>\n",
       "      <td>1986</td>\n",
       "      <td>12</td>\n",
       "      <td>1.183</td>\n",
       "      <td>347.15</td>\n",
       "      <td>1698.08</td>\n",
       "      <td>306.612</td>\n",
       "      <td>229.058</td>\n",
       "      <td>411.112</td>\n",
       "      <td>1365.6717</td>\n",
       "      <td>0.0120</td>\n",
       "      <td>0.022</td>\n",
       "      <td>4960567912</td>\n",
       "      <td>4.14</td>\n",
       "    </tr>\n",
       "    <tr>\n",
       "      <th>4</th>\n",
       "      <td>1987</td>\n",
       "      <td>12</td>\n",
       "      <td>1.251</td>\n",
       "      <td>349.18</td>\n",
       "      <td>1708.14</td>\n",
       "      <td>306.503</td>\n",
       "      <td>240.058</td>\n",
       "      <td>436.000</td>\n",
       "      <td>1366.0350</td>\n",
       "      <td>0.0089</td>\n",
       "      <td>0.314</td>\n",
       "      <td>5052522147</td>\n",
       "      <td>4.20</td>\n",
       "    </tr>\n",
       "  </tbody>\n",
       "</table>\n",
       "</div>"
      ],
      "text/plain": [
       "   Year  Month    MEI     CO2      CH4      N2O   CFC-11   CFC-12        TSI  \\\n",
       "0  1983     12 -0.176  343.07  1654.31  304.082  196.609  362.174  1366.0607   \n",
       "1  1984     12 -0.611  344.54  1672.15  305.313  207.308  372.701  1365.7617   \n",
       "2  1985     12 -0.293  345.82  1677.99  305.653  217.326  394.539  1365.6794   \n",
       "3  1986     12  1.183  347.15  1698.08  306.612  229.058  411.112  1365.6717   \n",
       "4  1987     12  1.251  349.18  1708.14  306.503  240.058  436.000  1366.0350   \n",
       "\n",
       "   Aerosols   Temp  Population  CO2emissionspercapita  \n",
       "0    0.0486  0.078  4699569304                   4.11  \n",
       "1    0.0188 -0.282  4784011621                   4.16  \n",
       "2    0.0122 -0.002  4870921740                   4.14  \n",
       "3    0.0120  0.022  4960567912                   4.14  \n",
       "4    0.0089  0.314  5052522147                   4.20  "
      ]
     },
     "execution_count": 27,
     "metadata": {},
     "output_type": "execute_result"
    }
   ],
   "source": [
    "dataframe.head()"
   ]
  },
  {
   "cell_type": "markdown",
   "id": "1753c162",
   "metadata": {},
   "source": [
    "# Splitting Dataset"
   ]
  },
  {
   "cell_type": "markdown",
   "id": "b8062691",
   "metadata": {},
   "source": [
    "Splitting a dataset refers to the process of dividing a given dataset into two or more subsets for training and evaluation purposes. The most common type of split is between the training set and the testing (or validation) set. This division allows us to assess the performance of a machine learning model on unseen data and evaluate its generalization capabilities.\n",
    "\n",
    "Train-Test Split: This is the most basic type of split, where the dataset is divided into a training set and a testing set. The training set is used to train the machine learning model, while the testing set is used to evaluate its performance. The split is typically done using a fixed ratio, such as 80% for training and 20% for testing."
   ]
  },
  {
   "cell_type": "code",
   "execution_count": 28,
   "id": "dbd7f6b2",
   "metadata": {},
   "outputs": [],
   "source": [
    "x = dataframe.drop('CO2emissionspercapita', axis = 1)\n",
    "y = dataframe['CO2emissionspercapita']"
   ]
  },
  {
   "cell_type": "code",
   "execution_count": 29,
   "id": "7bb4a517",
   "metadata": {},
   "outputs": [
    {
     "data": {
      "text/plain": [
       "((26, 12), (26,))"
      ]
     },
     "execution_count": 29,
     "metadata": {},
     "output_type": "execute_result"
    }
   ],
   "source": [
    "x.shape, y.shape"
   ]
  },
  {
   "cell_type": "code",
   "execution_count": 30,
   "id": "325bdf90",
   "metadata": {},
   "outputs": [],
   "source": [
    "from sklearn.model_selection import train_test_split"
   ]
  },
  {
   "cell_type": "code",
   "execution_count": 32,
   "id": "f6ddb200",
   "metadata": {},
   "outputs": [],
   "source": [
    "x_train, x_test, y_train, y_test = train_test_split(x, \n",
    "                                                    y, \n",
    "                                                    test_size = 0.2, \n",
    "                                                    random_state = 42)"
   ]
  },
  {
   "cell_type": "code",
   "execution_count": 33,
   "id": "cded5667",
   "metadata": {},
   "outputs": [
    {
     "data": {
      "text/plain": [
       "((20, 12), (6, 12), (20,), (6,))"
      ]
     },
     "execution_count": 33,
     "metadata": {},
     "output_type": "execute_result"
    }
   ],
   "source": [
    "x_train.shape, x_test.shape, y_train.shape, y_test.shape"
   ]
  },
  {
   "cell_type": "markdown",
   "id": "611194fb",
   "metadata": {},
   "source": [
    "# Model Selection And Training"
   ]
  },
  {
   "cell_type": "code",
   "execution_count": 37,
   "id": "19d04529",
   "metadata": {},
   "outputs": [],
   "source": [
    "from sklearn.linear_model import LinearRegression"
   ]
  },
  {
   "cell_type": "code",
   "execution_count": 38,
   "id": "ca01753c",
   "metadata": {},
   "outputs": [],
   "source": [
    "model = LinearRegression()"
   ]
  },
  {
   "cell_type": "code",
   "execution_count": 39,
   "id": "68894855",
   "metadata": {},
   "outputs": [
    {
     "data": {
      "text/html": [
       "<style>#sk-container-id-1 {color: black;background-color: white;}#sk-container-id-1 pre{padding: 0;}#sk-container-id-1 div.sk-toggleable {background-color: white;}#sk-container-id-1 label.sk-toggleable__label {cursor: pointer;display: block;width: 100%;margin-bottom: 0;padding: 0.3em;box-sizing: border-box;text-align: center;}#sk-container-id-1 label.sk-toggleable__label-arrow:before {content: \"▸\";float: left;margin-right: 0.25em;color: #696969;}#sk-container-id-1 label.sk-toggleable__label-arrow:hover:before {color: black;}#sk-container-id-1 div.sk-estimator:hover label.sk-toggleable__label-arrow:before {color: black;}#sk-container-id-1 div.sk-toggleable__content {max-height: 0;max-width: 0;overflow: hidden;text-align: left;background-color: #f0f8ff;}#sk-container-id-1 div.sk-toggleable__content pre {margin: 0.2em;color: black;border-radius: 0.25em;background-color: #f0f8ff;}#sk-container-id-1 input.sk-toggleable__control:checked~div.sk-toggleable__content {max-height: 200px;max-width: 100%;overflow: auto;}#sk-container-id-1 input.sk-toggleable__control:checked~label.sk-toggleable__label-arrow:before {content: \"▾\";}#sk-container-id-1 div.sk-estimator input.sk-toggleable__control:checked~label.sk-toggleable__label {background-color: #d4ebff;}#sk-container-id-1 div.sk-label input.sk-toggleable__control:checked~label.sk-toggleable__label {background-color: #d4ebff;}#sk-container-id-1 input.sk-hidden--visually {border: 0;clip: rect(1px 1px 1px 1px);clip: rect(1px, 1px, 1px, 1px);height: 1px;margin: -1px;overflow: hidden;padding: 0;position: absolute;width: 1px;}#sk-container-id-1 div.sk-estimator {font-family: monospace;background-color: #f0f8ff;border: 1px dotted black;border-radius: 0.25em;box-sizing: border-box;margin-bottom: 0.5em;}#sk-container-id-1 div.sk-estimator:hover {background-color: #d4ebff;}#sk-container-id-1 div.sk-parallel-item::after {content: \"\";width: 100%;border-bottom: 1px solid gray;flex-grow: 1;}#sk-container-id-1 div.sk-label:hover label.sk-toggleable__label {background-color: #d4ebff;}#sk-container-id-1 div.sk-serial::before {content: \"\";position: absolute;border-left: 1px solid gray;box-sizing: border-box;top: 0;bottom: 0;left: 50%;z-index: 0;}#sk-container-id-1 div.sk-serial {display: flex;flex-direction: column;align-items: center;background-color: white;padding-right: 0.2em;padding-left: 0.2em;position: relative;}#sk-container-id-1 div.sk-item {position: relative;z-index: 1;}#sk-container-id-1 div.sk-parallel {display: flex;align-items: stretch;justify-content: center;background-color: white;position: relative;}#sk-container-id-1 div.sk-item::before, #sk-container-id-1 div.sk-parallel-item::before {content: \"\";position: absolute;border-left: 1px solid gray;box-sizing: border-box;top: 0;bottom: 0;left: 50%;z-index: -1;}#sk-container-id-1 div.sk-parallel-item {display: flex;flex-direction: column;z-index: 1;position: relative;background-color: white;}#sk-container-id-1 div.sk-parallel-item:first-child::after {align-self: flex-end;width: 50%;}#sk-container-id-1 div.sk-parallel-item:last-child::after {align-self: flex-start;width: 50%;}#sk-container-id-1 div.sk-parallel-item:only-child::after {width: 0;}#sk-container-id-1 div.sk-dashed-wrapped {border: 1px dashed gray;margin: 0 0.4em 0.5em 0.4em;box-sizing: border-box;padding-bottom: 0.4em;background-color: white;}#sk-container-id-1 div.sk-label label {font-family: monospace;font-weight: bold;display: inline-block;line-height: 1.2em;}#sk-container-id-1 div.sk-label-container {text-align: center;}#sk-container-id-1 div.sk-container {/* jupyter's `normalize.less` sets `[hidden] { display: none; }` but bootstrap.min.css set `[hidden] { display: none !important; }` so we also need the `!important` here to be able to override the default hidden behavior on the sphinx rendered scikit-learn.org. See: https://github.com/scikit-learn/scikit-learn/issues/21755 */display: inline-block !important;position: relative;}#sk-container-id-1 div.sk-text-repr-fallback {display: none;}</style><div id=\"sk-container-id-1\" class=\"sk-top-container\"><div class=\"sk-text-repr-fallback\"><pre>LinearRegression()</pre><b>In a Jupyter environment, please rerun this cell to show the HTML representation or trust the notebook. <br />On GitHub, the HTML representation is unable to render, please try loading this page with nbviewer.org.</b></div><div class=\"sk-container\" hidden><div class=\"sk-item\"><div class=\"sk-estimator sk-toggleable\"><input class=\"sk-toggleable__control sk-hidden--visually\" id=\"sk-estimator-id-1\" type=\"checkbox\" checked><label for=\"sk-estimator-id-1\" class=\"sk-toggleable__label sk-toggleable__label-arrow\">LinearRegression</label><div class=\"sk-toggleable__content\"><pre>LinearRegression()</pre></div></div></div></div></div>"
      ],
      "text/plain": [
       "LinearRegression()"
      ]
     },
     "execution_count": 39,
     "metadata": {},
     "output_type": "execute_result"
    }
   ],
   "source": [
    "model.fit(x_train, y_train)"
   ]
  },
  {
   "cell_type": "code",
   "execution_count": 40,
   "id": "1c18ee0a",
   "metadata": {},
   "outputs": [],
   "source": [
    "y_pred = model.predict(x_test)"
   ]
  },
  {
   "cell_type": "code",
   "execution_count": 41,
   "id": "a291e280",
   "metadata": {},
   "outputs": [
    {
     "data": {
      "text/plain": [
       "array([3.97851413, 4.08136919, 4.00006707, 4.69920992, 4.02488083,\n",
       "       3.97830847])"
      ]
     },
     "execution_count": 41,
     "metadata": {},
     "output_type": "execute_result"
    }
   ],
   "source": [
    "y_pred"
   ]
  },
  {
   "cell_type": "code",
   "execution_count": 42,
   "id": "46de37ef",
   "metadata": {},
   "outputs": [
    {
     "data": {
      "text/plain": [
       "0.8259260446760603"
      ]
     },
     "execution_count": 42,
     "metadata": {},
     "output_type": "execute_result"
    }
   ],
   "source": [
    "model.score(x_test, y_test)"
   ]
  },
  {
   "cell_type": "code",
   "execution_count": 43,
   "id": "b3c780d9",
   "metadata": {},
   "outputs": [],
   "source": [
    "from sklearn.ensemble import RandomForestRegressor"
   ]
  },
  {
   "cell_type": "code",
   "execution_count": 44,
   "id": "9ae2730f",
   "metadata": {},
   "outputs": [],
   "source": [
    "model_rfg = RandomForestRegressor()"
   ]
  },
  {
   "cell_type": "code",
   "execution_count": 45,
   "id": "74de2dde",
   "metadata": {},
   "outputs": [
    {
     "data": {
      "text/html": [
       "<style>#sk-container-id-2 {color: black;background-color: white;}#sk-container-id-2 pre{padding: 0;}#sk-container-id-2 div.sk-toggleable {background-color: white;}#sk-container-id-2 label.sk-toggleable__label {cursor: pointer;display: block;width: 100%;margin-bottom: 0;padding: 0.3em;box-sizing: border-box;text-align: center;}#sk-container-id-2 label.sk-toggleable__label-arrow:before {content: \"▸\";float: left;margin-right: 0.25em;color: #696969;}#sk-container-id-2 label.sk-toggleable__label-arrow:hover:before {color: black;}#sk-container-id-2 div.sk-estimator:hover label.sk-toggleable__label-arrow:before {color: black;}#sk-container-id-2 div.sk-toggleable__content {max-height: 0;max-width: 0;overflow: hidden;text-align: left;background-color: #f0f8ff;}#sk-container-id-2 div.sk-toggleable__content pre {margin: 0.2em;color: black;border-radius: 0.25em;background-color: #f0f8ff;}#sk-container-id-2 input.sk-toggleable__control:checked~div.sk-toggleable__content {max-height: 200px;max-width: 100%;overflow: auto;}#sk-container-id-2 input.sk-toggleable__control:checked~label.sk-toggleable__label-arrow:before {content: \"▾\";}#sk-container-id-2 div.sk-estimator input.sk-toggleable__control:checked~label.sk-toggleable__label {background-color: #d4ebff;}#sk-container-id-2 div.sk-label input.sk-toggleable__control:checked~label.sk-toggleable__label {background-color: #d4ebff;}#sk-container-id-2 input.sk-hidden--visually {border: 0;clip: rect(1px 1px 1px 1px);clip: rect(1px, 1px, 1px, 1px);height: 1px;margin: -1px;overflow: hidden;padding: 0;position: absolute;width: 1px;}#sk-container-id-2 div.sk-estimator {font-family: monospace;background-color: #f0f8ff;border: 1px dotted black;border-radius: 0.25em;box-sizing: border-box;margin-bottom: 0.5em;}#sk-container-id-2 div.sk-estimator:hover {background-color: #d4ebff;}#sk-container-id-2 div.sk-parallel-item::after {content: \"\";width: 100%;border-bottom: 1px solid gray;flex-grow: 1;}#sk-container-id-2 div.sk-label:hover label.sk-toggleable__label {background-color: #d4ebff;}#sk-container-id-2 div.sk-serial::before {content: \"\";position: absolute;border-left: 1px solid gray;box-sizing: border-box;top: 0;bottom: 0;left: 50%;z-index: 0;}#sk-container-id-2 div.sk-serial {display: flex;flex-direction: column;align-items: center;background-color: white;padding-right: 0.2em;padding-left: 0.2em;position: relative;}#sk-container-id-2 div.sk-item {position: relative;z-index: 1;}#sk-container-id-2 div.sk-parallel {display: flex;align-items: stretch;justify-content: center;background-color: white;position: relative;}#sk-container-id-2 div.sk-item::before, #sk-container-id-2 div.sk-parallel-item::before {content: \"\";position: absolute;border-left: 1px solid gray;box-sizing: border-box;top: 0;bottom: 0;left: 50%;z-index: -1;}#sk-container-id-2 div.sk-parallel-item {display: flex;flex-direction: column;z-index: 1;position: relative;background-color: white;}#sk-container-id-2 div.sk-parallel-item:first-child::after {align-self: flex-end;width: 50%;}#sk-container-id-2 div.sk-parallel-item:last-child::after {align-self: flex-start;width: 50%;}#sk-container-id-2 div.sk-parallel-item:only-child::after {width: 0;}#sk-container-id-2 div.sk-dashed-wrapped {border: 1px dashed gray;margin: 0 0.4em 0.5em 0.4em;box-sizing: border-box;padding-bottom: 0.4em;background-color: white;}#sk-container-id-2 div.sk-label label {font-family: monospace;font-weight: bold;display: inline-block;line-height: 1.2em;}#sk-container-id-2 div.sk-label-container {text-align: center;}#sk-container-id-2 div.sk-container {/* jupyter's `normalize.less` sets `[hidden] { display: none; }` but bootstrap.min.css set `[hidden] { display: none !important; }` so we also need the `!important` here to be able to override the default hidden behavior on the sphinx rendered scikit-learn.org. See: https://github.com/scikit-learn/scikit-learn/issues/21755 */display: inline-block !important;position: relative;}#sk-container-id-2 div.sk-text-repr-fallback {display: none;}</style><div id=\"sk-container-id-2\" class=\"sk-top-container\"><div class=\"sk-text-repr-fallback\"><pre>RandomForestRegressor()</pre><b>In a Jupyter environment, please rerun this cell to show the HTML representation or trust the notebook. <br />On GitHub, the HTML representation is unable to render, please try loading this page with nbviewer.org.</b></div><div class=\"sk-container\" hidden><div class=\"sk-item\"><div class=\"sk-estimator sk-toggleable\"><input class=\"sk-toggleable__control sk-hidden--visually\" id=\"sk-estimator-id-2\" type=\"checkbox\" checked><label for=\"sk-estimator-id-2\" class=\"sk-toggleable__label sk-toggleable__label-arrow\">RandomForestRegressor</label><div class=\"sk-toggleable__content\"><pre>RandomForestRegressor()</pre></div></div></div></div></div>"
      ],
      "text/plain": [
       "RandomForestRegressor()"
      ]
     },
     "execution_count": 45,
     "metadata": {},
     "output_type": "execute_result"
    }
   ],
   "source": [
    "model_rfg.fit(x_train, y_train)"
   ]
  },
  {
   "cell_type": "code",
   "execution_count": 46,
   "id": "07003c2b",
   "metadata": {},
   "outputs": [],
   "source": [
    "y_pred_rfg = model_rfg.predict(x_test)"
   ]
  },
  {
   "cell_type": "code",
   "execution_count": 47,
   "id": "1e4edad2",
   "metadata": {},
   "outputs": [
    {
     "data": {
      "text/plain": [
       "array([4.1071, 4.2171, 4.1731, 4.6534, 4.1127, 4.1365])"
      ]
     },
     "execution_count": 47,
     "metadata": {},
     "output_type": "execute_result"
    }
   ],
   "source": [
    "y_pred_rfg"
   ]
  },
  {
   "cell_type": "code",
   "execution_count": 48,
   "id": "bab2efb0",
   "metadata": {},
   "outputs": [
    {
     "data": {
      "text/plain": [
       "0.8783126953733812"
      ]
     },
     "execution_count": 48,
     "metadata": {},
     "output_type": "execute_result"
    }
   ],
   "source": [
    "model_rfg.score(x_test, y_test)"
   ]
  },
  {
   "cell_type": "markdown",
   "id": "a8096404",
   "metadata": {},
   "source": [
    "# Thanks !"
   ]
  }
 ],
 "metadata": {
  "kernelspec": {
   "display_name": "Python 3 (ipykernel)",
   "language": "python",
   "name": "python3"
  },
  "language_info": {
   "codemirror_mode": {
    "name": "ipython",
    "version": 3
   },
   "file_extension": ".py",
   "mimetype": "text/x-python",
   "name": "python",
   "nbconvert_exporter": "python",
   "pygments_lexer": "ipython3",
   "version": "3.10.9"
  }
 },
 "nbformat": 4,
 "nbformat_minor": 5
}
