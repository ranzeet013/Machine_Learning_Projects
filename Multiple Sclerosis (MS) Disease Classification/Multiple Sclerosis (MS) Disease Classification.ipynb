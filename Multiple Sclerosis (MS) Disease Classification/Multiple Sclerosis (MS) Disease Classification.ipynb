{
 "cells": [
  {
   "cell_type": "markdown",
   "id": "afdf6847",
   "metadata": {},
   "source": [
    "#  Multiple Sclerosis (MS) Disease Classification "
   ]
  },
  {
   "cell_type": "markdown",
   "id": "917d8d6d",
   "metadata": {},
   "source": [
    "The goal of this project is to develop a machine learning model for the classification of Multiple Sclerosis (MS) disease. MS is a chronic autoimmune disease affecting the central nervous system, causing various neurological symptoms. Early detection and accurate classification of MS can assist in timely intervention and treatment planning."
   ]
  },
  {
   "cell_type": "markdown",
   "id": "af4e20d7",
   "metadata": {},
   "source": [
    "# Importing Libraries "
   ]
  },
  {
   "cell_type": "markdown",
   "id": "35659d69",
   "metadata": {},
   "source": [
    "These are just a few examples of popular Python libraries. You can import any other library using the same import statement followed by the library name or alias:\n",
    "\n",
    "NumPy: for numerical operations and array manipulation\n",
    "\n",
    "Pandas: for data manipulation and analysis\n",
    "\n",
    "Matplotlib: for creating visualizations\n",
    "\n",
    "Scikit-learn: for machine learning algorithms"
   ]
  },
  {
   "cell_type": "code",
   "execution_count": 1,
   "id": "a0401dae",
   "metadata": {},
   "outputs": [],
   "source": [
    "import pandas as pd\n",
    "import matplotlib.pyplot as plt\n",
    "import numpy as np\n",
    "import seaborn as sns\n",
    "\n",
    "%matplotlib inline"
   ]
  },
  {
   "cell_type": "code",
   "execution_count": 2,
   "id": "4cc9197f",
   "metadata": {},
   "outputs": [],
   "source": [
    "import warnings\n",
    "warnings.filterwarnings('ignore')"
   ]
  },
  {
   "cell_type": "markdown",
   "id": "5c4a455c",
   "metadata": {},
   "source": [
    "# Reading Dataset"
   ]
  },
  {
   "cell_type": "code",
   "execution_count": 3,
   "id": "1294b0ce",
   "metadata": {},
   "outputs": [],
   "source": [
    "dataframe = pd.read_csv('conversion_predictors_of_clinically_isolated_syndrome_to_multiple_sclerosis.csv')"
   ]
  },
  {
   "cell_type": "markdown",
   "id": "c3c07034",
   "metadata": {},
   "source": [
    "# Exploratory Data Analysis"
   ]
  },
  {
   "cell_type": "markdown",
   "id": "f5b7ac2a",
   "metadata": {},
   "source": [
    "The process of analyzing and understanding a dataset to gain insights and identify patterns or trends. The goal of exploring the data is to become familiar with its structure, distribution, and quality, as well as to identify potential issues or anomalies that may need to be addressed before further analysis."
   ]
  },
  {
   "cell_type": "code",
   "execution_count": 4,
   "id": "33569cc5",
   "metadata": {},
   "outputs": [
    {
     "data": {
      "text/html": [
       "<div>\n",
       "<style scoped>\n",
       "    .dataframe tbody tr th:only-of-type {\n",
       "        vertical-align: middle;\n",
       "    }\n",
       "\n",
       "    .dataframe tbody tr th {\n",
       "        vertical-align: top;\n",
       "    }\n",
       "\n",
       "    .dataframe thead th {\n",
       "        text-align: right;\n",
       "    }\n",
       "</style>\n",
       "<table border=\"1\" class=\"dataframe\">\n",
       "  <thead>\n",
       "    <tr style=\"text-align: right;\">\n",
       "      <th></th>\n",
       "      <th>Unnamed: 0</th>\n",
       "      <th>Gender</th>\n",
       "      <th>Age</th>\n",
       "      <th>Schooling</th>\n",
       "      <th>Breastfeeding</th>\n",
       "      <th>Varicella</th>\n",
       "      <th>Initial_Symptom</th>\n",
       "      <th>Mono_or_Polysymptomatic</th>\n",
       "      <th>Oligoclonal_Bands</th>\n",
       "      <th>LLSSEP</th>\n",
       "      <th>ULSSEP</th>\n",
       "      <th>VEP</th>\n",
       "      <th>BAEP</th>\n",
       "      <th>Periventricular_MRI</th>\n",
       "      <th>Cortical_MRI</th>\n",
       "      <th>Infratentorial_MRI</th>\n",
       "      <th>Spinal_Cord_MRI</th>\n",
       "      <th>Initial_EDSS</th>\n",
       "      <th>Final_EDSS</th>\n",
       "      <th>group</th>\n",
       "    </tr>\n",
       "  </thead>\n",
       "  <tbody>\n",
       "    <tr>\n",
       "      <th>0</th>\n",
       "      <td>0</td>\n",
       "      <td>1</td>\n",
       "      <td>34</td>\n",
       "      <td>20.0</td>\n",
       "      <td>1</td>\n",
       "      <td>1</td>\n",
       "      <td>2.0</td>\n",
       "      <td>1</td>\n",
       "      <td>0</td>\n",
       "      <td>1</td>\n",
       "      <td>1</td>\n",
       "      <td>0</td>\n",
       "      <td>0</td>\n",
       "      <td>0</td>\n",
       "      <td>1</td>\n",
       "      <td>0</td>\n",
       "      <td>1</td>\n",
       "      <td>1.0</td>\n",
       "      <td>1.0</td>\n",
       "      <td>1</td>\n",
       "    </tr>\n",
       "    <tr>\n",
       "      <th>1</th>\n",
       "      <td>1</td>\n",
       "      <td>1</td>\n",
       "      <td>61</td>\n",
       "      <td>25.0</td>\n",
       "      <td>3</td>\n",
       "      <td>2</td>\n",
       "      <td>10.0</td>\n",
       "      <td>2</td>\n",
       "      <td>1</td>\n",
       "      <td>1</td>\n",
       "      <td>0</td>\n",
       "      <td>1</td>\n",
       "      <td>0</td>\n",
       "      <td>0</td>\n",
       "      <td>0</td>\n",
       "      <td>0</td>\n",
       "      <td>1</td>\n",
       "      <td>2.0</td>\n",
       "      <td>2.0</td>\n",
       "      <td>1</td>\n",
       "    </tr>\n",
       "    <tr>\n",
       "      <th>2</th>\n",
       "      <td>2</td>\n",
       "      <td>1</td>\n",
       "      <td>22</td>\n",
       "      <td>20.0</td>\n",
       "      <td>3</td>\n",
       "      <td>1</td>\n",
       "      <td>3.0</td>\n",
       "      <td>1</td>\n",
       "      <td>1</td>\n",
       "      <td>0</td>\n",
       "      <td>0</td>\n",
       "      <td>0</td>\n",
       "      <td>0</td>\n",
       "      <td>0</td>\n",
       "      <td>1</td>\n",
       "      <td>0</td>\n",
       "      <td>0</td>\n",
       "      <td>1.0</td>\n",
       "      <td>1.0</td>\n",
       "      <td>1</td>\n",
       "    </tr>\n",
       "    <tr>\n",
       "      <th>3</th>\n",
       "      <td>3</td>\n",
       "      <td>2</td>\n",
       "      <td>41</td>\n",
       "      <td>15.0</td>\n",
       "      <td>1</td>\n",
       "      <td>1</td>\n",
       "      <td>7.0</td>\n",
       "      <td>2</td>\n",
       "      <td>1</td>\n",
       "      <td>0</td>\n",
       "      <td>1</td>\n",
       "      <td>1</td>\n",
       "      <td>0</td>\n",
       "      <td>1</td>\n",
       "      <td>1</td>\n",
       "      <td>0</td>\n",
       "      <td>0</td>\n",
       "      <td>1.0</td>\n",
       "      <td>1.0</td>\n",
       "      <td>1</td>\n",
       "    </tr>\n",
       "    <tr>\n",
       "      <th>4</th>\n",
       "      <td>4</td>\n",
       "      <td>2</td>\n",
       "      <td>34</td>\n",
       "      <td>20.0</td>\n",
       "      <td>2</td>\n",
       "      <td>1</td>\n",
       "      <td>6.0</td>\n",
       "      <td>2</td>\n",
       "      <td>0</td>\n",
       "      <td>1</td>\n",
       "      <td>0</td>\n",
       "      <td>0</td>\n",
       "      <td>0</td>\n",
       "      <td>1</td>\n",
       "      <td>0</td>\n",
       "      <td>0</td>\n",
       "      <td>0</td>\n",
       "      <td>1.0</td>\n",
       "      <td>1.0</td>\n",
       "      <td>1</td>\n",
       "    </tr>\n",
       "  </tbody>\n",
       "</table>\n",
       "</div>"
      ],
      "text/plain": [
       "   Unnamed: 0  Gender  Age  Schooling  Breastfeeding  Varicella  \\\n",
       "0           0       1   34       20.0              1          1   \n",
       "1           1       1   61       25.0              3          2   \n",
       "2           2       1   22       20.0              3          1   \n",
       "3           3       2   41       15.0              1          1   \n",
       "4           4       2   34       20.0              2          1   \n",
       "\n",
       "   Initial_Symptom  Mono_or_Polysymptomatic  Oligoclonal_Bands  LLSSEP  \\\n",
       "0              2.0                        1                  0       1   \n",
       "1             10.0                        2                  1       1   \n",
       "2              3.0                        1                  1       0   \n",
       "3              7.0                        2                  1       0   \n",
       "4              6.0                        2                  0       1   \n",
       "\n",
       "   ULSSEP  VEP  BAEP  Periventricular_MRI  Cortical_MRI  Infratentorial_MRI  \\\n",
       "0       1    0     0                    0             1                   0   \n",
       "1       0    1     0                    0             0                   0   \n",
       "2       0    0     0                    0             1                   0   \n",
       "3       1    1     0                    1             1                   0   \n",
       "4       0    0     0                    1             0                   0   \n",
       "\n",
       "   Spinal_Cord_MRI  Initial_EDSS  Final_EDSS  group  \n",
       "0                1           1.0         1.0      1  \n",
       "1                1           2.0         2.0      1  \n",
       "2                0           1.0         1.0      1  \n",
       "3                0           1.0         1.0      1  \n",
       "4                0           1.0         1.0      1  "
      ]
     },
     "execution_count": 4,
     "metadata": {},
     "output_type": "execute_result"
    }
   ],
   "source": [
    "dataframe.head()"
   ]
  },
  {
   "cell_type": "code",
   "execution_count": 5,
   "id": "62262019",
   "metadata": {},
   "outputs": [
    {
     "data": {
      "text/html": [
       "<div>\n",
       "<style scoped>\n",
       "    .dataframe tbody tr th:only-of-type {\n",
       "        vertical-align: middle;\n",
       "    }\n",
       "\n",
       "    .dataframe tbody tr th {\n",
       "        vertical-align: top;\n",
       "    }\n",
       "\n",
       "    .dataframe thead th {\n",
       "        text-align: right;\n",
       "    }\n",
       "</style>\n",
       "<table border=\"1\" class=\"dataframe\">\n",
       "  <thead>\n",
       "    <tr style=\"text-align: right;\">\n",
       "      <th></th>\n",
       "      <th>Unnamed: 0</th>\n",
       "      <th>Gender</th>\n",
       "      <th>Age</th>\n",
       "      <th>Schooling</th>\n",
       "      <th>Breastfeeding</th>\n",
       "      <th>Varicella</th>\n",
       "      <th>Initial_Symptom</th>\n",
       "      <th>Mono_or_Polysymptomatic</th>\n",
       "      <th>Oligoclonal_Bands</th>\n",
       "      <th>LLSSEP</th>\n",
       "      <th>ULSSEP</th>\n",
       "      <th>VEP</th>\n",
       "      <th>BAEP</th>\n",
       "      <th>Periventricular_MRI</th>\n",
       "      <th>Cortical_MRI</th>\n",
       "      <th>Infratentorial_MRI</th>\n",
       "      <th>Spinal_Cord_MRI</th>\n",
       "      <th>Initial_EDSS</th>\n",
       "      <th>Final_EDSS</th>\n",
       "      <th>group</th>\n",
       "    </tr>\n",
       "  </thead>\n",
       "  <tbody>\n",
       "    <tr>\n",
       "      <th>268</th>\n",
       "      <td>268</td>\n",
       "      <td>2</td>\n",
       "      <td>31</td>\n",
       "      <td>8.0</td>\n",
       "      <td>3</td>\n",
       "      <td>1</td>\n",
       "      <td>9.0</td>\n",
       "      <td>2</td>\n",
       "      <td>0</td>\n",
       "      <td>0</td>\n",
       "      <td>0</td>\n",
       "      <td>0</td>\n",
       "      <td>0</td>\n",
       "      <td>0</td>\n",
       "      <td>0</td>\n",
       "      <td>0</td>\n",
       "      <td>0</td>\n",
       "      <td>NaN</td>\n",
       "      <td>NaN</td>\n",
       "      <td>2</td>\n",
       "    </tr>\n",
       "    <tr>\n",
       "      <th>269</th>\n",
       "      <td>269</td>\n",
       "      <td>1</td>\n",
       "      <td>21</td>\n",
       "      <td>15.0</td>\n",
       "      <td>3</td>\n",
       "      <td>3</td>\n",
       "      <td>5.0</td>\n",
       "      <td>2</td>\n",
       "      <td>1</td>\n",
       "      <td>0</td>\n",
       "      <td>0</td>\n",
       "      <td>0</td>\n",
       "      <td>0</td>\n",
       "      <td>0</td>\n",
       "      <td>0</td>\n",
       "      <td>0</td>\n",
       "      <td>1</td>\n",
       "      <td>NaN</td>\n",
       "      <td>NaN</td>\n",
       "      <td>2</td>\n",
       "    </tr>\n",
       "    <tr>\n",
       "      <th>270</th>\n",
       "      <td>270</td>\n",
       "      <td>2</td>\n",
       "      <td>19</td>\n",
       "      <td>12.0</td>\n",
       "      <td>3</td>\n",
       "      <td>3</td>\n",
       "      <td>13.0</td>\n",
       "      <td>2</td>\n",
       "      <td>0</td>\n",
       "      <td>1</td>\n",
       "      <td>1</td>\n",
       "      <td>1</td>\n",
       "      <td>0</td>\n",
       "      <td>0</td>\n",
       "      <td>0</td>\n",
       "      <td>0</td>\n",
       "      <td>1</td>\n",
       "      <td>NaN</td>\n",
       "      <td>NaN</td>\n",
       "      <td>2</td>\n",
       "    </tr>\n",
       "    <tr>\n",
       "      <th>271</th>\n",
       "      <td>271</td>\n",
       "      <td>2</td>\n",
       "      <td>32</td>\n",
       "      <td>15.0</td>\n",
       "      <td>3</td>\n",
       "      <td>3</td>\n",
       "      <td>15.0</td>\n",
       "      <td>2</td>\n",
       "      <td>1</td>\n",
       "      <td>1</td>\n",
       "      <td>1</td>\n",
       "      <td>1</td>\n",
       "      <td>0</td>\n",
       "      <td>1</td>\n",
       "      <td>1</td>\n",
       "      <td>1</td>\n",
       "      <td>0</td>\n",
       "      <td>NaN</td>\n",
       "      <td>NaN</td>\n",
       "      <td>2</td>\n",
       "    </tr>\n",
       "    <tr>\n",
       "      <th>272</th>\n",
       "      <td>272</td>\n",
       "      <td>2</td>\n",
       "      <td>77</td>\n",
       "      <td>6.0</td>\n",
       "      <td>3</td>\n",
       "      <td>3</td>\n",
       "      <td>2.0</td>\n",
       "      <td>1</td>\n",
       "      <td>0</td>\n",
       "      <td>0</td>\n",
       "      <td>1</td>\n",
       "      <td>0</td>\n",
       "      <td>0</td>\n",
       "      <td>0</td>\n",
       "      <td>0</td>\n",
       "      <td>0</td>\n",
       "      <td>0</td>\n",
       "      <td>NaN</td>\n",
       "      <td>NaN</td>\n",
       "      <td>2</td>\n",
       "    </tr>\n",
       "  </tbody>\n",
       "</table>\n",
       "</div>"
      ],
      "text/plain": [
       "     Unnamed: 0  Gender  Age  Schooling  Breastfeeding  Varicella  \\\n",
       "268         268       2   31        8.0              3          1   \n",
       "269         269       1   21       15.0              3          3   \n",
       "270         270       2   19       12.0              3          3   \n",
       "271         271       2   32       15.0              3          3   \n",
       "272         272       2   77        6.0              3          3   \n",
       "\n",
       "     Initial_Symptom  Mono_or_Polysymptomatic  Oligoclonal_Bands  LLSSEP  \\\n",
       "268              9.0                        2                  0       0   \n",
       "269              5.0                        2                  1       0   \n",
       "270             13.0                        2                  0       1   \n",
       "271             15.0                        2                  1       1   \n",
       "272              2.0                        1                  0       0   \n",
       "\n",
       "     ULSSEP  VEP  BAEP  Periventricular_MRI  Cortical_MRI  Infratentorial_MRI  \\\n",
       "268       0    0     0                    0             0                   0   \n",
       "269       0    0     0                    0             0                   0   \n",
       "270       1    1     0                    0             0                   0   \n",
       "271       1    1     0                    1             1                   1   \n",
       "272       1    0     0                    0             0                   0   \n",
       "\n",
       "     Spinal_Cord_MRI  Initial_EDSS  Final_EDSS  group  \n",
       "268                0           NaN         NaN      2  \n",
       "269                1           NaN         NaN      2  \n",
       "270                1           NaN         NaN      2  \n",
       "271                0           NaN         NaN      2  \n",
       "272                0           NaN         NaN      2  "
      ]
     },
     "execution_count": 5,
     "metadata": {},
     "output_type": "execute_result"
    }
   ],
   "source": [
    "dataframe.tail()"
   ]
  },
  {
   "cell_type": "code",
   "execution_count": 6,
   "id": "884d97b4",
   "metadata": {},
   "outputs": [],
   "source": [
    "dataframe = dataframe.drop('Unnamed: 0', axis = 1)"
   ]
  },
  {
   "cell_type": "code",
   "execution_count": 7,
   "id": "f303a729",
   "metadata": {},
   "outputs": [
    {
     "data": {
      "text/html": [
       "<div>\n",
       "<style scoped>\n",
       "    .dataframe tbody tr th:only-of-type {\n",
       "        vertical-align: middle;\n",
       "    }\n",
       "\n",
       "    .dataframe tbody tr th {\n",
       "        vertical-align: top;\n",
       "    }\n",
       "\n",
       "    .dataframe thead th {\n",
       "        text-align: right;\n",
       "    }\n",
       "</style>\n",
       "<table border=\"1\" class=\"dataframe\">\n",
       "  <thead>\n",
       "    <tr style=\"text-align: right;\">\n",
       "      <th></th>\n",
       "      <th>Gender</th>\n",
       "      <th>Age</th>\n",
       "      <th>Schooling</th>\n",
       "      <th>Breastfeeding</th>\n",
       "      <th>Varicella</th>\n",
       "      <th>Initial_Symptom</th>\n",
       "      <th>Mono_or_Polysymptomatic</th>\n",
       "      <th>Oligoclonal_Bands</th>\n",
       "      <th>LLSSEP</th>\n",
       "      <th>ULSSEP</th>\n",
       "      <th>VEP</th>\n",
       "      <th>BAEP</th>\n",
       "      <th>Periventricular_MRI</th>\n",
       "      <th>Cortical_MRI</th>\n",
       "      <th>Infratentorial_MRI</th>\n",
       "      <th>Spinal_Cord_MRI</th>\n",
       "      <th>Initial_EDSS</th>\n",
       "      <th>Final_EDSS</th>\n",
       "      <th>group</th>\n",
       "    </tr>\n",
       "  </thead>\n",
       "  <tbody>\n",
       "    <tr>\n",
       "      <th>0</th>\n",
       "      <td>1</td>\n",
       "      <td>34</td>\n",
       "      <td>20.0</td>\n",
       "      <td>1</td>\n",
       "      <td>1</td>\n",
       "      <td>2.0</td>\n",
       "      <td>1</td>\n",
       "      <td>0</td>\n",
       "      <td>1</td>\n",
       "      <td>1</td>\n",
       "      <td>0</td>\n",
       "      <td>0</td>\n",
       "      <td>0</td>\n",
       "      <td>1</td>\n",
       "      <td>0</td>\n",
       "      <td>1</td>\n",
       "      <td>1.0</td>\n",
       "      <td>1.0</td>\n",
       "      <td>1</td>\n",
       "    </tr>\n",
       "    <tr>\n",
       "      <th>1</th>\n",
       "      <td>1</td>\n",
       "      <td>61</td>\n",
       "      <td>25.0</td>\n",
       "      <td>3</td>\n",
       "      <td>2</td>\n",
       "      <td>10.0</td>\n",
       "      <td>2</td>\n",
       "      <td>1</td>\n",
       "      <td>1</td>\n",
       "      <td>0</td>\n",
       "      <td>1</td>\n",
       "      <td>0</td>\n",
       "      <td>0</td>\n",
       "      <td>0</td>\n",
       "      <td>0</td>\n",
       "      <td>1</td>\n",
       "      <td>2.0</td>\n",
       "      <td>2.0</td>\n",
       "      <td>1</td>\n",
       "    </tr>\n",
       "    <tr>\n",
       "      <th>2</th>\n",
       "      <td>1</td>\n",
       "      <td>22</td>\n",
       "      <td>20.0</td>\n",
       "      <td>3</td>\n",
       "      <td>1</td>\n",
       "      <td>3.0</td>\n",
       "      <td>1</td>\n",
       "      <td>1</td>\n",
       "      <td>0</td>\n",
       "      <td>0</td>\n",
       "      <td>0</td>\n",
       "      <td>0</td>\n",
       "      <td>0</td>\n",
       "      <td>1</td>\n",
       "      <td>0</td>\n",
       "      <td>0</td>\n",
       "      <td>1.0</td>\n",
       "      <td>1.0</td>\n",
       "      <td>1</td>\n",
       "    </tr>\n",
       "    <tr>\n",
       "      <th>3</th>\n",
       "      <td>2</td>\n",
       "      <td>41</td>\n",
       "      <td>15.0</td>\n",
       "      <td>1</td>\n",
       "      <td>1</td>\n",
       "      <td>7.0</td>\n",
       "      <td>2</td>\n",
       "      <td>1</td>\n",
       "      <td>0</td>\n",
       "      <td>1</td>\n",
       "      <td>1</td>\n",
       "      <td>0</td>\n",
       "      <td>1</td>\n",
       "      <td>1</td>\n",
       "      <td>0</td>\n",
       "      <td>0</td>\n",
       "      <td>1.0</td>\n",
       "      <td>1.0</td>\n",
       "      <td>1</td>\n",
       "    </tr>\n",
       "    <tr>\n",
       "      <th>4</th>\n",
       "      <td>2</td>\n",
       "      <td>34</td>\n",
       "      <td>20.0</td>\n",
       "      <td>2</td>\n",
       "      <td>1</td>\n",
       "      <td>6.0</td>\n",
       "      <td>2</td>\n",
       "      <td>0</td>\n",
       "      <td>1</td>\n",
       "      <td>0</td>\n",
       "      <td>0</td>\n",
       "      <td>0</td>\n",
       "      <td>1</td>\n",
       "      <td>0</td>\n",
       "      <td>0</td>\n",
       "      <td>0</td>\n",
       "      <td>1.0</td>\n",
       "      <td>1.0</td>\n",
       "      <td>1</td>\n",
       "    </tr>\n",
       "  </tbody>\n",
       "</table>\n",
       "</div>"
      ],
      "text/plain": [
       "   Gender  Age  Schooling  Breastfeeding  Varicella  Initial_Symptom  \\\n",
       "0       1   34       20.0              1          1              2.0   \n",
       "1       1   61       25.0              3          2             10.0   \n",
       "2       1   22       20.0              3          1              3.0   \n",
       "3       2   41       15.0              1          1              7.0   \n",
       "4       2   34       20.0              2          1              6.0   \n",
       "\n",
       "   Mono_or_Polysymptomatic  Oligoclonal_Bands  LLSSEP  ULSSEP  VEP  BAEP  \\\n",
       "0                        1                  0       1       1    0     0   \n",
       "1                        2                  1       1       0    1     0   \n",
       "2                        1                  1       0       0    0     0   \n",
       "3                        2                  1       0       1    1     0   \n",
       "4                        2                  0       1       0    0     0   \n",
       "\n",
       "   Periventricular_MRI  Cortical_MRI  Infratentorial_MRI  Spinal_Cord_MRI  \\\n",
       "0                    0             1                   0                1   \n",
       "1                    0             0                   0                1   \n",
       "2                    0             1                   0                0   \n",
       "3                    1             1                   0                0   \n",
       "4                    1             0                   0                0   \n",
       "\n",
       "   Initial_EDSS  Final_EDSS  group  \n",
       "0           1.0         1.0      1  \n",
       "1           2.0         2.0      1  \n",
       "2           1.0         1.0      1  \n",
       "3           1.0         1.0      1  \n",
       "4           1.0         1.0      1  "
      ]
     },
     "execution_count": 7,
     "metadata": {},
     "output_type": "execute_result"
    }
   ],
   "source": [
    "dataframe.head()"
   ]
  },
  {
   "cell_type": "code",
   "execution_count": 8,
   "id": "615817b2",
   "metadata": {},
   "outputs": [
    {
     "data": {
      "text/plain": [
       "(273, 19)"
      ]
     },
     "execution_count": 8,
     "metadata": {},
     "output_type": "execute_result"
    }
   ],
   "source": [
    "dataframe.shape"
   ]
  },
  {
   "cell_type": "code",
   "execution_count": 9,
   "id": "ec73943b",
   "metadata": {},
   "outputs": [
    {
     "name": "stdout",
     "output_type": "stream",
     "text": [
      "<class 'pandas.core.frame.DataFrame'>\n",
      "RangeIndex: 273 entries, 0 to 272\n",
      "Data columns (total 19 columns):\n",
      " #   Column                   Non-Null Count  Dtype  \n",
      "---  ------                   --------------  -----  \n",
      " 0   Gender                   273 non-null    int64  \n",
      " 1   Age                      273 non-null    int64  \n",
      " 2   Schooling                272 non-null    float64\n",
      " 3   Breastfeeding            273 non-null    int64  \n",
      " 4   Varicella                273 non-null    int64  \n",
      " 5   Initial_Symptom          272 non-null    float64\n",
      " 6   Mono_or_Polysymptomatic  273 non-null    int64  \n",
      " 7   Oligoclonal_Bands        273 non-null    int64  \n",
      " 8   LLSSEP                   273 non-null    int64  \n",
      " 9   ULSSEP                   273 non-null    int64  \n",
      " 10  VEP                      273 non-null    int64  \n",
      " 11  BAEP                     273 non-null    int64  \n",
      " 12  Periventricular_MRI      273 non-null    int64  \n",
      " 13  Cortical_MRI             273 non-null    int64  \n",
      " 14  Infratentorial_MRI       273 non-null    int64  \n",
      " 15  Spinal_Cord_MRI          273 non-null    int64  \n",
      " 16  Initial_EDSS             125 non-null    float64\n",
      " 17  Final_EDSS               125 non-null    float64\n",
      " 18  group                    273 non-null    int64  \n",
      "dtypes: float64(4), int64(15)\n",
      "memory usage: 40.6 KB\n"
     ]
    }
   ],
   "source": [
    "dataframe.info()"
   ]
  },
  {
   "cell_type": "markdown",
   "id": "bb3f95d0",
   "metadata": {},
   "source": [
    "# Data Cleaning"
   ]
  },
  {
   "cell_type": "markdown",
   "id": "68090c7e",
   "metadata": {},
   "source": [
    "Data cleaning is an essential step in the data preprocessing phase of a machine learning project. It involves identifying and handling missing values, dealing with outliers, removing duplicates, and addressing other data quality issues"
   ]
  },
  {
   "cell_type": "markdown",
   "id": "db1ba591",
   "metadata": {},
   "source": [
    "Remove rows or columns with missing values if they are few or have little impact on the overall dataset.\n",
    "\n",
    "Impute missing values using techniques like mean, median"
   ]
  },
  {
   "cell_type": "code",
   "execution_count": 10,
   "id": "d0448b26",
   "metadata": {},
   "outputs": [
    {
     "data": {
      "text/plain": [
       "True"
      ]
     },
     "execution_count": 10,
     "metadata": {},
     "output_type": "execute_result"
    }
   ],
   "source": [
    "dataframe.isna().sum().any()"
   ]
  },
  {
   "cell_type": "code",
   "execution_count": 11,
   "id": "892359bb",
   "metadata": {},
   "outputs": [
    {
     "data": {
      "text/plain": [
       "Gender                       0\n",
       "Age                          0\n",
       "Schooling                    1\n",
       "Breastfeeding                0\n",
       "Varicella                    0\n",
       "Initial_Symptom              1\n",
       "Mono_or_Polysymptomatic      0\n",
       "Oligoclonal_Bands            0\n",
       "LLSSEP                       0\n",
       "ULSSEP                       0\n",
       "VEP                          0\n",
       "BAEP                         0\n",
       "Periventricular_MRI          0\n",
       "Cortical_MRI                 0\n",
       "Infratentorial_MRI           0\n",
       "Spinal_Cord_MRI              0\n",
       "Initial_EDSS               148\n",
       "Final_EDSS                 148\n",
       "group                        0\n",
       "dtype: int64"
      ]
     },
     "execution_count": 11,
     "metadata": {},
     "output_type": "execute_result"
    }
   ],
   "source": [
    "dataframe.isna().sum()"
   ]
  },
  {
   "cell_type": "code",
   "execution_count": 12,
   "id": "4c55f96d",
   "metadata": {},
   "outputs": [
    {
     "data": {
      "text/plain": [
       "Index(['Gender', 'Age', 'Schooling', 'Breastfeeding', 'Varicella',\n",
       "       'Initial_Symptom', 'Mono_or_Polysymptomatic', 'Oligoclonal_Bands',\n",
       "       'LLSSEP', 'ULSSEP', 'VEP', 'BAEP', 'Periventricular_MRI',\n",
       "       'Cortical_MRI', 'Infratentorial_MRI', 'Spinal_Cord_MRI', 'Initial_EDSS',\n",
       "       'Final_EDSS', 'group'],\n",
       "      dtype='object')"
      ]
     },
     "execution_count": 12,
     "metadata": {},
     "output_type": "execute_result"
    }
   ],
   "source": [
    "dataframe.columns"
   ]
  },
  {
   "cell_type": "code",
   "execution_count": 13,
   "id": "4ab72510",
   "metadata": {},
   "outputs": [],
   "source": [
    "dataframe = dataframe.drop(['Initial_EDSS', 'Final_EDSS'], axis = 1)"
   ]
  },
  {
   "cell_type": "code",
   "execution_count": 14,
   "id": "3b2dfe02",
   "metadata": {},
   "outputs": [
    {
     "data": {
      "text/html": [
       "<div>\n",
       "<style scoped>\n",
       "    .dataframe tbody tr th:only-of-type {\n",
       "        vertical-align: middle;\n",
       "    }\n",
       "\n",
       "    .dataframe tbody tr th {\n",
       "        vertical-align: top;\n",
       "    }\n",
       "\n",
       "    .dataframe thead th {\n",
       "        text-align: right;\n",
       "    }\n",
       "</style>\n",
       "<table border=\"1\" class=\"dataframe\">\n",
       "  <thead>\n",
       "    <tr style=\"text-align: right;\">\n",
       "      <th></th>\n",
       "      <th>Gender</th>\n",
       "      <th>Age</th>\n",
       "      <th>Schooling</th>\n",
       "      <th>Breastfeeding</th>\n",
       "      <th>Varicella</th>\n",
       "      <th>Initial_Symptom</th>\n",
       "      <th>Mono_or_Polysymptomatic</th>\n",
       "      <th>Oligoclonal_Bands</th>\n",
       "      <th>LLSSEP</th>\n",
       "      <th>ULSSEP</th>\n",
       "      <th>VEP</th>\n",
       "      <th>BAEP</th>\n",
       "      <th>Periventricular_MRI</th>\n",
       "      <th>Cortical_MRI</th>\n",
       "      <th>Infratentorial_MRI</th>\n",
       "      <th>Spinal_Cord_MRI</th>\n",
       "      <th>group</th>\n",
       "    </tr>\n",
       "  </thead>\n",
       "  <tbody>\n",
       "    <tr>\n",
       "      <th>0</th>\n",
       "      <td>1</td>\n",
       "      <td>34</td>\n",
       "      <td>20.0</td>\n",
       "      <td>1</td>\n",
       "      <td>1</td>\n",
       "      <td>2.0</td>\n",
       "      <td>1</td>\n",
       "      <td>0</td>\n",
       "      <td>1</td>\n",
       "      <td>1</td>\n",
       "      <td>0</td>\n",
       "      <td>0</td>\n",
       "      <td>0</td>\n",
       "      <td>1</td>\n",
       "      <td>0</td>\n",
       "      <td>1</td>\n",
       "      <td>1</td>\n",
       "    </tr>\n",
       "    <tr>\n",
       "      <th>1</th>\n",
       "      <td>1</td>\n",
       "      <td>61</td>\n",
       "      <td>25.0</td>\n",
       "      <td>3</td>\n",
       "      <td>2</td>\n",
       "      <td>10.0</td>\n",
       "      <td>2</td>\n",
       "      <td>1</td>\n",
       "      <td>1</td>\n",
       "      <td>0</td>\n",
       "      <td>1</td>\n",
       "      <td>0</td>\n",
       "      <td>0</td>\n",
       "      <td>0</td>\n",
       "      <td>0</td>\n",
       "      <td>1</td>\n",
       "      <td>1</td>\n",
       "    </tr>\n",
       "    <tr>\n",
       "      <th>2</th>\n",
       "      <td>1</td>\n",
       "      <td>22</td>\n",
       "      <td>20.0</td>\n",
       "      <td>3</td>\n",
       "      <td>1</td>\n",
       "      <td>3.0</td>\n",
       "      <td>1</td>\n",
       "      <td>1</td>\n",
       "      <td>0</td>\n",
       "      <td>0</td>\n",
       "      <td>0</td>\n",
       "      <td>0</td>\n",
       "      <td>0</td>\n",
       "      <td>1</td>\n",
       "      <td>0</td>\n",
       "      <td>0</td>\n",
       "      <td>1</td>\n",
       "    </tr>\n",
       "    <tr>\n",
       "      <th>3</th>\n",
       "      <td>2</td>\n",
       "      <td>41</td>\n",
       "      <td>15.0</td>\n",
       "      <td>1</td>\n",
       "      <td>1</td>\n",
       "      <td>7.0</td>\n",
       "      <td>2</td>\n",
       "      <td>1</td>\n",
       "      <td>0</td>\n",
       "      <td>1</td>\n",
       "      <td>1</td>\n",
       "      <td>0</td>\n",
       "      <td>1</td>\n",
       "      <td>1</td>\n",
       "      <td>0</td>\n",
       "      <td>0</td>\n",
       "      <td>1</td>\n",
       "    </tr>\n",
       "    <tr>\n",
       "      <th>4</th>\n",
       "      <td>2</td>\n",
       "      <td>34</td>\n",
       "      <td>20.0</td>\n",
       "      <td>2</td>\n",
       "      <td>1</td>\n",
       "      <td>6.0</td>\n",
       "      <td>2</td>\n",
       "      <td>0</td>\n",
       "      <td>1</td>\n",
       "      <td>0</td>\n",
       "      <td>0</td>\n",
       "      <td>0</td>\n",
       "      <td>1</td>\n",
       "      <td>0</td>\n",
       "      <td>0</td>\n",
       "      <td>0</td>\n",
       "      <td>1</td>\n",
       "    </tr>\n",
       "  </tbody>\n",
       "</table>\n",
       "</div>"
      ],
      "text/plain": [
       "   Gender  Age  Schooling  Breastfeeding  Varicella  Initial_Symptom  \\\n",
       "0       1   34       20.0              1          1              2.0   \n",
       "1       1   61       25.0              3          2             10.0   \n",
       "2       1   22       20.0              3          1              3.0   \n",
       "3       2   41       15.0              1          1              7.0   \n",
       "4       2   34       20.0              2          1              6.0   \n",
       "\n",
       "   Mono_or_Polysymptomatic  Oligoclonal_Bands  LLSSEP  ULSSEP  VEP  BAEP  \\\n",
       "0                        1                  0       1       1    0     0   \n",
       "1                        2                  1       1       0    1     0   \n",
       "2                        1                  1       0       0    0     0   \n",
       "3                        2                  1       0       1    1     0   \n",
       "4                        2                  0       1       0    0     0   \n",
       "\n",
       "   Periventricular_MRI  Cortical_MRI  Infratentorial_MRI  Spinal_Cord_MRI  \\\n",
       "0                    0             1                   0                1   \n",
       "1                    0             0                   0                1   \n",
       "2                    0             1                   0                0   \n",
       "3                    1             1                   0                0   \n",
       "4                    1             0                   0                0   \n",
       "\n",
       "   group  \n",
       "0      1  \n",
       "1      1  \n",
       "2      1  \n",
       "3      1  \n",
       "4      1  "
      ]
     },
     "execution_count": 14,
     "metadata": {},
     "output_type": "execute_result"
    }
   ],
   "source": [
    "dataframe.head()"
   ]
  },
  {
   "cell_type": "code",
   "execution_count": 15,
   "id": "8eae6be9",
   "metadata": {},
   "outputs": [],
   "source": [
    "dataframe['Schooling'] = dataframe['Schooling'].fillna(dataframe['Schooling'].mean())"
   ]
  },
  {
   "cell_type": "code",
   "execution_count": 16,
   "id": "126fbb24",
   "metadata": {},
   "outputs": [],
   "source": [
    "dataframe['Initial_Symptom'] = dataframe['Initial_Symptom'].fillna(dataframe['Initial_Symptom'].mean())"
   ]
  },
  {
   "cell_type": "code",
   "execution_count": 17,
   "id": "0503b9fa",
   "metadata": {},
   "outputs": [
    {
     "data": {
      "text/html": [
       "<div>\n",
       "<style scoped>\n",
       "    .dataframe tbody tr th:only-of-type {\n",
       "        vertical-align: middle;\n",
       "    }\n",
       "\n",
       "    .dataframe tbody tr th {\n",
       "        vertical-align: top;\n",
       "    }\n",
       "\n",
       "    .dataframe thead th {\n",
       "        text-align: right;\n",
       "    }\n",
       "</style>\n",
       "<table border=\"1\" class=\"dataframe\">\n",
       "  <thead>\n",
       "    <tr style=\"text-align: right;\">\n",
       "      <th></th>\n",
       "      <th>Gender</th>\n",
       "      <th>Age</th>\n",
       "      <th>Schooling</th>\n",
       "      <th>Breastfeeding</th>\n",
       "      <th>Varicella</th>\n",
       "      <th>Initial_Symptom</th>\n",
       "      <th>Mono_or_Polysymptomatic</th>\n",
       "      <th>Oligoclonal_Bands</th>\n",
       "      <th>LLSSEP</th>\n",
       "      <th>ULSSEP</th>\n",
       "      <th>VEP</th>\n",
       "      <th>BAEP</th>\n",
       "      <th>Periventricular_MRI</th>\n",
       "      <th>Cortical_MRI</th>\n",
       "      <th>Infratentorial_MRI</th>\n",
       "      <th>Spinal_Cord_MRI</th>\n",
       "      <th>group</th>\n",
       "    </tr>\n",
       "  </thead>\n",
       "  <tbody>\n",
       "    <tr>\n",
       "      <th>0</th>\n",
       "      <td>1</td>\n",
       "      <td>34</td>\n",
       "      <td>20.0</td>\n",
       "      <td>1</td>\n",
       "      <td>1</td>\n",
       "      <td>2.0</td>\n",
       "      <td>1</td>\n",
       "      <td>0</td>\n",
       "      <td>1</td>\n",
       "      <td>1</td>\n",
       "      <td>0</td>\n",
       "      <td>0</td>\n",
       "      <td>0</td>\n",
       "      <td>1</td>\n",
       "      <td>0</td>\n",
       "      <td>1</td>\n",
       "      <td>1</td>\n",
       "    </tr>\n",
       "    <tr>\n",
       "      <th>1</th>\n",
       "      <td>1</td>\n",
       "      <td>61</td>\n",
       "      <td>25.0</td>\n",
       "      <td>3</td>\n",
       "      <td>2</td>\n",
       "      <td>10.0</td>\n",
       "      <td>2</td>\n",
       "      <td>1</td>\n",
       "      <td>1</td>\n",
       "      <td>0</td>\n",
       "      <td>1</td>\n",
       "      <td>0</td>\n",
       "      <td>0</td>\n",
       "      <td>0</td>\n",
       "      <td>0</td>\n",
       "      <td>1</td>\n",
       "      <td>1</td>\n",
       "    </tr>\n",
       "    <tr>\n",
       "      <th>2</th>\n",
       "      <td>1</td>\n",
       "      <td>22</td>\n",
       "      <td>20.0</td>\n",
       "      <td>3</td>\n",
       "      <td>1</td>\n",
       "      <td>3.0</td>\n",
       "      <td>1</td>\n",
       "      <td>1</td>\n",
       "      <td>0</td>\n",
       "      <td>0</td>\n",
       "      <td>0</td>\n",
       "      <td>0</td>\n",
       "      <td>0</td>\n",
       "      <td>1</td>\n",
       "      <td>0</td>\n",
       "      <td>0</td>\n",
       "      <td>1</td>\n",
       "    </tr>\n",
       "    <tr>\n",
       "      <th>3</th>\n",
       "      <td>2</td>\n",
       "      <td>41</td>\n",
       "      <td>15.0</td>\n",
       "      <td>1</td>\n",
       "      <td>1</td>\n",
       "      <td>7.0</td>\n",
       "      <td>2</td>\n",
       "      <td>1</td>\n",
       "      <td>0</td>\n",
       "      <td>1</td>\n",
       "      <td>1</td>\n",
       "      <td>0</td>\n",
       "      <td>1</td>\n",
       "      <td>1</td>\n",
       "      <td>0</td>\n",
       "      <td>0</td>\n",
       "      <td>1</td>\n",
       "    </tr>\n",
       "    <tr>\n",
       "      <th>4</th>\n",
       "      <td>2</td>\n",
       "      <td>34</td>\n",
       "      <td>20.0</td>\n",
       "      <td>2</td>\n",
       "      <td>1</td>\n",
       "      <td>6.0</td>\n",
       "      <td>2</td>\n",
       "      <td>0</td>\n",
       "      <td>1</td>\n",
       "      <td>0</td>\n",
       "      <td>0</td>\n",
       "      <td>0</td>\n",
       "      <td>1</td>\n",
       "      <td>0</td>\n",
       "      <td>0</td>\n",
       "      <td>0</td>\n",
       "      <td>1</td>\n",
       "    </tr>\n",
       "  </tbody>\n",
       "</table>\n",
       "</div>"
      ],
      "text/plain": [
       "   Gender  Age  Schooling  Breastfeeding  Varicella  Initial_Symptom  \\\n",
       "0       1   34       20.0              1          1              2.0   \n",
       "1       1   61       25.0              3          2             10.0   \n",
       "2       1   22       20.0              3          1              3.0   \n",
       "3       2   41       15.0              1          1              7.0   \n",
       "4       2   34       20.0              2          1              6.0   \n",
       "\n",
       "   Mono_or_Polysymptomatic  Oligoclonal_Bands  LLSSEP  ULSSEP  VEP  BAEP  \\\n",
       "0                        1                  0       1       1    0     0   \n",
       "1                        2                  1       1       0    1     0   \n",
       "2                        1                  1       0       0    0     0   \n",
       "3                        2                  1       0       1    1     0   \n",
       "4                        2                  0       1       0    0     0   \n",
       "\n",
       "   Periventricular_MRI  Cortical_MRI  Infratentorial_MRI  Spinal_Cord_MRI  \\\n",
       "0                    0             1                   0                1   \n",
       "1                    0             0                   0                1   \n",
       "2                    0             1                   0                0   \n",
       "3                    1             1                   0                0   \n",
       "4                    1             0                   0                0   \n",
       "\n",
       "   group  \n",
       "0      1  \n",
       "1      1  \n",
       "2      1  \n",
       "3      1  \n",
       "4      1  "
      ]
     },
     "execution_count": 17,
     "metadata": {},
     "output_type": "execute_result"
    }
   ],
   "source": [
    "dataframe.head()"
   ]
  },
  {
   "cell_type": "code",
   "execution_count": 18,
   "id": "0278fc74",
   "metadata": {},
   "outputs": [
    {
     "data": {
      "text/plain": [
       "False"
      ]
     },
     "execution_count": 18,
     "metadata": {},
     "output_type": "execute_result"
    }
   ],
   "source": [
    "dataframe.isna().sum().any()"
   ]
  },
  {
   "cell_type": "markdown",
   "id": "7b02f258",
   "metadata": {},
   "source": [
    "# Data Visualization"
   ]
  },
  {
   "cell_type": "markdown",
   "id": "1e74937e",
   "metadata": {},
   "source": [
    "Data visualization is a powerful technique for gaining insights, identifying patterns, and communicating findings from data. It involves creating visual representations of data using charts, graphs, plots, and other graphical elements."
   ]
  },
  {
   "cell_type": "code",
   "execution_count": 19,
   "id": "2e93248f",
   "metadata": {},
   "outputs": [
    {
     "data": {
      "text/plain": [
       "2    148\n",
       "1    125\n",
       "Name: group, dtype: int64"
      ]
     },
     "execution_count": 19,
     "metadata": {},
     "output_type": "execute_result"
    }
   ],
   "source": [
    "dataframe['group'].value_counts()"
   ]
  },
  {
   "cell_type": "code",
   "execution_count": 20,
   "id": "5f38dfba",
   "metadata": {},
   "outputs": [
    {
     "data": {
      "text/plain": [
       "<AxesSubplot:title={'center':'Group with sclerosis'}>"
      ]
     },
     "execution_count": 20,
     "metadata": {},
     "output_type": "execute_result"
    },
    {
     "data": {
      "image/png": "[encoded data removed]",
      "text/plain": [
       "<Figure size 720x288 with 1 Axes>"
      ]
     },
     "metadata": {
      "needs_background": "light"
     },
     "output_type": "display_data"
    }
   ],
   "source": [
    "dataframe['group'].value_counts().plot(kind = 'bar', \n",
    "                                       cmap = 'plasma', \n",
    "                                       figsize = (10, 4), \n",
    "                                       title = 'Group with sclerosis', \n",
    "                                       rot = 90)"
   ]
  },
  {
   "cell_type": "code",
   "execution_count": 21,
   "id": "01f5b947",
   "metadata": {},
   "outputs": [
    {
     "data": {
      "text/plain": [
       "2    168\n",
       "1    105\n",
       "Name: Gender, dtype: int64"
      ]
     },
     "execution_count": 21,
     "metadata": {},
     "output_type": "execute_result"
    }
   ],
   "source": [
    "dataframe['Gender'].value_counts()"
   ]
  },
  {
   "cell_type": "code",
   "execution_count": 22,
   "id": "97a7af67",
   "metadata": {},
   "outputs": [
    {
     "data": {
      "text/html": [
       "<div>\n",
       "<style scoped>\n",
       "    .dataframe tbody tr th:only-of-type {\n",
       "        vertical-align: middle;\n",
       "    }\n",
       "\n",
       "    .dataframe tbody tr th {\n",
       "        vertical-align: top;\n",
       "    }\n",
       "\n",
       "    .dataframe thead th {\n",
       "        text-align: right;\n",
       "    }\n",
       "</style>\n",
       "<table border=\"1\" class=\"dataframe\">\n",
       "  <thead>\n",
       "    <tr style=\"text-align: right;\">\n",
       "      <th>group</th>\n",
       "      <th>1</th>\n",
       "      <th>2</th>\n",
       "    </tr>\n",
       "    <tr>\n",
       "      <th>Gender</th>\n",
       "      <th></th>\n",
       "      <th></th>\n",
       "    </tr>\n",
       "  </thead>\n",
       "  <tbody>\n",
       "    <tr>\n",
       "      <th>1</th>\n",
       "      <td>64</td>\n",
       "      <td>41</td>\n",
       "    </tr>\n",
       "    <tr>\n",
       "      <th>2</th>\n",
       "      <td>61</td>\n",
       "      <td>107</td>\n",
       "    </tr>\n",
       "  </tbody>\n",
       "</table>\n",
       "</div>"
      ],
      "text/plain": [
       "group    1    2\n",
       "Gender         \n",
       "1       64   41\n",
       "2       61  107"
      ]
     },
     "execution_count": 22,
     "metadata": {},
     "output_type": "execute_result"
    }
   ],
   "source": [
    "pd.crosstab(dataframe.Gender, dataframe.group)"
   ]
  },
  {
   "cell_type": "code",
   "execution_count": 23,
   "id": "117c09ed",
   "metadata": {},
   "outputs": [
    {
     "data": {
      "text/plain": [
       "<AxesSubplot:title={'center':'Gender with Sclerosis syndrom'}, xlabel='Gender'>"
      ]
     },
     "execution_count": 23,
     "metadata": {},
     "output_type": "execute_result"
    },
    {
     "data": {
      "image/png": "[encoded data removed]",
      "text/plain": [
       "<Figure size 864x360 with 1 Axes>"
      ]
     },
     "metadata": {
      "needs_background": "light"
     },
     "output_type": "display_data"
    }
   ],
   "source": [
    "pd.crosstab(dataframe.Gender, dataframe.group).plot(kind = 'bar',\n",
    "                                                    cmap = 'plasma',\n",
    "                                                    figsize = (12, 5), \n",
    "                                                    title = 'Gender with Sclerosis syndrom', \n",
    "                                                    rot = 90)"
   ]
  },
  {
   "cell_type": "markdown",
   "id": "989e77b3",
   "metadata": {},
   "source": [
    "# Statical Info"
   ]
  },
  {
   "cell_type": "markdown",
   "id": "75e6dbe6",
   "metadata": {},
   "source": [
    "Statistical information refers to numerical data or metrics that describe various aspects of a dataset or population. These statistics provide quantitative measures of central tendency, dispersion, relationships, and other properties of the data."
   ]
  },
  {
   "cell_type": "code",
   "execution_count": 24,
   "id": "90a915df",
   "metadata": {},
   "outputs": [
    {
     "data": {
      "text/html": [
       "<div>\n",
       "<style scoped>\n",
       "    .dataframe tbody tr th:only-of-type {\n",
       "        vertical-align: middle;\n",
       "    }\n",
       "\n",
       "    .dataframe tbody tr th {\n",
       "        vertical-align: top;\n",
       "    }\n",
       "\n",
       "    .dataframe thead th {\n",
       "        text-align: right;\n",
       "    }\n",
       "</style>\n",
       "<table border=\"1\" class=\"dataframe\">\n",
       "  <thead>\n",
       "    <tr style=\"text-align: right;\">\n",
       "      <th></th>\n",
       "      <th>Gender</th>\n",
       "      <th>Age</th>\n",
       "      <th>Schooling</th>\n",
       "      <th>Breastfeeding</th>\n",
       "      <th>Varicella</th>\n",
       "      <th>Initial_Symptom</th>\n",
       "      <th>Mono_or_Polysymptomatic</th>\n",
       "      <th>Oligoclonal_Bands</th>\n",
       "      <th>LLSSEP</th>\n",
       "      <th>ULSSEP</th>\n",
       "      <th>VEP</th>\n",
       "      <th>BAEP</th>\n",
       "      <th>Periventricular_MRI</th>\n",
       "      <th>Cortical_MRI</th>\n",
       "      <th>Infratentorial_MRI</th>\n",
       "      <th>Spinal_Cord_MRI</th>\n",
       "      <th>group</th>\n",
       "    </tr>\n",
       "  </thead>\n",
       "  <tbody>\n",
       "    <tr>\n",
       "      <th>count</th>\n",
       "      <td>273.000000</td>\n",
       "      <td>273.000000</td>\n",
       "      <td>273.000000</td>\n",
       "      <td>273.000000</td>\n",
       "      <td>273.000000</td>\n",
       "      <td>273.000000</td>\n",
       "      <td>273.000000</td>\n",
       "      <td>273.000000</td>\n",
       "      <td>273.000000</td>\n",
       "      <td>273.000000</td>\n",
       "      <td>273.000000</td>\n",
       "      <td>273.000000</td>\n",
       "      <td>273.000000</td>\n",
       "      <td>273.000000</td>\n",
       "      <td>273.000000</td>\n",
       "      <td>273.000000</td>\n",
       "      <td>273.000000</td>\n",
       "    </tr>\n",
       "    <tr>\n",
       "      <th>mean</th>\n",
       "      <td>1.615385</td>\n",
       "      <td>34.062271</td>\n",
       "      <td>15.176471</td>\n",
       "      <td>1.831502</td>\n",
       "      <td>1.710623</td>\n",
       "      <td>6.430147</td>\n",
       "      <td>1.725275</td>\n",
       "      <td>0.358974</td>\n",
       "      <td>0.424908</td>\n",
       "      <td>0.369963</td>\n",
       "      <td>0.307692</td>\n",
       "      <td>0.065934</td>\n",
       "      <td>0.505495</td>\n",
       "      <td>0.432234</td>\n",
       "      <td>0.293040</td>\n",
       "      <td>0.315018</td>\n",
       "      <td>1.542125</td>\n",
       "    </tr>\n",
       "    <tr>\n",
       "      <th>std</th>\n",
       "      <td>0.487398</td>\n",
       "      <td>11.114369</td>\n",
       "      <td>4.236366</td>\n",
       "      <td>0.874998</td>\n",
       "      <td>0.732991</td>\n",
       "      <td>4.214241</td>\n",
       "      <td>0.494066</td>\n",
       "      <td>0.558426</td>\n",
       "      <td>0.495237</td>\n",
       "      <td>0.483681</td>\n",
       "      <td>0.462386</td>\n",
       "      <td>0.248623</td>\n",
       "      <td>0.500888</td>\n",
       "      <td>0.496296</td>\n",
       "      <td>0.455993</td>\n",
       "      <td>0.465376</td>\n",
       "      <td>0.499137</td>\n",
       "    </tr>\n",
       "    <tr>\n",
       "      <th>min</th>\n",
       "      <td>1.000000</td>\n",
       "      <td>15.000000</td>\n",
       "      <td>0.000000</td>\n",
       "      <td>1.000000</td>\n",
       "      <td>1.000000</td>\n",
       "      <td>1.000000</td>\n",
       "      <td>1.000000</td>\n",
       "      <td>0.000000</td>\n",
       "      <td>0.000000</td>\n",
       "      <td>0.000000</td>\n",
       "      <td>0.000000</td>\n",
       "      <td>0.000000</td>\n",
       "      <td>0.000000</td>\n",
       "      <td>0.000000</td>\n",
       "      <td>0.000000</td>\n",
       "      <td>0.000000</td>\n",
       "      <td>1.000000</td>\n",
       "    </tr>\n",
       "    <tr>\n",
       "      <th>25%</th>\n",
       "      <td>1.000000</td>\n",
       "      <td>25.000000</td>\n",
       "      <td>12.000000</td>\n",
       "      <td>1.000000</td>\n",
       "      <td>1.000000</td>\n",
       "      <td>3.000000</td>\n",
       "      <td>1.000000</td>\n",
       "      <td>0.000000</td>\n",
       "      <td>0.000000</td>\n",
       "      <td>0.000000</td>\n",
       "      <td>0.000000</td>\n",
       "      <td>0.000000</td>\n",
       "      <td>0.000000</td>\n",
       "      <td>0.000000</td>\n",
       "      <td>0.000000</td>\n",
       "      <td>0.000000</td>\n",
       "      <td>1.000000</td>\n",
       "    </tr>\n",
       "    <tr>\n",
       "      <th>50%</th>\n",
       "      <td>2.000000</td>\n",
       "      <td>33.000000</td>\n",
       "      <td>15.000000</td>\n",
       "      <td>2.000000</td>\n",
       "      <td>2.000000</td>\n",
       "      <td>6.000000</td>\n",
       "      <td>2.000000</td>\n",
       "      <td>0.000000</td>\n",
       "      <td>0.000000</td>\n",
       "      <td>0.000000</td>\n",
       "      <td>0.000000</td>\n",
       "      <td>0.000000</td>\n",
       "      <td>1.000000</td>\n",
       "      <td>0.000000</td>\n",
       "      <td>0.000000</td>\n",
       "      <td>0.000000</td>\n",
       "      <td>2.000000</td>\n",
       "    </tr>\n",
       "    <tr>\n",
       "      <th>75%</th>\n",
       "      <td>2.000000</td>\n",
       "      <td>40.000000</td>\n",
       "      <td>20.000000</td>\n",
       "      <td>3.000000</td>\n",
       "      <td>2.000000</td>\n",
       "      <td>9.000000</td>\n",
       "      <td>2.000000</td>\n",
       "      <td>1.000000</td>\n",
       "      <td>1.000000</td>\n",
       "      <td>1.000000</td>\n",
       "      <td>1.000000</td>\n",
       "      <td>0.000000</td>\n",
       "      <td>1.000000</td>\n",
       "      <td>1.000000</td>\n",
       "      <td>1.000000</td>\n",
       "      <td>1.000000</td>\n",
       "      <td>2.000000</td>\n",
       "    </tr>\n",
       "    <tr>\n",
       "      <th>max</th>\n",
       "      <td>2.000000</td>\n",
       "      <td>77.000000</td>\n",
       "      <td>25.000000</td>\n",
       "      <td>3.000000</td>\n",
       "      <td>3.000000</td>\n",
       "      <td>15.000000</td>\n",
       "      <td>3.000000</td>\n",
       "      <td>2.000000</td>\n",
       "      <td>1.000000</td>\n",
       "      <td>1.000000</td>\n",
       "      <td>1.000000</td>\n",
       "      <td>1.000000</td>\n",
       "      <td>1.000000</td>\n",
       "      <td>1.000000</td>\n",
       "      <td>1.000000</td>\n",
       "      <td>1.000000</td>\n",
       "      <td>2.000000</td>\n",
       "    </tr>\n",
       "  </tbody>\n",
       "</table>\n",
       "</div>"
      ],
      "text/plain": [
       "           Gender         Age   Schooling  Breastfeeding   Varicella  \\\n",
       "count  273.000000  273.000000  273.000000     273.000000  273.000000   \n",
       "mean     1.615385   34.062271   15.176471       1.831502    1.710623   \n",
       "std      0.487398   11.114369    4.236366       0.874998    0.732991   \n",
       "min      1.000000   15.000000    0.000000       1.000000    1.000000   \n",
       "25%      1.000000   25.000000   12.000000       1.000000    1.000000   \n",
       "50%      2.000000   33.000000   15.000000       2.000000    2.000000   \n",
       "75%      2.000000   40.000000   20.000000       3.000000    2.000000   \n",
       "max      2.000000   77.000000   25.000000       3.000000    3.000000   \n",
       "\n",
       "       Initial_Symptom  Mono_or_Polysymptomatic  Oligoclonal_Bands  \\\n",
       "count       273.000000               273.000000         273.000000   \n",
       "mean          6.430147                 1.725275           0.358974   \n",
       "std           4.214241                 0.494066           0.558426   \n",
       "min           1.000000                 1.000000           0.000000   \n",
       "25%           3.000000                 1.000000           0.000000   \n",
       "50%           6.000000                 2.000000           0.000000   \n",
       "75%           9.000000                 2.000000           1.000000   \n",
       "max          15.000000                 3.000000           2.000000   \n",
       "\n",
       "           LLSSEP      ULSSEP         VEP        BAEP  Periventricular_MRI  \\\n",
       "count  273.000000  273.000000  273.000000  273.000000           273.000000   \n",
       "mean     0.424908    0.369963    0.307692    0.065934             0.505495   \n",
       "std      0.495237    0.483681    0.462386    0.248623             0.500888   \n",
       "min      0.000000    0.000000    0.000000    0.000000             0.000000   \n",
       "25%      0.000000    0.000000    0.000000    0.000000             0.000000   \n",
       "50%      0.000000    0.000000    0.000000    0.000000             1.000000   \n",
       "75%      1.000000    1.000000    1.000000    0.000000             1.000000   \n",
       "max      1.000000    1.000000    1.000000    1.000000             1.000000   \n",
       "\n",
       "       Cortical_MRI  Infratentorial_MRI  Spinal_Cord_MRI       group  \n",
       "count    273.000000          273.000000       273.000000  273.000000  \n",
       "mean       0.432234            0.293040         0.315018    1.542125  \n",
       "std        0.496296            0.455993         0.465376    0.499137  \n",
       "min        0.000000            0.000000         0.000000    1.000000  \n",
       "25%        0.000000            0.000000         0.000000    1.000000  \n",
       "50%        0.000000            0.000000         0.000000    2.000000  \n",
       "75%        1.000000            1.000000         1.000000    2.000000  \n",
       "max        1.000000            1.000000         1.000000    2.000000  "
      ]
     },
     "execution_count": 24,
     "metadata": {},
     "output_type": "execute_result"
    }
   ],
   "source": [
    "dataframe.describe()"
   ]
  },
  {
   "cell_type": "markdown",
   "id": "66e85cb2",
   "metadata": {},
   "source": [
    "# Correlation Matrix"
   ]
  },
  {
   "cell_type": "markdown",
   "id": "bba7f2a0",
   "metadata": {},
   "source": [
    "A correlation matrix is a table that shows the pairwise correlations between variables in a dataset. Each cell in the table represents the correlation between two variables, and the strength and direction of the correlation is indicated by the color and magnitude of the cell.\n",
    "\n",
    "Correlation matrices are commonly used in data analysis to identify relationships between variables and to help understand the structure of the data. The values in the correlation matrix range from -1 to 1, with -1 indicating a perfect negative correlation, 1 indicating a perfect positive correlation, and 0 indicating no correlation."
   ]
  },
  {
   "cell_type": "code",
   "execution_count": 25,
   "id": "e8435178",
   "metadata": {},
   "outputs": [],
   "source": [
    "corr_matrix = dataframe.corr()"
   ]
  },
  {
   "cell_type": "code",
   "execution_count": 26,
   "id": "05d9c677",
   "metadata": {},
   "outputs": [
    {
     "data": {
      "text/html": [
       "<div>\n",
       "<style scoped>\n",
       "    .dataframe tbody tr th:only-of-type {\n",
       "        vertical-align: middle;\n",
       "    }\n",
       "\n",
       "    .dataframe tbody tr th {\n",
       "        vertical-align: top;\n",
       "    }\n",
       "\n",
       "    .dataframe thead th {\n",
       "        text-align: right;\n",
       "    }\n",
       "</style>\n",
       "<table border=\"1\" class=\"dataframe\">\n",
       "  <thead>\n",
       "    <tr style=\"text-align: right;\">\n",
       "      <th></th>\n",
       "      <th>Gender</th>\n",
       "      <th>Age</th>\n",
       "      <th>Schooling</th>\n",
       "      <th>Breastfeeding</th>\n",
       "      <th>Varicella</th>\n",
       "      <th>Initial_Symptom</th>\n",
       "      <th>Mono_or_Polysymptomatic</th>\n",
       "      <th>Oligoclonal_Bands</th>\n",
       "      <th>LLSSEP</th>\n",
       "      <th>ULSSEP</th>\n",
       "      <th>VEP</th>\n",
       "      <th>BAEP</th>\n",
       "      <th>Periventricular_MRI</th>\n",
       "      <th>Cortical_MRI</th>\n",
       "      <th>Infratentorial_MRI</th>\n",
       "      <th>Spinal_Cord_MRI</th>\n",
       "      <th>group</th>\n",
       "    </tr>\n",
       "  </thead>\n",
       "  <tbody>\n",
       "    <tr>\n",
       "      <th>Gender</th>\n",
       "      <td>1.000000</td>\n",
       "      <td>0.073662</td>\n",
       "      <td>-0.011521</td>\n",
       "      <td>-0.083554</td>\n",
       "      <td>-0.024540</td>\n",
       "      <td>-0.142896</td>\n",
       "      <td>-0.012918</td>\n",
       "      <td>-0.152741</td>\n",
       "      <td>-0.158170</td>\n",
       "      <td>-0.158350</td>\n",
       "      <td>-0.158114</td>\n",
       "      <td>-0.154031</td>\n",
       "      <td>-0.194613</td>\n",
       "      <td>-0.130943</td>\n",
       "      <td>-0.169238</td>\n",
       "      <td>0.001247</td>\n",
       "      <td>0.240633</td>\n",
       "    </tr>\n",
       "    <tr>\n",
       "      <th>Age</th>\n",
       "      <td>0.073662</td>\n",
       "      <td>1.000000</td>\n",
       "      <td>-0.157047</td>\n",
       "      <td>-0.062050</td>\n",
       "      <td>0.153851</td>\n",
       "      <td>0.107284</td>\n",
       "      <td>-0.027001</td>\n",
       "      <td>-0.019016</td>\n",
       "      <td>0.055289</td>\n",
       "      <td>0.088708</td>\n",
       "      <td>0.010566</td>\n",
       "      <td>0.208723</td>\n",
       "      <td>0.031307</td>\n",
       "      <td>0.083082</td>\n",
       "      <td>-0.042061</td>\n",
       "      <td>0.125557</td>\n",
       "      <td>-0.064426</td>\n",
       "    </tr>\n",
       "    <tr>\n",
       "      <th>Schooling</th>\n",
       "      <td>-0.011521</td>\n",
       "      <td>-0.157047</td>\n",
       "      <td>1.000000</td>\n",
       "      <td>-0.083021</td>\n",
       "      <td>-0.173903</td>\n",
       "      <td>0.012414</td>\n",
       "      <td>0.037300</td>\n",
       "      <td>0.001371</td>\n",
       "      <td>-0.023296</td>\n",
       "      <td>-0.067548</td>\n",
       "      <td>0.005962</td>\n",
       "      <td>0.062214</td>\n",
       "      <td>0.020180</td>\n",
       "      <td>0.038778</td>\n",
       "      <td>-0.060790</td>\n",
       "      <td>0.055944</td>\n",
       "      <td>-0.184197</td>\n",
       "    </tr>\n",
       "    <tr>\n",
       "      <th>Breastfeeding</th>\n",
       "      <td>-0.083554</td>\n",
       "      <td>-0.062050</td>\n",
       "      <td>-0.083021</td>\n",
       "      <td>1.000000</td>\n",
       "      <td>0.582905</td>\n",
       "      <td>0.015172</td>\n",
       "      <td>0.045605</td>\n",
       "      <td>0.026431</td>\n",
       "      <td>-0.063243</td>\n",
       "      <td>-0.095397</td>\n",
       "      <td>0.046833</td>\n",
       "      <td>-0.067042</td>\n",
       "      <td>-0.031434</td>\n",
       "      <td>-0.051789</td>\n",
       "      <td>-0.050865</td>\n",
       "      <td>-0.004597</td>\n",
       "      <td>0.142580</td>\n",
       "    </tr>\n",
       "    <tr>\n",
       "      <th>Varicella</th>\n",
       "      <td>-0.024540</td>\n",
       "      <td>0.153851</td>\n",
       "      <td>-0.173903</td>\n",
       "      <td>0.582905</td>\n",
       "      <td>1.000000</td>\n",
       "      <td>0.007631</td>\n",
       "      <td>-0.017292</td>\n",
       "      <td>-0.032703</td>\n",
       "      <td>-0.095529</td>\n",
       "      <td>-0.039124</td>\n",
       "      <td>0.057575</td>\n",
       "      <td>-0.036136</td>\n",
       "      <td>-0.100797</td>\n",
       "      <td>0.031800</td>\n",
       "      <td>-0.064345</td>\n",
       "      <td>-0.033557</td>\n",
       "      <td>0.169099</td>\n",
       "    </tr>\n",
       "    <tr>\n",
       "      <th>Initial_Symptom</th>\n",
       "      <td>-0.142896</td>\n",
       "      <td>0.107284</td>\n",
       "      <td>0.012414</td>\n",
       "      <td>0.015172</td>\n",
       "      <td>0.007631</td>\n",
       "      <td>1.000000</td>\n",
       "      <td>0.522113</td>\n",
       "      <td>0.110459</td>\n",
       "      <td>0.215092</td>\n",
       "      <td>0.251709</td>\n",
       "      <td>0.186535</td>\n",
       "      <td>0.144768</td>\n",
       "      <td>0.330294</td>\n",
       "      <td>0.009216</td>\n",
       "      <td>0.253664</td>\n",
       "      <td>0.238087</td>\n",
       "      <td>-0.388416</td>\n",
       "    </tr>\n",
       "    <tr>\n",
       "      <th>Mono_or_Polysymptomatic</th>\n",
       "      <td>-0.012918</td>\n",
       "      <td>-0.027001</td>\n",
       "      <td>0.037300</td>\n",
       "      <td>0.045605</td>\n",
       "      <td>-0.017292</td>\n",
       "      <td>0.522113</td>\n",
       "      <td>1.000000</td>\n",
       "      <td>0.092253</td>\n",
       "      <td>0.148275</td>\n",
       "      <td>0.073035</td>\n",
       "      <td>0.194356</td>\n",
       "      <td>0.088145</td>\n",
       "      <td>0.132399</td>\n",
       "      <td>0.021255</td>\n",
       "      <td>0.048598</td>\n",
       "      <td>0.153923</td>\n",
       "      <td>-0.034895</td>\n",
       "    </tr>\n",
       "    <tr>\n",
       "      <th>Oligoclonal_Bands</th>\n",
       "      <td>-0.152741</td>\n",
       "      <td>-0.019016</td>\n",
       "      <td>0.001371</td>\n",
       "      <td>0.026431</td>\n",
       "      <td>-0.032703</td>\n",
       "      <td>0.110459</td>\n",
       "      <td>0.092253</td>\n",
       "      <td>1.000000</td>\n",
       "      <td>-0.061697</td>\n",
       "      <td>-0.030713</td>\n",
       "      <td>0.069001</td>\n",
       "      <td>0.093700</td>\n",
       "      <td>0.084930</td>\n",
       "      <td>0.021769</td>\n",
       "      <td>0.018510</td>\n",
       "      <td>0.072548</td>\n",
       "      <td>-0.186351</td>\n",
       "    </tr>\n",
       "    <tr>\n",
       "      <th>LLSSEP</th>\n",
       "      <td>-0.158170</td>\n",
       "      <td>0.055289</td>\n",
       "      <td>-0.023296</td>\n",
       "      <td>-0.063243</td>\n",
       "      <td>-0.095529</td>\n",
       "      <td>0.215092</td>\n",
       "      <td>0.148275</td>\n",
       "      <td>-0.061697</td>\n",
       "      <td>1.000000</td>\n",
       "      <td>0.599875</td>\n",
       "      <td>0.390263</td>\n",
       "      <td>0.100077</td>\n",
       "      <td>0.183227</td>\n",
       "      <td>0.177415</td>\n",
       "      <td>0.130361</td>\n",
       "      <td>0.342295</td>\n",
       "      <td>-0.221406</td>\n",
       "    </tr>\n",
       "    <tr>\n",
       "      <th>ULSSEP</th>\n",
       "      <td>-0.158350</td>\n",
       "      <td>0.088708</td>\n",
       "      <td>-0.067548</td>\n",
       "      <td>-0.095397</td>\n",
       "      <td>-0.039124</td>\n",
       "      <td>0.251709</td>\n",
       "      <td>0.073035</td>\n",
       "      <td>-0.030713</td>\n",
       "      <td>0.599875</td>\n",
       "      <td>1.000000</td>\n",
       "      <td>0.343948</td>\n",
       "      <td>0.132705</td>\n",
       "      <td>0.211617</td>\n",
       "      <td>0.112482</td>\n",
       "      <td>0.156739</td>\n",
       "      <td>0.264320</td>\n",
       "      <td>-0.194231</td>\n",
       "    </tr>\n",
       "    <tr>\n",
       "      <th>VEP</th>\n",
       "      <td>-0.158114</td>\n",
       "      <td>0.010566</td>\n",
       "      <td>0.005962</td>\n",
       "      <td>0.046833</td>\n",
       "      <td>0.057575</td>\n",
       "      <td>0.186535</td>\n",
       "      <td>0.194356</td>\n",
       "      <td>0.069001</td>\n",
       "      <td>0.390263</td>\n",
       "      <td>0.343948</td>\n",
       "      <td>1.000000</td>\n",
       "      <td>0.110702</td>\n",
       "      <td>0.183161</td>\n",
       "      <td>0.203341</td>\n",
       "      <td>0.163638</td>\n",
       "      <td>0.162967</td>\n",
       "      <td>-0.215663</td>\n",
       "    </tr>\n",
       "    <tr>\n",
       "      <th>BAEP</th>\n",
       "      <td>-0.154031</td>\n",
       "      <td>0.208723</td>\n",
       "      <td>0.062214</td>\n",
       "      <td>-0.067042</td>\n",
       "      <td>-0.036136</td>\n",
       "      <td>0.144768</td>\n",
       "      <td>0.088145</td>\n",
       "      <td>0.093700</td>\n",
       "      <td>0.100077</td>\n",
       "      <td>0.132705</td>\n",
       "      <td>0.110702</td>\n",
       "      <td>1.000000</td>\n",
       "      <td>0.026602</td>\n",
       "      <td>0.215116</td>\n",
       "      <td>0.055949</td>\n",
       "      <td>0.074025</td>\n",
       "      <td>-0.052089</td>\n",
       "    </tr>\n",
       "    <tr>\n",
       "      <th>Periventricular_MRI</th>\n",
       "      <td>-0.194613</td>\n",
       "      <td>0.031307</td>\n",
       "      <td>0.020180</td>\n",
       "      <td>-0.031434</td>\n",
       "      <td>-0.100797</td>\n",
       "      <td>0.330294</td>\n",
       "      <td>0.132399</td>\n",
       "      <td>0.084930</td>\n",
       "      <td>0.183227</td>\n",
       "      <td>0.211617</td>\n",
       "      <td>0.183161</td>\n",
       "      <td>0.026602</td>\n",
       "      <td>1.000000</td>\n",
       "      <td>0.212252</td>\n",
       "      <td>0.330952</td>\n",
       "      <td>-0.023225</td>\n",
       "      <td>-0.541345</td>\n",
       "    </tr>\n",
       "    <tr>\n",
       "      <th>Cortical_MRI</th>\n",
       "      <td>-0.130943</td>\n",
       "      <td>0.083082</td>\n",
       "      <td>0.038778</td>\n",
       "      <td>-0.051789</td>\n",
       "      <td>0.031800</td>\n",
       "      <td>0.009216</td>\n",
       "      <td>0.021255</td>\n",
       "      <td>0.021769</td>\n",
       "      <td>0.177415</td>\n",
       "      <td>0.112482</td>\n",
       "      <td>0.203341</td>\n",
       "      <td>0.215116</td>\n",
       "      <td>0.212252</td>\n",
       "      <td>1.000000</td>\n",
       "      <td>0.169298</td>\n",
       "      <td>0.013177</td>\n",
       "      <td>-0.222184</td>\n",
       "    </tr>\n",
       "    <tr>\n",
       "      <th>Infratentorial_MRI</th>\n",
       "      <td>-0.169238</td>\n",
       "      <td>-0.042061</td>\n",
       "      <td>-0.060790</td>\n",
       "      <td>-0.050865</td>\n",
       "      <td>-0.064345</td>\n",
       "      <td>0.253664</td>\n",
       "      <td>0.048598</td>\n",
       "      <td>0.018510</td>\n",
       "      <td>0.130361</td>\n",
       "      <td>0.156739</td>\n",
       "      <td>0.163638</td>\n",
       "      <td>0.055949</td>\n",
       "      <td>0.330952</td>\n",
       "      <td>0.169298</td>\n",
       "      <td>1.000000</td>\n",
       "      <td>0.065809</td>\n",
       "      <td>-0.425954</td>\n",
       "    </tr>\n",
       "    <tr>\n",
       "      <th>Spinal_Cord_MRI</th>\n",
       "      <td>0.001247</td>\n",
       "      <td>0.125557</td>\n",
       "      <td>0.055944</td>\n",
       "      <td>-0.004597</td>\n",
       "      <td>-0.033557</td>\n",
       "      <td>0.238087</td>\n",
       "      <td>0.153923</td>\n",
       "      <td>0.072548</td>\n",
       "      <td>0.342295</td>\n",
       "      <td>0.264320</td>\n",
       "      <td>0.162967</td>\n",
       "      <td>0.074025</td>\n",
       "      <td>-0.023225</td>\n",
       "      <td>0.013177</td>\n",
       "      <td>0.065809</td>\n",
       "      <td>1.000000</td>\n",
       "      <td>-0.120647</td>\n",
       "    </tr>\n",
       "    <tr>\n",
       "      <th>group</th>\n",
       "      <td>0.240633</td>\n",
       "      <td>-0.064426</td>\n",
       "      <td>-0.184197</td>\n",
       "      <td>0.142580</td>\n",
       "      <td>0.169099</td>\n",
       "      <td>-0.388416</td>\n",
       "      <td>-0.034895</td>\n",
       "      <td>-0.186351</td>\n",
       "      <td>-0.221406</td>\n",
       "      <td>-0.194231</td>\n",
       "      <td>-0.215663</td>\n",
       "      <td>-0.052089</td>\n",
       "      <td>-0.541345</td>\n",
       "      <td>-0.222184</td>\n",
       "      <td>-0.425954</td>\n",
       "      <td>-0.120647</td>\n",
       "      <td>1.000000</td>\n",
       "    </tr>\n",
       "  </tbody>\n",
       "</table>\n",
       "</div>"
      ],
      "text/plain": [
       "                           Gender       Age  Schooling  Breastfeeding  \\\n",
       "Gender                   1.000000  0.073662  -0.011521      -0.083554   \n",
       "Age                      0.073662  1.000000  -0.157047      -0.062050   \n",
       "Schooling               -0.011521 -0.157047   1.000000      -0.083021   \n",
       "Breastfeeding           -0.083554 -0.062050  -0.083021       1.000000   \n",
       "Varicella               -0.024540  0.153851  -0.173903       0.582905   \n",
       "Initial_Symptom         -0.142896  0.107284   0.012414       0.015172   \n",
       "Mono_or_Polysymptomatic -0.012918 -0.027001   0.037300       0.045605   \n",
       "Oligoclonal_Bands       -0.152741 -0.019016   0.001371       0.026431   \n",
       "LLSSEP                  -0.158170  0.055289  -0.023296      -0.063243   \n",
       "ULSSEP                  -0.158350  0.088708  -0.067548      -0.095397   \n",
       "VEP                     -0.158114  0.010566   0.005962       0.046833   \n",
       "BAEP                    -0.154031  0.208723   0.062214      -0.067042   \n",
       "Periventricular_MRI     -0.194613  0.031307   0.020180      -0.031434   \n",
       "Cortical_MRI            -0.130943  0.083082   0.038778      -0.051789   \n",
       "Infratentorial_MRI      -0.169238 -0.042061  -0.060790      -0.050865   \n",
       "Spinal_Cord_MRI          0.001247  0.125557   0.055944      -0.004597   \n",
       "group                    0.240633 -0.064426  -0.184197       0.142580   \n",
       "\n",
       "                         Varicella  Initial_Symptom  Mono_or_Polysymptomatic  \\\n",
       "Gender                   -0.024540        -0.142896                -0.012918   \n",
       "Age                       0.153851         0.107284                -0.027001   \n",
       "Schooling                -0.173903         0.012414                 0.037300   \n",
       "Breastfeeding             0.582905         0.015172                 0.045605   \n",
       "Varicella                 1.000000         0.007631                -0.017292   \n",
       "Initial_Symptom           0.007631         1.000000                 0.522113   \n",
       "Mono_or_Polysymptomatic  -0.017292         0.522113                 1.000000   \n",
       "Oligoclonal_Bands        -0.032703         0.110459                 0.092253   \n",
       "LLSSEP                   -0.095529         0.215092                 0.148275   \n",
       "ULSSEP                   -0.039124         0.251709                 0.073035   \n",
       "VEP                       0.057575         0.186535                 0.194356   \n",
       "BAEP                     -0.036136         0.144768                 0.088145   \n",
       "Periventricular_MRI      -0.100797         0.330294                 0.132399   \n",
       "Cortical_MRI              0.031800         0.009216                 0.021255   \n",
       "Infratentorial_MRI       -0.064345         0.253664                 0.048598   \n",
       "Spinal_Cord_MRI          -0.033557         0.238087                 0.153923   \n",
       "group                     0.169099        -0.388416                -0.034895   \n",
       "\n",
       "                         Oligoclonal_Bands    LLSSEP    ULSSEP       VEP  \\\n",
       "Gender                           -0.152741 -0.158170 -0.158350 -0.158114   \n",
       "Age                              -0.019016  0.055289  0.088708  0.010566   \n",
       "Schooling                         0.001371 -0.023296 -0.067548  0.005962   \n",
       "Breastfeeding                     0.026431 -0.063243 -0.095397  0.046833   \n",
       "Varicella                        -0.032703 -0.095529 -0.039124  0.057575   \n",
       "Initial_Symptom                   0.110459  0.215092  0.251709  0.186535   \n",
       "Mono_or_Polysymptomatic           0.092253  0.148275  0.073035  0.194356   \n",
       "Oligoclonal_Bands                 1.000000 -0.061697 -0.030713  0.069001   \n",
       "LLSSEP                           -0.061697  1.000000  0.599875  0.390263   \n",
       "ULSSEP                           -0.030713  0.599875  1.000000  0.343948   \n",
       "VEP                               0.069001  0.390263  0.343948  1.000000   \n",
       "BAEP                              0.093700  0.100077  0.132705  0.110702   \n",
       "Periventricular_MRI               0.084930  0.183227  0.211617  0.183161   \n",
       "Cortical_MRI                      0.021769  0.177415  0.112482  0.203341   \n",
       "Infratentorial_MRI                0.018510  0.130361  0.156739  0.163638   \n",
       "Spinal_Cord_MRI                   0.072548  0.342295  0.264320  0.162967   \n",
       "group                            -0.186351 -0.221406 -0.194231 -0.215663   \n",
       "\n",
       "                             BAEP  Periventricular_MRI  Cortical_MRI  \\\n",
       "Gender                  -0.154031            -0.194613     -0.130943   \n",
       "Age                      0.208723             0.031307      0.083082   \n",
       "Schooling                0.062214             0.020180      0.038778   \n",
       "Breastfeeding           -0.067042            -0.031434     -0.051789   \n",
       "Varicella               -0.036136            -0.100797      0.031800   \n",
       "Initial_Symptom          0.144768             0.330294      0.009216   \n",
       "Mono_or_Polysymptomatic  0.088145             0.132399      0.021255   \n",
       "Oligoclonal_Bands        0.093700             0.084930      0.021769   \n",
       "LLSSEP                   0.100077             0.183227      0.177415   \n",
       "ULSSEP                   0.132705             0.211617      0.112482   \n",
       "VEP                      0.110702             0.183161      0.203341   \n",
       "BAEP                     1.000000             0.026602      0.215116   \n",
       "Periventricular_MRI      0.026602             1.000000      0.212252   \n",
       "Cortical_MRI             0.215116             0.212252      1.000000   \n",
       "Infratentorial_MRI       0.055949             0.330952      0.169298   \n",
       "Spinal_Cord_MRI          0.074025            -0.023225      0.013177   \n",
       "group                   -0.052089            -0.541345     -0.222184   \n",
       "\n",
       "                         Infratentorial_MRI  Spinal_Cord_MRI     group  \n",
       "Gender                            -0.169238         0.001247  0.240633  \n",
       "Age                               -0.042061         0.125557 -0.064426  \n",
       "Schooling                         -0.060790         0.055944 -0.184197  \n",
       "Breastfeeding                     -0.050865        -0.004597  0.142580  \n",
       "Varicella                         -0.064345        -0.033557  0.169099  \n",
       "Initial_Symptom                    0.253664         0.238087 -0.388416  \n",
       "Mono_or_Polysymptomatic            0.048598         0.153923 -0.034895  \n",
       "Oligoclonal_Bands                  0.018510         0.072548 -0.186351  \n",
       "LLSSEP                             0.130361         0.342295 -0.221406  \n",
       "ULSSEP                             0.156739         0.264320 -0.194231  \n",
       "VEP                                0.163638         0.162967 -0.215663  \n",
       "BAEP                               0.055949         0.074025 -0.052089  \n",
       "Periventricular_MRI                0.330952        -0.023225 -0.541345  \n",
       "Cortical_MRI                       0.169298         0.013177 -0.222184  \n",
       "Infratentorial_MRI                 1.000000         0.065809 -0.425954  \n",
       "Spinal_Cord_MRI                    0.065809         1.000000 -0.120647  \n",
       "group                             -0.425954        -0.120647  1.000000  "
      ]
     },
     "execution_count": 26,
     "metadata": {},
     "output_type": "execute_result"
    }
   ],
   "source": [
    "corr_matrix"
   ]
  },
  {
   "cell_type": "code",
   "execution_count": 27,
   "id": "305de189",
   "metadata": {},
   "outputs": [
    {
     "data": {
      "text/plain": [
       "<AxesSubplot:>"
      ]
     },
     "execution_count": 27,
     "metadata": {},
     "output_type": "execute_result"
    },
    {
     "data": {
      "image/png": "[encoded data removed]",
      "text/plain": [
       "<Figure size 1296x720 with 2 Axes>"
      ]
     },
     "metadata": {
      "needs_background": "light"
     },
     "output_type": "display_data"
    }
   ],
   "source": [
    "plt.figure(figsize = (18, 10))\n",
    "sns.heatmap(corr_matrix, \n",
    "            annot = True, \n",
    "            cmap = 'inferno')"
   ]
  },
  {
   "cell_type": "code",
   "execution_count": 28,
   "id": "32aa9d43",
   "metadata": {},
   "outputs": [],
   "source": [
    "dataset = dataframe.drop('group', axis = 1)"
   ]
  },
  {
   "cell_type": "code",
   "execution_count": 29,
   "id": "d88b4ece",
   "metadata": {},
   "outputs": [
    {
     "data": {
      "text/html": [
       "<div>\n",
       "<style scoped>\n",
       "    .dataframe tbody tr th:only-of-type {\n",
       "        vertical-align: middle;\n",
       "    }\n",
       "\n",
       "    .dataframe tbody tr th {\n",
       "        vertical-align: top;\n",
       "    }\n",
       "\n",
       "    .dataframe thead th {\n",
       "        text-align: right;\n",
       "    }\n",
       "</style>\n",
       "<table border=\"1\" class=\"dataframe\">\n",
       "  <thead>\n",
       "    <tr style=\"text-align: right;\">\n",
       "      <th></th>\n",
       "      <th>Gender</th>\n",
       "      <th>Age</th>\n",
       "      <th>Schooling</th>\n",
       "      <th>Breastfeeding</th>\n",
       "      <th>Varicella</th>\n",
       "      <th>Initial_Symptom</th>\n",
       "      <th>Mono_or_Polysymptomatic</th>\n",
       "      <th>Oligoclonal_Bands</th>\n",
       "      <th>LLSSEP</th>\n",
       "      <th>ULSSEP</th>\n",
       "      <th>VEP</th>\n",
       "      <th>BAEP</th>\n",
       "      <th>Periventricular_MRI</th>\n",
       "      <th>Cortical_MRI</th>\n",
       "      <th>Infratentorial_MRI</th>\n",
       "      <th>Spinal_Cord_MRI</th>\n",
       "    </tr>\n",
       "  </thead>\n",
       "  <tbody>\n",
       "    <tr>\n",
       "      <th>0</th>\n",
       "      <td>1</td>\n",
       "      <td>34</td>\n",
       "      <td>20.0</td>\n",
       "      <td>1</td>\n",
       "      <td>1</td>\n",
       "      <td>2.0</td>\n",
       "      <td>1</td>\n",
       "      <td>0</td>\n",
       "      <td>1</td>\n",
       "      <td>1</td>\n",
       "      <td>0</td>\n",
       "      <td>0</td>\n",
       "      <td>0</td>\n",
       "      <td>1</td>\n",
       "      <td>0</td>\n",
       "      <td>1</td>\n",
       "    </tr>\n",
       "    <tr>\n",
       "      <th>1</th>\n",
       "      <td>1</td>\n",
       "      <td>61</td>\n",
       "      <td>25.0</td>\n",
       "      <td>3</td>\n",
       "      <td>2</td>\n",
       "      <td>10.0</td>\n",
       "      <td>2</td>\n",
       "      <td>1</td>\n",
       "      <td>1</td>\n",
       "      <td>0</td>\n",
       "      <td>1</td>\n",
       "      <td>0</td>\n",
       "      <td>0</td>\n",
       "      <td>0</td>\n",
       "      <td>0</td>\n",
       "      <td>1</td>\n",
       "    </tr>\n",
       "    <tr>\n",
       "      <th>2</th>\n",
       "      <td>1</td>\n",
       "      <td>22</td>\n",
       "      <td>20.0</td>\n",
       "      <td>3</td>\n",
       "      <td>1</td>\n",
       "      <td>3.0</td>\n",
       "      <td>1</td>\n",
       "      <td>1</td>\n",
       "      <td>0</td>\n",
       "      <td>0</td>\n",
       "      <td>0</td>\n",
       "      <td>0</td>\n",
       "      <td>0</td>\n",
       "      <td>1</td>\n",
       "      <td>0</td>\n",
       "      <td>0</td>\n",
       "    </tr>\n",
       "    <tr>\n",
       "      <th>3</th>\n",
       "      <td>2</td>\n",
       "      <td>41</td>\n",
       "      <td>15.0</td>\n",
       "      <td>1</td>\n",
       "      <td>1</td>\n",
       "      <td>7.0</td>\n",
       "      <td>2</td>\n",
       "      <td>1</td>\n",
       "      <td>0</td>\n",
       "      <td>1</td>\n",
       "      <td>1</td>\n",
       "      <td>0</td>\n",
       "      <td>1</td>\n",
       "      <td>1</td>\n",
       "      <td>0</td>\n",
       "      <td>0</td>\n",
       "    </tr>\n",
       "    <tr>\n",
       "      <th>4</th>\n",
       "      <td>2</td>\n",
       "      <td>34</td>\n",
       "      <td>20.0</td>\n",
       "      <td>2</td>\n",
       "      <td>1</td>\n",
       "      <td>6.0</td>\n",
       "      <td>2</td>\n",
       "      <td>0</td>\n",
       "      <td>1</td>\n",
       "      <td>0</td>\n",
       "      <td>0</td>\n",
       "      <td>0</td>\n",
       "      <td>1</td>\n",
       "      <td>0</td>\n",
       "      <td>0</td>\n",
       "      <td>0</td>\n",
       "    </tr>\n",
       "  </tbody>\n",
       "</table>\n",
       "</div>"
      ],
      "text/plain": [
       "   Gender  Age  Schooling  Breastfeeding  Varicella  Initial_Symptom  \\\n",
       "0       1   34       20.0              1          1              2.0   \n",
       "1       1   61       25.0              3          2             10.0   \n",
       "2       1   22       20.0              3          1              3.0   \n",
       "3       2   41       15.0              1          1              7.0   \n",
       "4       2   34       20.0              2          1              6.0   \n",
       "\n",
       "   Mono_or_Polysymptomatic  Oligoclonal_Bands  LLSSEP  ULSSEP  VEP  BAEP  \\\n",
       "0                        1                  0       1       1    0     0   \n",
       "1                        2                  1       1       0    1     0   \n",
       "2                        1                  1       0       0    0     0   \n",
       "3                        2                  1       0       1    1     0   \n",
       "4                        2                  0       1       0    0     0   \n",
       "\n",
       "   Periventricular_MRI  Cortical_MRI  Infratentorial_MRI  Spinal_Cord_MRI  \n",
       "0                    0             1                   0                1  \n",
       "1                    0             0                   0                1  \n",
       "2                    0             1                   0                0  \n",
       "3                    1             1                   0                0  \n",
       "4                    1             0                   0                0  "
      ]
     },
     "execution_count": 29,
     "metadata": {},
     "output_type": "execute_result"
    }
   ],
   "source": [
    "dataset.head()"
   ]
  },
  {
   "cell_type": "code",
   "execution_count": 30,
   "id": "b20afb31",
   "metadata": {},
   "outputs": [
    {
     "data": {
      "text/plain": [
       "<AxesSubplot:title={'center':'Correlation With Sclerosis Syndrom Group'}>"
      ]
     },
     "execution_count": 30,
     "metadata": {},
     "output_type": "execute_result"
    },
    {
     "data": {
      "image/png": "[encoded data removed]",
      "text/plain": [
       "<Figure size 864x360 with 1 Axes>"
      ]
     },
     "metadata": {
      "needs_background": "light"
     },
     "output_type": "display_data"
    }
   ],
   "source": [
    "dataset.corrwith(dataframe['group']).plot.bar(\n",
    "    figsize = (12, 5), \n",
    "    title = 'Correlation With Sclerosis Syndrom Group', \n",
    "    rot = 90, \n",
    "    cmap = 'seismic'\n",
    ")"
   ]
  },
  {
   "cell_type": "code",
   "execution_count": 31,
   "id": "8b7a33ea",
   "metadata": {},
   "outputs": [
    {
     "data": {
      "text/plain": [
       "Index(['Gender', 'Age', 'Schooling', 'Breastfeeding', 'Varicella',\n",
       "       'Initial_Symptom', 'Mono_or_Polysymptomatic', 'Oligoclonal_Bands',\n",
       "       'LLSSEP', 'ULSSEP', 'VEP', 'BAEP', 'Periventricular_MRI',\n",
       "       'Cortical_MRI', 'Infratentorial_MRI', 'Spinal_Cord_MRI', 'group'],\n",
       "      dtype='object')"
      ]
     },
     "execution_count": 31,
     "metadata": {},
     "output_type": "execute_result"
    }
   ],
   "source": [
    "dataframe.columns"
   ]
  },
  {
   "cell_type": "markdown",
   "id": "032bae25",
   "metadata": {},
   "source": [
    "# Splitting Dataset"
   ]
  },
  {
   "cell_type": "markdown",
   "id": "2d5e4770",
   "metadata": {},
   "source": [
    "Splitting a dataset refers to the process of dividing a given dataset into two or more subsets for training and evaluation purposes. The most common type of split is between the training set and the testing (or validation) set. This division allows us to assess the performance of a machine learning model on unseen data and evaluate its generalization capabilities.\n",
    "\n",
    "Train-Test Split: This is the most basic type of split, where the dataset is divided into a training set and a testing set. The training set is used to train the machine learning model, while the testing set is used to evaluate its performance. The split is typically done using a fixed ratio, such as 80% for training and 20% for testing."
   ]
  },
  {
   "cell_type": "code",
   "execution_count": 32,
   "id": "12aedb62",
   "metadata": {},
   "outputs": [],
   "source": [
    "x = dataframe.drop('group', axis = 1)\n",
    "y = dataframe['group']"
   ]
  },
  {
   "cell_type": "code",
   "execution_count": 33,
   "id": "e9bb8e52",
   "metadata": {},
   "outputs": [
    {
     "data": {
      "text/plain": [
       "((273, 16), (273,))"
      ]
     },
     "execution_count": 33,
     "metadata": {},
     "output_type": "execute_result"
    }
   ],
   "source": [
    "x.shape, y.shape"
   ]
  },
  {
   "cell_type": "code",
   "execution_count": 34,
   "id": "c344c2e7",
   "metadata": {},
   "outputs": [],
   "source": [
    "from sklearn.model_selection import train_test_split"
   ]
  },
  {
   "cell_type": "code",
   "execution_count": 35,
   "id": "e4457706",
   "metadata": {},
   "outputs": [],
   "source": [
    "x_train, x_test, y_train, y_test = train_test_split(x, \n",
    "                                                    y, \n",
    "                                                    test_size = 0.2, \n",
    "                                                    random_state = 101)"
   ]
  },
  {
   "cell_type": "code",
   "execution_count": 36,
   "id": "70d24de7",
   "metadata": {},
   "outputs": [
    {
     "data": {
      "text/plain": [
       "((218, 16), (55, 16), (218,), (55,))"
      ]
     },
     "execution_count": 36,
     "metadata": {},
     "output_type": "execute_result"
    }
   ],
   "source": [
    "x_train.shape, x_test.shape, y_train.shape, y_test.shape"
   ]
  },
  {
   "cell_type": "markdown",
   "id": "c518afdf",
   "metadata": {},
   "source": [
    "# Scaling"
   ]
  },
  {
   "cell_type": "markdown",
   "id": "bb488661",
   "metadata": {},
   "source": [
    "Scaling is a preprocessing technique used in machine learning to transform the input features to a similar scale. It is often necessary because features can have different units, ranges, or magnitudes, which can affect the performance of certain algorithms. Scaling ensures that all features contribute equally to the learning process and prevents features with larger values from dominating those with smaller values.\n",
    "\n",
    "StandardScaler is a commonly used method for scaling numerical features in machine learning. It is part of the preprocessing module in scikit-learn, a popular machine learning library in Python."
   ]
  },
  {
   "cell_type": "code",
   "execution_count": 37,
   "id": "368186a1",
   "metadata": {},
   "outputs": [],
   "source": [
    "from sklearn.preprocessing import StandardScaler"
   ]
  },
  {
   "cell_type": "code",
   "execution_count": 38,
   "id": "5914a9ad",
   "metadata": {},
   "outputs": [],
   "source": [
    "scaler = StandardScaler()"
   ]
  },
  {
   "cell_type": "code",
   "execution_count": 39,
   "id": "4b2d5906",
   "metadata": {},
   "outputs": [],
   "source": [
    "x_train = scaler.fit_transform(x_train)\n",
    "x_test = scaler.transform(x_test)"
   ]
  },
  {
   "cell_type": "code",
   "execution_count": 40,
   "id": "900f606b",
   "metadata": {},
   "outputs": [
    {
     "data": {
      "text/plain": [
       "array([[ 7.38985312e-01,  2.77347238e-01, -4.39550143e-02, ...,\n",
       "         1.17028425e+00, -6.66114562e-01, -7.24206824e-01],\n",
       "       [ 7.38985312e-01,  3.67723468e-01, -7.91982239e-04, ...,\n",
       "        -8.54493259e-01,  1.50124327e+00,  1.38082101e+00],\n",
       "       [ 7.38985312e-01,  9.65947780e-02, -7.77726559e-01, ...,\n",
       "        -8.54493259e-01, -6.66114562e-01, -7.24206824e-01],\n",
       "       ...,\n",
       "       [-1.35320687e+00, -5.36038832e-01, -7.77726559e-01, ...,\n",
       "         1.17028425e+00,  1.50124327e+00, -7.24206824e-01],\n",
       "       [ 7.38985312e-01, -5.36038832e-01,  1.17899756e+00, ...,\n",
       "         1.17028425e+00,  1.50124327e+00,  1.38082101e+00],\n",
       "       [ 7.38985312e-01, -8.07167522e-01,  1.17899756e+00, ...,\n",
       "         1.17028425e+00, -6.66114562e-01,  1.38082101e+00]])"
      ]
     },
     "execution_count": 40,
     "metadata": {},
     "output_type": "execute_result"
    }
   ],
   "source": [
    "x_train"
   ]
  },
  {
   "cell_type": "code",
   "execution_count": 41,
   "id": "9797413d",
   "metadata": {
    "scrolled": false
   },
   "outputs": [
    {
     "data": {
      "text/plain": [
       "array([[-1.35320687,  0.36772347, -0.04395501,  0.17347051, -0.96340361,\n",
       "        -0.83825892, -1.4755613 , -0.64708466, -0.870669  ,  1.26302735,\n",
       "        -0.67330033,  4.33799283, -1.02791234, -0.85449326, -0.66611456,\n",
       "         1.38082101],\n",
       "       [-1.35320687,  0.18697101, -3.71281274, -0.97248618, -0.96340361,\n",
       "         1.51533909,  0.57330726,  1.13854136, -0.870669  , -0.79174849,\n",
       "        -0.67330033, -0.23052136,  0.97284561, -0.85449326,  1.50124327,\n",
       "        -0.72420682],\n",
       "       [ 0.73898531,  0.00621855, -0.77772656,  1.31942719,  1.76415467,\n",
       "         0.33854008,  0.57330726, -0.64708466, -0.870669  , -0.79174849,\n",
       "        -0.67330033, -0.23052136, -1.02791234, -0.85449326, -0.66611456,\n",
       "        -0.72420682],\n",
       "       [-1.35320687, -1.16867244, -0.04395501,  1.31942719,  1.76415467,\n",
       "        -0.36753932,  0.57330726,  1.13854136, -0.870669  , -0.79174849,\n",
       "        -0.67330033, -0.23052136, -1.02791234, -0.85449326, -0.66611456,\n",
       "         1.38082101],\n",
       "       [ 0.73898531, -0.80716752, -0.04395501,  0.17347051, -0.96340361,\n",
       "        -0.60289912,  0.57330726, -0.64708466,  1.14854209, -0.79174849,\n",
       "         1.48522131, -0.23052136, -1.02791234, -0.85449326,  1.50124327,\n",
       "        -0.72420682],\n",
       "       [ 0.73898531, -0.71679129, -1.5114981 , -0.97248618, -0.96340361,\n",
       "        -0.13217952,  0.57330726, -0.64708466,  1.14854209, -0.79174849,\n",
       "         1.48522131, -0.23052136, -1.02791234,  1.17028425, -0.66611456,\n",
       "        -0.72420682],\n",
       "       [-1.35320687,  0.18697101, -0.04395501, -0.97248618,  0.40037553,\n",
       "         1.04461949,  0.57330726, -0.64708466,  1.14854209, -0.79174849,\n",
       "         1.48522131, -0.23052136,  0.97284561,  1.17028425, -0.66611456,\n",
       "        -0.72420682],\n",
       "       [-1.35320687, -1.3494249 , -0.04395501,  1.31942719, -0.96340361,\n",
       "         0.10318028,  0.57330726, -0.64708466,  1.14854209,  1.26302735,\n",
       "         1.48522131, -0.23052136,  0.97284561,  1.17028425,  1.50124327,\n",
       "        -0.72420682],\n",
       "       [-1.35320687,  1.54261446,  1.17899756,  0.17347051, -0.96340361,\n",
       "        -1.07361872,  0.57330726, -0.64708466,  1.14854209, -0.79174849,\n",
       "         1.48522131,  4.33799283, -1.02791234, -0.85449326, -0.66611456,\n",
       "        -0.72420682],\n",
       "       [ 0.73898531,  0.90998085, -2.24526965,  1.31942719,  1.76415467,\n",
       "         0.57389989,  0.57330726, -0.64708466, -0.870669  , -0.79174849,\n",
       "        -0.67330033, -0.23052136,  0.97284561,  1.17028425, -0.66611456,\n",
       "        -0.72420682],\n",
       "       [ 0.73898531, -1.07829621,  1.17899756, -0.97248618, -0.96340361,\n",
       "         0.33854008,  0.57330726, -0.64708466,  1.14854209,  1.26302735,\n",
       "        -0.67330033, -0.23052136,  0.97284561,  1.17028425, -0.66611456,\n",
       "        -0.72420682],\n",
       "       [-1.35320687,  0.90998085, -1.5114981 , -0.97248618, -0.96340361,\n",
       "        -0.60289912, -1.4755613 ,  1.13854136, -0.870669  , -0.79174849,\n",
       "        -0.67330033, -0.23052136,  0.97284561,  1.17028425,  1.50124327,\n",
       "         1.38082101],\n",
       "       [-1.35320687, -0.53603883,  1.17899756, -0.97248618, -0.96340361,\n",
       "        -1.30897853, -1.4755613 , -0.64708466, -0.870669  , -0.79174849,\n",
       "        -0.67330033, -0.23052136,  0.97284561,  1.17028425,  1.50124327,\n",
       "        -0.72420682],\n",
       "       [-1.35320687, -0.62641506,  1.17899756, -0.97248618, -0.96340361,\n",
       "        -1.30897853,  0.57330726, -0.64708466, -0.870669  , -0.79174849,\n",
       "        -0.67330033, -0.23052136,  0.97284561, -0.85449326, -0.66611456,\n",
       "        -0.72420682],\n",
       "       [-1.35320687,  1.361862  ,  1.17899756, -0.97248618,  0.40037553,\n",
       "         1.51533909,  0.57330726,  1.13854136,  1.14854209,  1.26302735,\n",
       "         1.48522131,  4.33799283, -1.02791234,  1.17028425,  1.50124327,\n",
       "        -0.72420682],\n",
       "       [-1.35320687, -1.3494249 , -0.77772656,  1.31942719, -0.96340361,\n",
       "        -0.13217952,  0.57330726,  2.92416737, -0.870669  , -0.79174849,\n",
       "         1.48522131, -0.23052136, -1.02791234, -0.85449326, -0.66611456,\n",
       "        -0.72420682],\n",
       "       [-1.35320687,  3.25976283, -1.5114981 ,  1.31942719,  1.76415467,\n",
       "         1.75069889,  0.57330726, -0.64708466,  1.14854209,  1.26302735,\n",
       "        -0.67330033, -0.23052136,  0.97284561,  1.17028425,  1.50124327,\n",
       "        -0.72420682],\n",
       "       [-1.35320687,  0.18697101, -0.04395501, -0.97248618, -0.96340361,\n",
       "        -1.30897853, -1.4755613 , -0.64708466, -0.870669  , -0.79174849,\n",
       "        -0.67330033, -0.23052136, -1.02791234,  1.17028425, -0.66611456,\n",
       "        -0.72420682],\n",
       "       [ 0.73898531,  2.35600053, -1.5114981 , -0.97248618,  0.40037553,\n",
       "        -1.07361872, -1.4755613 , -0.64708466,  1.14854209,  1.26302735,\n",
       "        -0.67330033, -0.23052136, -1.02791234, -0.85449326, -0.66611456,\n",
       "         1.38082101],\n",
       "       [-1.35320687, -0.17453391,  1.17899756, -0.97248618,  0.40037553,\n",
       "        -0.83825892, -1.4755613 ,  1.13854136, -0.870669  , -0.79174849,\n",
       "        -0.67330033, -0.23052136,  0.97284561,  1.17028425,  1.50124327,\n",
       "        -0.72420682],\n",
       "       [-1.35320687,  1.45223823,  1.17899756,  1.31942719,  0.40037553,\n",
       "        -0.60289912, -1.4755613 ,  1.13854136, -0.870669  ,  1.26302735,\n",
       "         1.48522131, -0.23052136,  0.97284561,  1.17028425, -0.66611456,\n",
       "        -0.72420682],\n",
       "       [-1.35320687,  0.54847593,  1.9127691 , -0.97248618, -0.96340361,\n",
       "        -1.30897853, -1.4755613 ,  1.13854136, -0.870669  , -0.79174849,\n",
       "        -0.67330033, -0.23052136, -1.02791234, -0.85449326, -0.66611456,\n",
       "        -0.72420682],\n",
       "       [ 0.73898531,  0.4580997 , -1.5114981 ,  1.31942719,  1.76415467,\n",
       "        -1.07361872, -1.4755613 , -0.64708466, -0.870669  , -0.79174849,\n",
       "        -0.67330033, -0.23052136, -1.02791234,  1.17028425, -0.66611456,\n",
       "        -0.72420682],\n",
       "       [ 0.73898531,  1.63299069, -0.04395501, -0.97248618, -0.96340361,\n",
       "         0.33854008,  0.57330726,  1.13854136, -0.870669  ,  1.26302735,\n",
       "        -0.67330033, -0.23052136, -1.02791234, -0.85449326, -0.66611456,\n",
       "         1.38082101],\n",
       "       [ 0.73898531,  0.72922839,  1.17899756,  1.31942719,  1.76415467,\n",
       "         0.33854008,  0.57330726, -0.64708466,  1.14854209,  1.26302735,\n",
       "        -0.67330033, -0.23052136,  0.97284561,  1.17028425, -0.66611456,\n",
       "        -0.72420682],\n",
       "       [-1.35320687, -0.89754375,  1.17899756,  1.31942719,  0.40037553,\n",
       "         1.27997929,  0.57330726, -0.64708466, -0.870669  , -0.79174849,\n",
       "        -0.67330033,  4.33799283,  0.97284561,  1.17028425,  1.50124327,\n",
       "        -0.72420682],\n",
       "       [ 0.73898531, -0.4456626 ,  1.17899756, -0.97248618, -0.96340361,\n",
       "         0.10318028,  0.57330726,  1.13854136, -0.870669  , -0.79174849,\n",
       "        -0.67330033, -0.23052136, -1.02791234, -0.85449326, -0.66611456,\n",
       "         1.38082101],\n",
       "       [-1.35320687, -0.4456626 ,  1.17899756,  0.17347051,  0.40037553,\n",
       "        -0.60289912,  2.62217582, -0.64708466, -0.870669  , -0.79174849,\n",
       "        -0.67330033,  4.33799283, -1.02791234,  1.17028425, -0.66611456,\n",
       "        -0.72420682],\n",
       "       [ 0.73898531,  0.18697101, -0.77772656, -0.97248618,  0.40037553,\n",
       "         1.75069889,  0.57330726, -0.64708466,  1.14854209, -0.79174849,\n",
       "        -0.67330033,  4.33799283, -1.02791234, -0.85449326, -0.66611456,\n",
       "         1.38082101],\n",
       "       [ 0.73898531, -0.89754375,  1.17899756,  1.31942719, -0.96340361,\n",
       "        -1.30897853, -1.4755613 , -0.64708466, -0.870669  , -0.79174849,\n",
       "        -0.67330033, -0.23052136, -1.02791234, -0.85449326, -0.66611456,\n",
       "        -0.72420682],\n",
       "       [ 0.73898531,  0.54847593, -1.5114981 , -0.97248618,  0.40037553,\n",
       "        -0.60289912,  0.57330726, -0.64708466,  1.14854209, -0.79174849,\n",
       "        -0.67330033, -0.23052136, -1.02791234,  1.17028425, -0.66611456,\n",
       "        -0.72420682],\n",
       "       [ 0.73898531,  0.54847593, -0.04395501, -0.97248618,  0.40037553,\n",
       "         0.33854008,  0.57330726, -0.64708466, -0.870669  , -0.79174849,\n",
       "        -0.67330033, -0.23052136, -1.02791234, -0.85449326, -0.66611456,\n",
       "         1.38082101],\n",
       "       [ 0.73898531, -0.53603883, -0.04395501, -0.97248618, -0.96340361,\n",
       "        -0.13217952,  0.57330726, -0.64708466, -0.870669  ,  1.26302735,\n",
       "        -0.67330033, -0.23052136,  0.97284561, -0.85449326, -0.66611456,\n",
       "        -0.72420682],\n",
       "       [-1.35320687,  0.00621855, -0.77772656, -0.97248618, -0.96340361,\n",
       "         1.04461949,  0.57330726, -0.64708466,  1.14854209,  1.26302735,\n",
       "         1.48522131, -0.23052136,  0.97284561,  1.17028425,  1.50124327,\n",
       "        -0.72420682],\n",
       "       [ 0.73898531,  0.18697101, -1.5114981 , -0.97248618,  0.40037553,\n",
       "        -1.07361872, -1.4755613 , -0.64708466, -0.870669  , -0.79174849,\n",
       "        -0.67330033, -0.23052136, -1.02791234, -0.85449326, -0.66611456,\n",
       "        -0.72420682],\n",
       "       [-1.35320687, -1.62055359, -0.04395501,  0.17347051,  0.40037553,\n",
       "        -0.83825892, -1.4755613 , -0.64708466, -0.870669  ,  1.26302735,\n",
       "        -0.67330033, -0.23052136, -1.02791234, -0.85449326, -0.66611456,\n",
       "        -0.72420682],\n",
       "       [ 0.73898531,  0.09659478, -0.04395501, -0.97248618, -0.96340361,\n",
       "        -0.60289912,  0.57330726,  1.13854136,  1.14854209,  1.26302735,\n",
       "         1.48522131, -0.23052136,  0.97284561,  1.17028425, -0.66611456,\n",
       "        -0.72420682],\n",
       "       [-1.35320687,  0.09659478, -0.77772656,  1.31942719,  1.76415467,\n",
       "        -1.30897853, -1.4755613 , -0.64708466, -0.870669  , -0.79174849,\n",
       "        -0.67330033, -0.23052136, -1.02791234, -0.85449326, -0.66611456,\n",
       "        -0.72420682],\n",
       "       [ 0.73898531, -0.35528637, -1.5114981 ,  1.31942719,  0.40037553,\n",
       "        -1.07361872,  0.57330726, -0.64708466,  1.14854209, -0.79174849,\n",
       "        -0.67330033, -0.23052136, -1.02791234,  1.17028425, -0.66611456,\n",
       "        -0.72420682],\n",
       "       [-1.35320687, -1.16867244,  1.17899756,  0.17347051,  0.40037553,\n",
       "         1.75069889,  0.57330726,  1.13854136, -0.870669  , -0.79174849,\n",
       "        -0.67330033, -0.23052136,  0.97284561,  1.17028425, -0.66611456,\n",
       "        -0.72420682],\n",
       "       [ 0.73898531,  0.00621855,  1.17899756,  0.17347051, -0.96340361,\n",
       "        -0.13217952,  0.57330726, -0.64708466,  1.14854209, -0.79174849,\n",
       "        -0.67330033, -0.23052136,  0.97284561, -0.85449326, -0.66611456,\n",
       "        -0.72420682],\n",
       "       [-1.35320687, -0.89754375,  1.17899756, -0.97248618, -0.96340361,\n",
       "         1.75069889,  0.57330726,  1.13854136, -0.870669  , -0.79174849,\n",
       "         1.48522131, -0.23052136, -1.02791234, -0.85449326, -0.66611456,\n",
       "        -0.72420682],\n",
       "       [-1.35320687,  0.27734724, -0.04395501,  0.17347051,  0.40037553,\n",
       "        -0.83825892, -1.4755613 , -0.64708466, -0.870669  , -0.79174849,\n",
       "        -0.67330033, -0.23052136,  0.97284561, -0.85449326,  1.50124327,\n",
       "        -0.72420682],\n",
       "       [-1.35320687,  2.80788168,  1.17899756, -0.97248618,  0.40037553,\n",
       "         0.33854008,  0.57330726,  1.13854136,  1.14854209,  1.26302735,\n",
       "         1.48522131,  4.33799283,  0.97284561,  1.17028425,  1.50124327,\n",
       "         1.38082101],\n",
       "       [-1.35320687, -1.07829621, -0.04395501, -0.97248618, -0.96340361,\n",
       "        -0.83825892, -1.4755613 , -0.64708466,  1.14854209, -0.79174849,\n",
       "        -0.67330033, -0.23052136,  0.97284561,  1.17028425, -0.66611456,\n",
       "        -0.72420682],\n",
       "       [ 0.73898531,  0.4580997 , -0.77772656, -0.97248618,  0.40037553,\n",
       "        -1.30897853,  0.57330726,  2.92416737, -0.870669  , -0.79174849,\n",
       "         1.48522131, -0.23052136, -1.02791234, -0.85449326, -0.66611456,\n",
       "        -0.72420682],\n",
       "       [ 0.73898531, -1.16867244,  1.17899756,  0.17347051,  0.40037553,\n",
       "         0.33854008,  0.57330726, -0.64708466, -0.870669  , -0.79174849,\n",
       "        -0.67330033, -0.23052136, -1.02791234, -0.85449326, -0.66611456,\n",
       "        -0.72420682],\n",
       "       [ 0.73898531, -0.26491014, -0.04395501, -0.97248618, -0.96340361,\n",
       "         0.57389989,  0.57330726, -0.64708466, -0.870669  , -0.79174849,\n",
       "        -0.67330033, -0.23052136, -1.02791234, -0.85449326, -0.66611456,\n",
       "        -0.72420682],\n",
       "       [-1.35320687, -0.26491014, -0.77772656,  1.31942719,  1.76415467,\n",
       "        -1.30897853,  0.57330726,  1.13854136,  1.14854209, -0.79174849,\n",
       "         1.48522131, -0.23052136,  0.97284561,  1.17028425, -0.66611456,\n",
       "        -0.72420682],\n",
       "       [ 0.73898531,  0.36772347, -0.77772656,  1.31942719,  1.76415467,\n",
       "         0.33854008,  2.62217582, -0.64708466,  1.14854209,  1.26302735,\n",
       "        -0.67330033, -0.23052136, -1.02791234, -0.85449326, -0.66611456,\n",
       "         1.38082101],\n",
       "       [ 0.73898531, -0.53603883,  1.17899756, -0.97248618, -0.96340361,\n",
       "         0.33854008,  0.57330726, -0.64708466, -0.870669  , -0.79174849,\n",
       "        -0.67330033, -0.23052136,  0.97284561, -0.85449326,  1.50124327,\n",
       "        -0.72420682],\n",
       "       [ 0.73898531,  0.63885216,  1.17899756,  1.31942719,  0.40037553,\n",
       "         0.33854008,  0.57330726, -0.64708466, -0.870669  , -0.79174849,\n",
       "        -0.67330033, -0.23052136,  0.97284561, -0.85449326, -0.66611456,\n",
       "         1.38082101],\n",
       "       [ 0.73898531,  0.36772347, -0.04395501, -0.97248618,  0.40037553,\n",
       "        -1.30897853, -1.4755613 , -0.64708466, -0.870669  , -0.79174849,\n",
       "        -0.67330033, -0.23052136,  0.97284561, -0.85449326, -0.66611456,\n",
       "        -0.72420682],\n",
       "       [-1.35320687, -0.4456626 , -0.77772656, -0.97248618,  0.40037553,\n",
       "        -0.36753932,  0.57330726, -0.64708466,  1.14854209,  1.26302735,\n",
       "         1.48522131, -0.23052136, -1.02791234,  1.17028425, -0.66611456,\n",
       "        -0.72420682],\n",
       "       [ 0.73898531, -0.62641506,  1.17899756,  0.17347051,  0.40037553,\n",
       "        -0.36753932,  0.57330726,  1.13854136,  1.14854209,  1.26302735,\n",
       "         1.48522131, -0.23052136,  0.97284561,  1.17028425, -0.66611456,\n",
       "        -0.72420682]])"
      ]
     },
     "execution_count": 41,
     "metadata": {},
     "output_type": "execute_result"
    }
   ],
   "source": [
    "x_test"
   ]
  },
  {
   "cell_type": "code",
   "execution_count": 42,
   "id": "00c683d9",
   "metadata": {},
   "outputs": [
    {
     "data": {
      "text/plain": [
       "((218, 16), (55, 16))"
      ]
     },
     "execution_count": 42,
     "metadata": {},
     "output_type": "execute_result"
    }
   ],
   "source": [
    "x_train.shape, x_test.shape"
   ]
  },
  {
   "cell_type": "markdown",
   "id": "f5e76408",
   "metadata": {},
   "source": [
    "# Machine Learning Models"
   ]
  },
  {
   "cell_type": "markdown",
   "id": "d0b5aa6a",
   "metadata": {},
   "source": [
    "There are numerous machine learning models available for various tasks, including classification, regression, clustering, and more. Here are some commonly used machine learning models:"
   ]
  },
  {
   "cell_type": "markdown",
   "id": "710f70ef",
   "metadata": {},
   "source": [
    "Random Forest: An ensemble model that combines multiple decision trees to improve accuracy and reduce overfitting."
   ]
  },
  {
   "cell_type": "code",
   "execution_count": 46,
   "id": "b7b74c69",
   "metadata": {},
   "outputs": [],
   "source": [
    "from sklearn.svm import SVC\n",
    "from sklearn.ensemble import RandomForestClassifier"
   ]
  },
  {
   "cell_type": "code",
   "execution_count": 47,
   "id": "f1023651",
   "metadata": {},
   "outputs": [],
   "source": [
    "random_forest = RandomForestClassifier()"
   ]
  },
  {
   "cell_type": "code",
   "execution_count": 48,
   "id": "6147becf",
   "metadata": {},
   "outputs": [
    {
     "data": {
      "text/html": [
       "<style>#sk-container-id-1 {color: black;background-color: white;}#sk-container-id-1 pre{padding: 0;}#sk-container-id-1 div.sk-toggleable {background-color: white;}#sk-container-id-1 label.sk-toggleable__label {cursor: pointer;display: block;width: 100%;margin-bottom: 0;padding: 0.3em;box-sizing: border-box;text-align: center;}#sk-container-id-1 label.sk-toggleable__label-arrow:before {content: \"▸\";float: left;margin-right: 0.25em;color: #696969;}#sk-container-id-1 label.sk-toggleable__label-arrow:hover:before {color: black;}#sk-container-id-1 div.sk-estimator:hover label.sk-toggleable__label-arrow:before {color: black;}#sk-container-id-1 div.sk-toggleable__content {max-height: 0;max-width: 0;overflow: hidden;text-align: left;background-color: #f0f8ff;}#sk-container-id-1 div.sk-toggleable__content pre {margin: 0.2em;color: black;border-radius: 0.25em;background-color: #f0f8ff;}#sk-container-id-1 input.sk-toggleable__control:checked~div.sk-toggleable__content {max-height: 200px;max-width: 100%;overflow: auto;}#sk-container-id-1 input.sk-toggleable__control:checked~label.sk-toggleable__label-arrow:before {content: \"▾\";}#sk-container-id-1 div.sk-estimator input.sk-toggleable__control:checked~label.sk-toggleable__label {background-color: #d4ebff;}#sk-container-id-1 div.sk-label input.sk-toggleable__control:checked~label.sk-toggleable__label {background-color: #d4ebff;}#sk-container-id-1 input.sk-hidden--visually {border: 0;clip: rect(1px 1px 1px 1px);clip: rect(1px, 1px, 1px, 1px);height: 1px;margin: -1px;overflow: hidden;padding: 0;position: absolute;width: 1px;}#sk-container-id-1 div.sk-estimator {font-family: monospace;background-color: #f0f8ff;border: 1px dotted black;border-radius: 0.25em;box-sizing: border-box;margin-bottom: 0.5em;}#sk-container-id-1 div.sk-estimator:hover {background-color: #d4ebff;}#sk-container-id-1 div.sk-parallel-item::after {content: \"\";width: 100%;border-bottom: 1px solid gray;flex-grow: 1;}#sk-container-id-1 div.sk-label:hover label.sk-toggleable__label {background-color: #d4ebff;}#sk-container-id-1 div.sk-serial::before {content: \"\";position: absolute;border-left: 1px solid gray;box-sizing: border-box;top: 0;bottom: 0;left: 50%;z-index: 0;}#sk-container-id-1 div.sk-serial {display: flex;flex-direction: column;align-items: center;background-color: white;padding-right: 0.2em;padding-left: 0.2em;position: relative;}#sk-container-id-1 div.sk-item {position: relative;z-index: 1;}#sk-container-id-1 div.sk-parallel {display: flex;align-items: stretch;justify-content: center;background-color: white;position: relative;}#sk-container-id-1 div.sk-item::before, #sk-container-id-1 div.sk-parallel-item::before {content: \"\";position: absolute;border-left: 1px solid gray;box-sizing: border-box;top: 0;bottom: 0;left: 50%;z-index: -1;}#sk-container-id-1 div.sk-parallel-item {display: flex;flex-direction: column;z-index: 1;position: relative;background-color: white;}#sk-container-id-1 div.sk-parallel-item:first-child::after {align-self: flex-end;width: 50%;}#sk-container-id-1 div.sk-parallel-item:last-child::after {align-self: flex-start;width: 50%;}#sk-container-id-1 div.sk-parallel-item:only-child::after {width: 0;}#sk-container-id-1 div.sk-dashed-wrapped {border: 1px dashed gray;margin: 0 0.4em 0.5em 0.4em;box-sizing: border-box;padding-bottom: 0.4em;background-color: white;}#sk-container-id-1 div.sk-label label {font-family: monospace;font-weight: bold;display: inline-block;line-height: 1.2em;}#sk-container-id-1 div.sk-label-container {text-align: center;}#sk-container-id-1 div.sk-container {/* jupyter's `normalize.less` sets `[hidden] { display: none; }` but bootstrap.min.css set `[hidden] { display: none !important; }` so we also need the `!important` here to be able to override the default hidden behavior on the sphinx rendered scikit-learn.org. See: https://github.com/scikit-learn/scikit-learn/issues/21755 */display: inline-block !important;position: relative;}#sk-container-id-1 div.sk-text-repr-fallback {display: none;}</style><div id=\"sk-container-id-1\" class=\"sk-top-container\"><div class=\"sk-text-repr-fallback\"><pre>RandomForestClassifier()</pre><b>In a Jupyter environment, please rerun this cell to show the HTML representation or trust the notebook. <br />On GitHub, the HTML representation is unable to render, please try loading this page with nbviewer.org.</b></div><div class=\"sk-container\" hidden><div class=\"sk-item\"><div class=\"sk-estimator sk-toggleable\"><input class=\"sk-toggleable__control sk-hidden--visually\" id=\"sk-estimator-id-1\" type=\"checkbox\" checked><label for=\"sk-estimator-id-1\" class=\"sk-toggleable__label sk-toggleable__label-arrow\">RandomForestClassifier</label><div class=\"sk-toggleable__content\"><pre>RandomForestClassifier()</pre></div></div></div></div></div>"
      ],
      "text/plain": [
       "RandomForestClassifier()"
      ]
     },
     "execution_count": 48,
     "metadata": {},
     "output_type": "execute_result"
    }
   ],
   "source": [
    "random_forest.fit(x_train, y_train)"
   ]
  },
  {
   "cell_type": "code",
   "execution_count": 49,
   "id": "f3d1793b",
   "metadata": {},
   "outputs": [],
   "source": [
    "y_pred_random = random_forest.predict(x_test)"
   ]
  },
  {
   "cell_type": "code",
   "execution_count": 50,
   "id": "c105ab68",
   "metadata": {},
   "outputs": [],
   "source": [
    "from sklearn.metrics import classification_report, confusion_matrix, accuracy_score, r2_score"
   ]
  },
  {
   "cell_type": "markdown",
   "id": "ed4e14a8",
   "metadata": {},
   "source": [
    "# Error Analysis"
   ]
  },
  {
   "cell_type": "markdown",
   "id": "e77bb472",
   "metadata": {},
   "source": [
    "Error analysis is an important step in evaluating and improving the performance of a machine learning model. It involves analyzing the errors made by the model during prediction or classification tasks and gaining insights into the types of mistakes it is making. Error analysis can provide valuable information for model refinement and identifying areas for improvement"
   ]
  },
  {
   "cell_type": "markdown",
   "id": "8783ff0d",
   "metadata": {},
   "source": [
    "# Classification Report"
   ]
  },
  {
   "cell_type": "markdown",
   "id": "ddd71ef8",
   "metadata": {},
   "source": [
    "The classification report is a performance evaluation metric for classification models that provides various metrics such as precision, recall, F1-score, and support for each class. These metrics help assess the model's performance in terms of class-wise classification accuracy."
   ]
  },
  {
   "cell_type": "markdown",
   "id": "f68a259f",
   "metadata": {},
   "source": [
    "# Accuracy Score"
   ]
  },
  {
   "cell_type": "markdown",
   "id": "db19bd3a",
   "metadata": {},
   "source": [
    "Accuracy is a commonly used metric for evaluating classification models. It measures the proportion of correctly classified instances out of the total instances. The formula for calculating accuracy is as follows:\n",
    "\n",
    "Accuracy = (Number of Correct Predictions) / (Total Number of Predictions)"
   ]
  },
  {
   "cell_type": "markdown",
   "id": "8af2e541",
   "metadata": {},
   "source": [
    "# Confusion Matrix"
   ]
  },
  {
   "cell_type": "markdown",
   "id": "005e5d98",
   "metadata": {},
   "source": [
    "A confusion matrix is a table that summarizes the performance of a classification model by showing the counts of true positives, true negatives, false positives, and false negatives. The confusion matrix provides valuable insights into the model's performance for each class and can be used to calculate various evaluation metrics. "
   ]
  },
  {
   "cell_type": "markdown",
   "id": "662760a4",
   "metadata": {},
   "source": [
    "                 Predicted\n",
    "               |  Class 0 | Class 1 |\n",
    "------------------------------------\n",
    "\n",
    "Actual Class 0 |    TN    |   FP    |\n",
    "\n",
    "Actual Class 1 |    FN    |   TP    |\n"
   ]
  },
  {
   "cell_type": "markdown",
   "id": "0c6121dd",
   "metadata": {},
   "source": [
    "# r2 Score"
   ]
  },
  {
   "cell_type": "markdown",
   "id": "47ecc847",
   "metadata": {},
   "source": [
    "The R2 score (also known as the coefficient of determination) is a commonly used metric for evaluating regression models. It measures the proportion of the variance in the dependent variable that is predictable from the independent variables. The formula for calculating the R2 score is as follows:\n",
    "\n",
    "R2 Score = 1 - (Sum of Squared Residuals / Total Sum of Squares)"
   ]
  },
  {
   "cell_type": "code",
   "execution_count": 51,
   "id": "27bbfedd",
   "metadata": {},
   "outputs": [],
   "source": [
    "acc_random = accuracy_score(y_test, y_pred_random)"
   ]
  },
  {
   "cell_type": "code",
   "execution_count": 53,
   "id": "db7fc5df",
   "metadata": {},
   "outputs": [
    {
     "data": {
      "text/plain": [
       "0.8181818181818182"
      ]
     },
     "execution_count": 53,
     "metadata": {},
     "output_type": "execute_result"
    }
   ],
   "source": [
    "acc_random"
   ]
  },
  {
   "cell_type": "code",
   "execution_count": 54,
   "id": "e260f042",
   "metadata": {},
   "outputs": [
    {
     "name": "stdout",
     "output_type": "stream",
     "text": [
      "              precision    recall  f1-score   support\n",
      "\n",
      "           1       0.83      0.76      0.79        25\n",
      "           2       0.81      0.87      0.84        30\n",
      "\n",
      "    accuracy                           0.82        55\n",
      "   macro avg       0.82      0.81      0.82        55\n",
      "weighted avg       0.82      0.82      0.82        55\n",
      "\n"
     ]
    }
   ],
   "source": [
    "print(classification_report(y_test, y_pred_random))"
   ]
  },
  {
   "cell_type": "code",
   "execution_count": 56,
   "id": "6af4d13a",
   "metadata": {},
   "outputs": [],
   "source": [
    "r2_random = r2_score(y_test, y_pred_random)"
   ]
  },
  {
   "cell_type": "code",
   "execution_count": 57,
   "id": "362291bb",
   "metadata": {},
   "outputs": [
    {
     "data": {
      "text/plain": [
       "0.26666666666666683"
      ]
     },
     "execution_count": 57,
     "metadata": {},
     "output_type": "execute_result"
    }
   ],
   "source": [
    "r2_random"
   ]
  },
  {
   "cell_type": "code",
   "execution_count": 55,
   "id": "596069bd",
   "metadata": {},
   "outputs": [],
   "source": [
    "confusion_matrix_random = confusion_matrix(y_test, y_pred_random)"
   ]
  },
  {
   "cell_type": "code",
   "execution_count": 58,
   "id": "1fe135e7",
   "metadata": {},
   "outputs": [
    {
     "data": {
      "text/plain": [
       "<AxesSubplot:>"
      ]
     },
     "execution_count": 58,
     "metadata": {},
     "output_type": "execute_result"
    },
    {
     "data": {
      "image/png": "[encoded data removed]",
      "text/plain": [
       "<Figure size 432x288 with 2 Axes>"
      ]
     },
     "metadata": {
      "needs_background": "light"
     },
     "output_type": "display_data"
    }
   ],
   "source": [
    "plt.figure(figsize = (6, 4))\n",
    "sns.heatmap(confusion_matrix_random, \n",
    "            annot = True, \n",
    "            cmap = 'inferno')"
   ]
  },
  {
   "cell_type": "markdown",
   "id": "d7efe860",
   "metadata": {},
   "source": [
    "Support Vector Machines (SVM): A powerful classification model that separates data using hyperplanes to maximize the margin between different classes."
   ]
  },
  {
   "cell_type": "code",
   "execution_count": 61,
   "id": "269c8669",
   "metadata": {},
   "outputs": [],
   "source": [
    "svc = SVC()"
   ]
  },
  {
   "cell_type": "code",
   "execution_count": 62,
   "id": "b1393d38",
   "metadata": {},
   "outputs": [
    {
     "data": {
      "text/html": [
       "<style>#sk-container-id-2 {color: black;background-color: white;}#sk-container-id-2 pre{padding: 0;}#sk-container-id-2 div.sk-toggleable {background-color: white;}#sk-container-id-2 label.sk-toggleable__label {cursor: pointer;display: block;width: 100%;margin-bottom: 0;padding: 0.3em;box-sizing: border-box;text-align: center;}#sk-container-id-2 label.sk-toggleable__label-arrow:before {content: \"▸\";float: left;margin-right: 0.25em;color: #696969;}#sk-container-id-2 label.sk-toggleable__label-arrow:hover:before {color: black;}#sk-container-id-2 div.sk-estimator:hover label.sk-toggleable__label-arrow:before {color: black;}#sk-container-id-2 div.sk-toggleable__content {max-height: 0;max-width: 0;overflow: hidden;text-align: left;background-color: #f0f8ff;}#sk-container-id-2 div.sk-toggleable__content pre {margin: 0.2em;color: black;border-radius: 0.25em;background-color: #f0f8ff;}#sk-container-id-2 input.sk-toggleable__control:checked~div.sk-toggleable__content {max-height: 200px;max-width: 100%;overflow: auto;}#sk-container-id-2 input.sk-toggleable__control:checked~label.sk-toggleable__label-arrow:before {content: \"▾\";}#sk-container-id-2 div.sk-estimator input.sk-toggleable__control:checked~label.sk-toggleable__label {background-color: #d4ebff;}#sk-container-id-2 div.sk-label input.sk-toggleable__control:checked~label.sk-toggleable__label {background-color: #d4ebff;}#sk-container-id-2 input.sk-hidden--visually {border: 0;clip: rect(1px 1px 1px 1px);clip: rect(1px, 1px, 1px, 1px);height: 1px;margin: -1px;overflow: hidden;padding: 0;position: absolute;width: 1px;}#sk-container-id-2 div.sk-estimator {font-family: monospace;background-color: #f0f8ff;border: 1px dotted black;border-radius: 0.25em;box-sizing: border-box;margin-bottom: 0.5em;}#sk-container-id-2 div.sk-estimator:hover {background-color: #d4ebff;}#sk-container-id-2 div.sk-parallel-item::after {content: \"\";width: 100%;border-bottom: 1px solid gray;flex-grow: 1;}#sk-container-id-2 div.sk-label:hover label.sk-toggleable__label {background-color: #d4ebff;}#sk-container-id-2 div.sk-serial::before {content: \"\";position: absolute;border-left: 1px solid gray;box-sizing: border-box;top: 0;bottom: 0;left: 50%;z-index: 0;}#sk-container-id-2 div.sk-serial {display: flex;flex-direction: column;align-items: center;background-color: white;padding-right: 0.2em;padding-left: 0.2em;position: relative;}#sk-container-id-2 div.sk-item {position: relative;z-index: 1;}#sk-container-id-2 div.sk-parallel {display: flex;align-items: stretch;justify-content: center;background-color: white;position: relative;}#sk-container-id-2 div.sk-item::before, #sk-container-id-2 div.sk-parallel-item::before {content: \"\";position: absolute;border-left: 1px solid gray;box-sizing: border-box;top: 0;bottom: 0;left: 50%;z-index: -1;}#sk-container-id-2 div.sk-parallel-item {display: flex;flex-direction: column;z-index: 1;position: relative;background-color: white;}#sk-container-id-2 div.sk-parallel-item:first-child::after {align-self: flex-end;width: 50%;}#sk-container-id-2 div.sk-parallel-item:last-child::after {align-self: flex-start;width: 50%;}#sk-container-id-2 div.sk-parallel-item:only-child::after {width: 0;}#sk-container-id-2 div.sk-dashed-wrapped {border: 1px dashed gray;margin: 0 0.4em 0.5em 0.4em;box-sizing: border-box;padding-bottom: 0.4em;background-color: white;}#sk-container-id-2 div.sk-label label {font-family: monospace;font-weight: bold;display: inline-block;line-height: 1.2em;}#sk-container-id-2 div.sk-label-container {text-align: center;}#sk-container-id-2 div.sk-container {/* jupyter's `normalize.less` sets `[hidden] { display: none; }` but bootstrap.min.css set `[hidden] { display: none !important; }` so we also need the `!important` here to be able to override the default hidden behavior on the sphinx rendered scikit-learn.org. See: https://github.com/scikit-learn/scikit-learn/issues/21755 */display: inline-block !important;position: relative;}#sk-container-id-2 div.sk-text-repr-fallback {display: none;}</style><div id=\"sk-container-id-2\" class=\"sk-top-container\"><div class=\"sk-text-repr-fallback\"><pre>SVC()</pre><b>In a Jupyter environment, please rerun this cell to show the HTML representation or trust the notebook. <br />On GitHub, the HTML representation is unable to render, please try loading this page with nbviewer.org.</b></div><div class=\"sk-container\" hidden><div class=\"sk-item\"><div class=\"sk-estimator sk-toggleable\"><input class=\"sk-toggleable__control sk-hidden--visually\" id=\"sk-estimator-id-2\" type=\"checkbox\" checked><label for=\"sk-estimator-id-2\" class=\"sk-toggleable__label sk-toggleable__label-arrow\">SVC</label><div class=\"sk-toggleable__content\"><pre>SVC()</pre></div></div></div></div></div>"
      ],
      "text/plain": [
       "SVC()"
      ]
     },
     "execution_count": 62,
     "metadata": {},
     "output_type": "execute_result"
    }
   ],
   "source": [
    "svc.fit(x_train, y_train)"
   ]
  },
  {
   "cell_type": "code",
   "execution_count": 63,
   "id": "3bca483d",
   "metadata": {},
   "outputs": [],
   "source": [
    "y_pred_svc = svc.predict(x_test)"
   ]
  },
  {
   "cell_type": "code",
   "execution_count": 64,
   "id": "23d58d79",
   "metadata": {},
   "outputs": [],
   "source": [
    "accuracy_score_svc = accuracy_score(y_test, y_pred_svc)"
   ]
  },
  {
   "cell_type": "code",
   "execution_count": 65,
   "id": "f7f3240c",
   "metadata": {},
   "outputs": [
    {
     "data": {
      "text/plain": [
       "0.8181818181818182"
      ]
     },
     "execution_count": 65,
     "metadata": {},
     "output_type": "execute_result"
    }
   ],
   "source": [
    "accuracy_score_svc"
   ]
  },
  {
   "cell_type": "code",
   "execution_count": 66,
   "id": "2ee27bfe",
   "metadata": {},
   "outputs": [
    {
     "name": "stdout",
     "output_type": "stream",
     "text": [
      "              precision    recall  f1-score   support\n",
      "\n",
      "           1       0.83      0.76      0.79        25\n",
      "           2       0.81      0.87      0.84        30\n",
      "\n",
      "    accuracy                           0.82        55\n",
      "   macro avg       0.82      0.81      0.82        55\n",
      "weighted avg       0.82      0.82      0.82        55\n",
      "\n"
     ]
    }
   ],
   "source": [
    "print(classification_report(y_test, y_pred_svc))"
   ]
  },
  {
   "cell_type": "code",
   "execution_count": 67,
   "id": "e1fc612e",
   "metadata": {},
   "outputs": [],
   "source": [
    "r2_score_svc = r2_score(y_test, y_pred_svc)"
   ]
  },
  {
   "cell_type": "code",
   "execution_count": 68,
   "id": "b0819a55",
   "metadata": {},
   "outputs": [
    {
     "data": {
      "text/plain": [
       "0.26666666666666683"
      ]
     },
     "execution_count": 68,
     "metadata": {},
     "output_type": "execute_result"
    }
   ],
   "source": [
    "r2_score_svc"
   ]
  },
  {
   "cell_type": "code",
   "execution_count": 69,
   "id": "fe692a58",
   "metadata": {},
   "outputs": [],
   "source": [
    "confusion_matrix_svc = confusion_matrix(y_test, y_pred_svc)"
   ]
  },
  {
   "cell_type": "code",
   "execution_count": 70,
   "id": "74a79281",
   "metadata": {},
   "outputs": [
    {
     "data": {
      "text/plain": [
       "<AxesSubplot:>"
      ]
     },
     "execution_count": 70,
     "metadata": {},
     "output_type": "execute_result"
    },
    {
     "data": {
      "image/png": "[encoded data removed]",
      "text/plain": [
       "<Figure size 432x288 with 2 Axes>"
      ]
     },
     "metadata": {
      "needs_background": "light"
     },
     "output_type": "display_data"
    }
   ],
   "source": [
    "plt.figure(figsize = (6, 4))\n",
    "sns.heatmap(confusion_matrix_svc, \n",
    "            annot = True, \n",
    "            cmap = 'inferno')"
   ]
  }
 ],
 "metadata": {
  "kernelspec": {
   "display_name": "Python 3 (ipykernel)",
   "language": "python",
   "name": "python3"
  },
  "language_info": {
   "codemirror_mode": {
    "name": "ipython",
    "version": 3
   },
   "file_extension": ".py",
   "mimetype": "text/x-python",
   "name": "python",
   "nbconvert_exporter": "python",
   "pygments_lexer": "ipython3",
   "version": "3.10.9"
  }
 },
 "nbformat": 4,
 "nbformat_minor": 5
}
