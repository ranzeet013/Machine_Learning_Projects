{
 "cells": [
  {
   "cell_type": "markdown",
   "id": "13697095",
   "metadata": {},
   "source": [
    "## Importing Libraries :"
   ]
  },
  {
   "cell_type": "markdown",
   "id": "21e82e63",
   "metadata": {},
   "source": [
    "These are just a few examples of popular Python libraries. You can import any other library using the same import statement followed by the library name or alias:\n",
    "\n",
    "NumPy: for numerical operations and array manipulation\n",
    "\n",
    "Pandas: for data manipulation and analysis\n",
    "\n",
    "Matplotlib: for creating visualizations"
   ]
  },
  {
   "cell_type": "code",
   "execution_count": 1,
   "id": "4d376bad",
   "metadata": {},
   "outputs": [],
   "source": [
    "import pandas as pd\n",
    "import numpy as np\n",
    "import seaborn as sns\n",
    "import matplotlib.pyplot as plt\n",
    "\n",
    "%matplotlib inline\n",
    "\n",
    "import warnings\n",
    "warnings.filterwarnings('ignore')"
   ]
  },
  {
   "cell_type": "markdown",
   "id": "b93034ee",
   "metadata": {},
   "source": [
    "## Importing Dataframe :"
   ]
  },
  {
   "cell_type": "markdown",
   "id": "00c68ea7",
   "metadata": {},
   "source": [
    "The dataset consists of several columns, each providing different pieces of information related to emergency 911 calls. Here's a brief description of each of the columns:\n",
    "\n",
    "1. 'lat' - This column likely contains the latitude coordinates of the location where the emergency call was made.\n",
    "\n",
    "2. 'lng' - This column is expected to hold the longitude coordinates of the emergency call location.\n",
    "\n",
    "3. 'desc' - This column should contain a description of the incident or emergency that prompted the 911 call. It provides details about what happened.\n",
    "\n",
    "4. 'zip' - This column is likely to store the ZIP code associated with the location of the emergency.\n",
    "\n",
    "5. 'title' - The 'title' column probably holds information about the type or category of the emergency or incident, such as \"Fire,\" \"Traffic Accident,\" or \"Medical Emergency.\"\n",
    "\n",
    "6. 'timeStamp' - This column should include the timestamp indicating when the 911 call was made or received.\n",
    "\n",
    "7. 'twp' - 'twp' likely stands for \"township\" and contains the name or identifier of the township or area within Montgomery County where the emergency occurred.\n",
    "\n",
    "8. 'addr' - The 'addr' column likely provides the specific address or location details of the emergency.\n",
    "\n",
    "9. 'e' - This column might be an identifier or code associated with the emergency event.\n",
    "\n",
    "10. 'Reason' - The 'Reason' column could be a derived feature that categorizes the reason for the emergency call based on the information in the 'title' column. For example, it might categorize calls as \"Medical,\" \"Fire,\" or \"Traffic\" based on the incident type."
   ]
  },
  {
   "cell_type": "code",
   "execution_count": 2,
   "id": "eb8d08b1",
   "metadata": {},
   "outputs": [],
   "source": [
    "dataframe = pd.read_csv('911.csv')"
   ]
  },
  {
   "cell_type": "code",
   "execution_count": 3,
   "id": "172aa564",
   "metadata": {},
   "outputs": [
    {
     "data": {
      "text/html": [
       "<div>\n",
       "<style scoped>\n",
       "    .dataframe tbody tr th:only-of-type {\n",
       "        vertical-align: middle;\n",
       "    }\n",
       "\n",
       "    .dataframe tbody tr th {\n",
       "        vertical-align: top;\n",
       "    }\n",
       "\n",
       "    .dataframe thead th {\n",
       "        text-align: right;\n",
       "    }\n",
       "</style>\n",
       "<table border=\"1\" class=\"dataframe\">\n",
       "  <thead>\n",
       "    <tr style=\"text-align: right;\">\n",
       "      <th></th>\n",
       "      <th>lat</th>\n",
       "      <th>lng</th>\n",
       "      <th>desc</th>\n",
       "      <th>zip</th>\n",
       "      <th>title</th>\n",
       "      <th>timeStamp</th>\n",
       "      <th>twp</th>\n",
       "      <th>addr</th>\n",
       "      <th>e</th>\n",
       "    </tr>\n",
       "  </thead>\n",
       "  <tbody>\n",
       "    <tr>\n",
       "      <th>0</th>\n",
       "      <td>40.297876</td>\n",
       "      <td>-75.581294</td>\n",
       "      <td>REINDEER CT &amp; DEAD END;  NEW HANOVER; Station ...</td>\n",
       "      <td>19525.0</td>\n",
       "      <td>EMS: BACK PAINS/INJURY</td>\n",
       "      <td>2015-12-10 17:10:52</td>\n",
       "      <td>NEW HANOVER</td>\n",
       "      <td>REINDEER CT &amp; DEAD END</td>\n",
       "      <td>1</td>\n",
       "    </tr>\n",
       "    <tr>\n",
       "      <th>1</th>\n",
       "      <td>40.258061</td>\n",
       "      <td>-75.264680</td>\n",
       "      <td>BRIAR PATH &amp; WHITEMARSH LN;  HATFIELD TOWNSHIP...</td>\n",
       "      <td>19446.0</td>\n",
       "      <td>EMS: DIABETIC EMERGENCY</td>\n",
       "      <td>2015-12-10 17:29:21</td>\n",
       "      <td>HATFIELD TOWNSHIP</td>\n",
       "      <td>BRIAR PATH &amp; WHITEMARSH LN</td>\n",
       "      <td>1</td>\n",
       "    </tr>\n",
       "    <tr>\n",
       "      <th>2</th>\n",
       "      <td>40.121182</td>\n",
       "      <td>-75.351975</td>\n",
       "      <td>HAWS AVE; NORRISTOWN; 2015-12-10 @ 14:39:21-St...</td>\n",
       "      <td>19401.0</td>\n",
       "      <td>Fire: GAS-ODOR/LEAK</td>\n",
       "      <td>2015-12-10 14:39:21</td>\n",
       "      <td>NORRISTOWN</td>\n",
       "      <td>HAWS AVE</td>\n",
       "      <td>1</td>\n",
       "    </tr>\n",
       "    <tr>\n",
       "      <th>3</th>\n",
       "      <td>40.116153</td>\n",
       "      <td>-75.343513</td>\n",
       "      <td>AIRY ST &amp; SWEDE ST;  NORRISTOWN; Station 308A;...</td>\n",
       "      <td>19401.0</td>\n",
       "      <td>EMS: CARDIAC EMERGENCY</td>\n",
       "      <td>2015-12-10 16:47:36</td>\n",
       "      <td>NORRISTOWN</td>\n",
       "      <td>AIRY ST &amp; SWEDE ST</td>\n",
       "      <td>1</td>\n",
       "    </tr>\n",
       "    <tr>\n",
       "      <th>4</th>\n",
       "      <td>40.251492</td>\n",
       "      <td>-75.603350</td>\n",
       "      <td>CHERRYWOOD CT &amp; DEAD END;  LOWER POTTSGROVE; S...</td>\n",
       "      <td>NaN</td>\n",
       "      <td>EMS: DIZZINESS</td>\n",
       "      <td>2015-12-10 16:56:52</td>\n",
       "      <td>LOWER POTTSGROVE</td>\n",
       "      <td>CHERRYWOOD CT &amp; DEAD END</td>\n",
       "      <td>1</td>\n",
       "    </tr>\n",
       "  </tbody>\n",
       "</table>\n",
       "</div>"
      ],
      "text/plain": [
       "         lat        lng                                               desc  \\\n",
       "0  40.297876 -75.581294  REINDEER CT & DEAD END;  NEW HANOVER; Station ...   \n",
       "1  40.258061 -75.264680  BRIAR PATH & WHITEMARSH LN;  HATFIELD TOWNSHIP...   \n",
       "2  40.121182 -75.351975  HAWS AVE; NORRISTOWN; 2015-12-10 @ 14:39:21-St...   \n",
       "3  40.116153 -75.343513  AIRY ST & SWEDE ST;  NORRISTOWN; Station 308A;...   \n",
       "4  40.251492 -75.603350  CHERRYWOOD CT & DEAD END;  LOWER POTTSGROVE; S...   \n",
       "\n",
       "       zip                    title            timeStamp                twp  \\\n",
       "0  19525.0   EMS: BACK PAINS/INJURY  2015-12-10 17:10:52        NEW HANOVER   \n",
       "1  19446.0  EMS: DIABETIC EMERGENCY  2015-12-10 17:29:21  HATFIELD TOWNSHIP   \n",
       "2  19401.0      Fire: GAS-ODOR/LEAK  2015-12-10 14:39:21         NORRISTOWN   \n",
       "3  19401.0   EMS: CARDIAC EMERGENCY  2015-12-10 16:47:36         NORRISTOWN   \n",
       "4      NaN           EMS: DIZZINESS  2015-12-10 16:56:52   LOWER POTTSGROVE   \n",
       "\n",
       "                         addr  e  \n",
       "0      REINDEER CT & DEAD END  1  \n",
       "1  BRIAR PATH & WHITEMARSH LN  1  \n",
       "2                    HAWS AVE  1  \n",
       "3          AIRY ST & SWEDE ST  1  \n",
       "4    CHERRYWOOD CT & DEAD END  1  "
      ]
     },
     "execution_count": 3,
     "metadata": {},
     "output_type": "execute_result"
    }
   ],
   "source": [
    "dataframe.head()"
   ]
  },
  {
   "cell_type": "markdown",
   "id": "a279034d",
   "metadata": {},
   "source": [
    "## Heatmap : "
   ]
  },
  {
   "cell_type": "markdown",
   "id": "69f3815a",
   "metadata": {},
   "source": [
    "A heatmap is a data visualization technique that uses color to represent the magnitude of values in a matrix. It is important because it provides a quick and intuitive way to understand complex data patterns, relationships, and variations, making it useful in fields such as data analysis, biology, and finance for identifying trends and anomalies."
   ]
  },
  {
   "cell_type": "code",
   "execution_count": 17,
   "id": "dae0c4d9",
   "metadata": {},
   "outputs": [],
   "source": [
    "dataframe_heatmap = dataframe.groupby(['Day of Week','Hour']).count().unstack()['title']"
   ]
  },
  {
   "cell_type": "code",
   "execution_count": 18,
   "id": "fbddc22c",
   "metadata": {},
   "outputs": [
    {
     "data": {
      "text/html": [
       "<div>\n",
       "<style scoped>\n",
       "    .dataframe tbody tr th:only-of-type {\n",
       "        vertical-align: middle;\n",
       "    }\n",
       "\n",
       "    .dataframe tbody tr th {\n",
       "        vertical-align: top;\n",
       "    }\n",
       "\n",
       "    .dataframe thead th {\n",
       "        text-align: right;\n",
       "    }\n",
       "</style>\n",
       "<table border=\"1\" class=\"dataframe\">\n",
       "  <thead>\n",
       "    <tr style=\"text-align: right;\">\n",
       "      <th>Hour</th>\n",
       "      <th>0</th>\n",
       "      <th>1</th>\n",
       "      <th>2</th>\n",
       "      <th>3</th>\n",
       "      <th>4</th>\n",
       "      <th>5</th>\n",
       "      <th>6</th>\n",
       "      <th>7</th>\n",
       "      <th>8</th>\n",
       "      <th>9</th>\n",
       "      <th>...</th>\n",
       "      <th>14</th>\n",
       "      <th>15</th>\n",
       "      <th>16</th>\n",
       "      <th>17</th>\n",
       "      <th>18</th>\n",
       "      <th>19</th>\n",
       "      <th>20</th>\n",
       "      <th>21</th>\n",
       "      <th>22</th>\n",
       "      <th>23</th>\n",
       "    </tr>\n",
       "    <tr>\n",
       "      <th>Day of Week</th>\n",
       "      <th></th>\n",
       "      <th></th>\n",
       "      <th></th>\n",
       "      <th></th>\n",
       "      <th></th>\n",
       "      <th></th>\n",
       "      <th></th>\n",
       "      <th></th>\n",
       "      <th></th>\n",
       "      <th></th>\n",
       "      <th></th>\n",
       "      <th></th>\n",
       "      <th></th>\n",
       "      <th></th>\n",
       "      <th></th>\n",
       "      <th></th>\n",
       "      <th></th>\n",
       "      <th></th>\n",
       "      <th></th>\n",
       "      <th></th>\n",
       "      <th></th>\n",
       "    </tr>\n",
       "  </thead>\n",
       "  <tbody>\n",
       "    <tr>\n",
       "      <th>Fri</th>\n",
       "      <td>1185</td>\n",
       "      <td>1001</td>\n",
       "      <td>930</td>\n",
       "      <td>832</td>\n",
       "      <td>821</td>\n",
       "      <td>1051</td>\n",
       "      <td>1676</td>\n",
       "      <td>2689</td>\n",
       "      <td>3185</td>\n",
       "      <td>3295</td>\n",
       "      <td>...</td>\n",
       "      <td>4150</td>\n",
       "      <td>4514</td>\n",
       "      <td>4711</td>\n",
       "      <td>4489</td>\n",
       "      <td>3616</td>\n",
       "      <td>3254</td>\n",
       "      <td>2789</td>\n",
       "      <td>2445</td>\n",
       "      <td>2210</td>\n",
       "      <td>1866</td>\n",
       "    </tr>\n",
       "    <tr>\n",
       "      <th>Mon</th>\n",
       "      <td>1207</td>\n",
       "      <td>974</td>\n",
       "      <td>857</td>\n",
       "      <td>784</td>\n",
       "      <td>871</td>\n",
       "      <td>1124</td>\n",
       "      <td>1729</td>\n",
       "      <td>2829</td>\n",
       "      <td>3588</td>\n",
       "      <td>3685</td>\n",
       "      <td>...</td>\n",
       "      <td>3547</td>\n",
       "      <td>3975</td>\n",
       "      <td>4063</td>\n",
       "      <td>4003</td>\n",
       "      <td>3512</td>\n",
       "      <td>2821</td>\n",
       "      <td>2418</td>\n",
       "      <td>2005</td>\n",
       "      <td>1698</td>\n",
       "      <td>1283</td>\n",
       "    </tr>\n",
       "    <tr>\n",
       "      <th>Sat</th>\n",
       "      <td>1515</td>\n",
       "      <td>1332</td>\n",
       "      <td>1206</td>\n",
       "      <td>1012</td>\n",
       "      <td>936</td>\n",
       "      <td>985</td>\n",
       "      <td>1230</td>\n",
       "      <td>1640</td>\n",
       "      <td>2211</td>\n",
       "      <td>2766</td>\n",
       "      <td>...</td>\n",
       "      <td>3479</td>\n",
       "      <td>3284</td>\n",
       "      <td>3348</td>\n",
       "      <td>3274</td>\n",
       "      <td>3174</td>\n",
       "      <td>3036</td>\n",
       "      <td>2632</td>\n",
       "      <td>2432</td>\n",
       "      <td>2073</td>\n",
       "      <td>1913</td>\n",
       "    </tr>\n",
       "    <tr>\n",
       "      <th>Sun</th>\n",
       "      <td>1520</td>\n",
       "      <td>1331</td>\n",
       "      <td>1263</td>\n",
       "      <td>1033</td>\n",
       "      <td>954</td>\n",
       "      <td>941</td>\n",
       "      <td>1119</td>\n",
       "      <td>1568</td>\n",
       "      <td>1933</td>\n",
       "      <td>2421</td>\n",
       "      <td>...</td>\n",
       "      <td>2992</td>\n",
       "      <td>2828</td>\n",
       "      <td>2855</td>\n",
       "      <td>2872</td>\n",
       "      <td>2829</td>\n",
       "      <td>2679</td>\n",
       "      <td>2362</td>\n",
       "      <td>1994</td>\n",
       "      <td>1632</td>\n",
       "      <td>1470</td>\n",
       "    </tr>\n",
       "    <tr>\n",
       "      <th>Thu</th>\n",
       "      <td>1115</td>\n",
       "      <td>873</td>\n",
       "      <td>920</td>\n",
       "      <td>775</td>\n",
       "      <td>784</td>\n",
       "      <td>1091</td>\n",
       "      <td>1801</td>\n",
       "      <td>2913</td>\n",
       "      <td>3468</td>\n",
       "      <td>3457</td>\n",
       "      <td>...</td>\n",
       "      <td>3904</td>\n",
       "      <td>4139</td>\n",
       "      <td>4053</td>\n",
       "      <td>4412</td>\n",
       "      <td>3578</td>\n",
       "      <td>2923</td>\n",
       "      <td>2579</td>\n",
       "      <td>2230</td>\n",
       "      <td>1784</td>\n",
       "      <td>1486</td>\n",
       "    </tr>\n",
       "    <tr>\n",
       "      <th>Tue</th>\n",
       "      <td>1086</td>\n",
       "      <td>918</td>\n",
       "      <td>812</td>\n",
       "      <td>783</td>\n",
       "      <td>824</td>\n",
       "      <td>1075</td>\n",
       "      <td>1806</td>\n",
       "      <td>2912</td>\n",
       "      <td>3650</td>\n",
       "      <td>3563</td>\n",
       "      <td>...</td>\n",
       "      <td>3831</td>\n",
       "      <td>4087</td>\n",
       "      <td>4265</td>\n",
       "      <td>4396</td>\n",
       "      <td>3753</td>\n",
       "      <td>2960</td>\n",
       "      <td>2535</td>\n",
       "      <td>2147</td>\n",
       "      <td>1705</td>\n",
       "      <td>1350</td>\n",
       "    </tr>\n",
       "    <tr>\n",
       "      <th>Wed</th>\n",
       "      <td>1022</td>\n",
       "      <td>952</td>\n",
       "      <td>808</td>\n",
       "      <td>795</td>\n",
       "      <td>711</td>\n",
       "      <td>1040</td>\n",
       "      <td>1763</td>\n",
       "      <td>3060</td>\n",
       "      <td>3566</td>\n",
       "      <td>3528</td>\n",
       "      <td>...</td>\n",
       "      <td>3933</td>\n",
       "      <td>4149</td>\n",
       "      <td>4443</td>\n",
       "      <td>4487</td>\n",
       "      <td>3609</td>\n",
       "      <td>2927</td>\n",
       "      <td>2645</td>\n",
       "      <td>2236</td>\n",
       "      <td>1794</td>\n",
       "      <td>1399</td>\n",
       "    </tr>\n",
       "  </tbody>\n",
       "</table>\n",
       "<p>7 rows × 24 columns</p>\n",
       "</div>"
      ],
      "text/plain": [
       "Hour           0     1     2     3    4     5     6     7     8     9   ...  \\\n",
       "Day of Week                                                             ...   \n",
       "Fri          1185  1001   930   832  821  1051  1676  2689  3185  3295  ...   \n",
       "Mon          1207   974   857   784  871  1124  1729  2829  3588  3685  ...   \n",
       "Sat          1515  1332  1206  1012  936   985  1230  1640  2211  2766  ...   \n",
       "Sun          1520  1331  1263  1033  954   941  1119  1568  1933  2421  ...   \n",
       "Thu          1115   873   920   775  784  1091  1801  2913  3468  3457  ...   \n",
       "Tue          1086   918   812   783  824  1075  1806  2912  3650  3563  ...   \n",
       "Wed          1022   952   808   795  711  1040  1763  3060  3566  3528  ...   \n",
       "\n",
       "Hour           14    15    16    17    18    19    20    21    22    23  \n",
       "Day of Week                                                              \n",
       "Fri          4150  4514  4711  4489  3616  3254  2789  2445  2210  1866  \n",
       "Mon          3547  3975  4063  4003  3512  2821  2418  2005  1698  1283  \n",
       "Sat          3479  3284  3348  3274  3174  3036  2632  2432  2073  1913  \n",
       "Sun          2992  2828  2855  2872  2829  2679  2362  1994  1632  1470  \n",
       "Thu          3904  4139  4053  4412  3578  2923  2579  2230  1784  1486  \n",
       "Tue          3831  4087  4265  4396  3753  2960  2535  2147  1705  1350  \n",
       "Wed          3933  4149  4443  4487  3609  2927  2645  2236  1794  1399  \n",
       "\n",
       "[7 rows x 24 columns]"
      ]
     },
     "execution_count": 18,
     "metadata": {},
     "output_type": "execute_result"
    }
   ],
   "source": [
    "dataframe_heatmap"
   ]
  },
  {
   "cell_type": "code",
   "execution_count": 19,
   "id": "5d8fbfef",
   "metadata": {},
   "outputs": [
    {
     "data": {
      "text/plain": [
       "<AxesSubplot:xlabel='Hour', ylabel='Day of Week'>"
      ]
     },
     "execution_count": 19,
     "metadata": {},
     "output_type": "execute_result"
    },
    {
     "data": {
      "image/png": "[encoded data removed]",
      "text/plain": [
       "<Figure size 864x432 with 2 Axes>"
      ]
     },
     "metadata": {
      "needs_background": "light"
     },
     "output_type": "display_data"
    }
   ],
   "source": [
    "fig, ax = plt.subplots(figsize=(12,6))\n",
    "sns.heatmap(dataframe_heatmap, \n",
    "            cmap='coolwarm', \n",
    "            ax = ax)"
   ]
  },
  {
   "cell_type": "markdown",
   "id": "4a8ac82d",
   "metadata": {},
   "source": [
    "When we look at the data, we notice that most of the phone calls happen during the daytime, which is pretty much what we would expect. Also, these calls are most common on regular business days. To get a better understanding of these patterns, we can use a cluster map. Think of it like grouping similar things together on a map to see if there are any specific trends or commonalities. It helps us see if certain days or times are more alike in terms of call density, which can give us more insights into the data."
   ]
  },
  {
   "cell_type": "code",
   "execution_count": 20,
   "id": "dc9fb32a",
   "metadata": {},
   "outputs": [
    {
     "data": {
      "text/plain": [
       "<seaborn.matrix.ClusterGrid at 0x221874b3d30>"
      ]
     },
     "execution_count": 20,
     "metadata": {},
     "output_type": "execute_result"
    },
    {
     "data": {
      "image/png": "[encoded data removed]",
      "text/plain": [
       "<Figure size 864x720 with 4 Axes>"
      ]
     },
     "metadata": {
      "needs_background": "light"
     },
     "output_type": "display_data"
    }
   ],
   "source": [
    "sns.clustermap(dataframe_heatmap, \n",
    "               cmap = 'coolwarm', \n",
    "               figsize = (12,10))"
   ]
  },
  {
   "cell_type": "markdown",
   "id": "ebfc3a5e",
   "metadata": {},
   "source": [
    "The cluster map provides a clearer picture, highlighting that the highest call density occurs on weekdays, particularly during the standard working hours from 9 am to 6 pm. It visually confirms that these specific times and days of the week stand out as the busiest periods for phone calls."
   ]
  },
  {
   "cell_type": "code",
   "execution_count": 21,
   "id": "5522602c",
   "metadata": {},
   "outputs": [
    {
     "data": {
      "text/html": [
       "<div>\n",
       "<style scoped>\n",
       "    .dataframe tbody tr th:only-of-type {\n",
       "        vertical-align: middle;\n",
       "    }\n",
       "\n",
       "    .dataframe tbody tr th {\n",
       "        vertical-align: top;\n",
       "    }\n",
       "\n",
       "    .dataframe thead th {\n",
       "        text-align: right;\n",
       "    }\n",
       "</style>\n",
       "<table border=\"1\" class=\"dataframe\">\n",
       "  <thead>\n",
       "    <tr style=\"text-align: right;\">\n",
       "      <th>Month</th>\n",
       "      <th>1</th>\n",
       "      <th>2</th>\n",
       "      <th>3</th>\n",
       "      <th>4</th>\n",
       "      <th>5</th>\n",
       "      <th>6</th>\n",
       "      <th>7</th>\n",
       "      <th>8</th>\n",
       "      <th>9</th>\n",
       "      <th>10</th>\n",
       "      <th>11</th>\n",
       "      <th>12</th>\n",
       "    </tr>\n",
       "    <tr>\n",
       "      <th>Day of Week</th>\n",
       "      <th></th>\n",
       "      <th></th>\n",
       "      <th></th>\n",
       "      <th></th>\n",
       "      <th></th>\n",
       "      <th></th>\n",
       "      <th></th>\n",
       "      <th></th>\n",
       "      <th></th>\n",
       "      <th></th>\n",
       "      <th></th>\n",
       "      <th></th>\n",
       "    </tr>\n",
       "  </thead>\n",
       "  <tbody>\n",
       "    <tr>\n",
       "      <th>Fri</th>\n",
       "      <td>5532</td>\n",
       "      <td>4848</td>\n",
       "      <td>7344</td>\n",
       "      <td>5195</td>\n",
       "      <td>4989</td>\n",
       "      <td>5867</td>\n",
       "      <td>5380</td>\n",
       "      <td>5312</td>\n",
       "      <td>6010</td>\n",
       "      <td>5179</td>\n",
       "      <td>4525</td>\n",
       "      <td>5570</td>\n",
       "    </tr>\n",
       "    <tr>\n",
       "      <th>Mon</th>\n",
       "      <td>5716</td>\n",
       "      <td>5214</td>\n",
       "      <td>4663</td>\n",
       "      <td>5154</td>\n",
       "      <td>5019</td>\n",
       "      <td>5045</td>\n",
       "      <td>5792</td>\n",
       "      <td>5212</td>\n",
       "      <td>4675</td>\n",
       "      <td>6385</td>\n",
       "      <td>4157</td>\n",
       "      <td>4286</td>\n",
       "    </tr>\n",
       "    <tr>\n",
       "      <th>Sat</th>\n",
       "      <td>5103</td>\n",
       "      <td>4431</td>\n",
       "      <td>4914</td>\n",
       "      <td>4947</td>\n",
       "      <td>4275</td>\n",
       "      <td>4868</td>\n",
       "      <td>4883</td>\n",
       "      <td>4355</td>\n",
       "      <td>5023</td>\n",
       "      <td>5051</td>\n",
       "      <td>4043</td>\n",
       "      <td>5200</td>\n",
       "    </tr>\n",
       "    <tr>\n",
       "      <th>Sun</th>\n",
       "      <td>4882</td>\n",
       "      <td>3806</td>\n",
       "      <td>3569</td>\n",
       "      <td>4628</td>\n",
       "      <td>3940</td>\n",
       "      <td>4019</td>\n",
       "      <td>5114</td>\n",
       "      <td>3963</td>\n",
       "      <td>4245</td>\n",
       "      <td>4852</td>\n",
       "      <td>3210</td>\n",
       "      <td>3896</td>\n",
       "    </tr>\n",
       "    <tr>\n",
       "      <th>Thu</th>\n",
       "      <td>4985</td>\n",
       "      <td>4708</td>\n",
       "      <td>6010</td>\n",
       "      <td>4637</td>\n",
       "      <td>5469</td>\n",
       "      <td>5951</td>\n",
       "      <td>4954</td>\n",
       "      <td>5328</td>\n",
       "      <td>5300</td>\n",
       "      <td>4940</td>\n",
       "      <td>5978</td>\n",
       "      <td>4899</td>\n",
       "    </tr>\n",
       "    <tr>\n",
       "      <th>Tue</th>\n",
       "      <td>6118</td>\n",
       "      <td>4755</td>\n",
       "      <td>5090</td>\n",
       "      <td>4413</td>\n",
       "      <td>6203</td>\n",
       "      <td>5013</td>\n",
       "      <td>5488</td>\n",
       "      <td>5690</td>\n",
       "      <td>4930</td>\n",
       "      <td>5827</td>\n",
       "      <td>4823</td>\n",
       "      <td>4691</td>\n",
       "    </tr>\n",
       "    <tr>\n",
       "      <th>Wed</th>\n",
       "      <td>5488</td>\n",
       "      <td>5066</td>\n",
       "      <td>6076</td>\n",
       "      <td>4609</td>\n",
       "      <td>5749</td>\n",
       "      <td>5408</td>\n",
       "      <td>4794</td>\n",
       "      <td>6112</td>\n",
       "      <td>5156</td>\n",
       "      <td>5581</td>\n",
       "      <td>4907</td>\n",
       "      <td>4477</td>\n",
       "    </tr>\n",
       "  </tbody>\n",
       "</table>\n",
       "</div>"
      ],
      "text/plain": [
       "Month          1     2     3     4     5     6     7     8     9     10    11  \\\n",
       "Day of Week                                                                     \n",
       "Fri          5532  4848  7344  5195  4989  5867  5380  5312  6010  5179  4525   \n",
       "Mon          5716  5214  4663  5154  5019  5045  5792  5212  4675  6385  4157   \n",
       "Sat          5103  4431  4914  4947  4275  4868  4883  4355  5023  5051  4043   \n",
       "Sun          4882  3806  3569  4628  3940  4019  5114  3963  4245  4852  3210   \n",
       "Thu          4985  4708  6010  4637  5469  5951  4954  5328  5300  4940  5978   \n",
       "Tue          6118  4755  5090  4413  6203  5013  5488  5690  4930  5827  4823   \n",
       "Wed          5488  5066  6076  4609  5749  5408  4794  6112  5156  5581  4907   \n",
       "\n",
       "Month          12  \n",
       "Day of Week        \n",
       "Fri          5570  \n",
       "Mon          4286  \n",
       "Sat          5200  \n",
       "Sun          3896  \n",
       "Thu          4899  \n",
       "Tue          4691  \n",
       "Wed          4477  "
      ]
     },
     "execution_count": 21,
     "metadata": {},
     "output_type": "execute_result"
    }
   ],
   "source": [
    "dataframe_heatmap = dataframe.groupby(['Day of Week','Month']).count().unstack()['title']\n",
    "dataframe_heatmap"
   ]
  },
  {
   "cell_type": "code",
   "execution_count": 22,
   "id": "ca19c9e0",
   "metadata": {},
   "outputs": [
    {
     "data": {
      "text/plain": [
       "<AxesSubplot:xlabel='Month', ylabel='Day of Week'>"
      ]
     },
     "execution_count": 22,
     "metadata": {},
     "output_type": "execute_result"
    },
    {
     "data": {
      "image/png": "[encoded data removed]",
      "text/plain": [
       "<Figure size 864x432 with 2 Axes>"
      ]
     },
     "metadata": {
      "needs_background": "light"
     },
     "output_type": "display_data"
    }
   ],
   "source": [
    "fig, ax = plt.subplots(figsize=(12,6))\n",
    "sns.heatmap(dataframe_heatmap, \n",
    "            cmap='coolwarm', \n",
    "            ax = ax)"
   ]
  },
  {
   "cell_type": "markdown",
   "id": "136a7ec3",
   "metadata": {},
   "source": [
    "The peak density in phone calls falls on a specific day: Friday in March. This spike can be attributed to the weather incident we examined earlier, which occurred on Friday, March 2, 2018. However, it's crucial to remember that our dataset only goes up until mid-November. Therefore, we can't rely on data for November and December to draw significant conclusions because of the limited amount of information available during those months."
   ]
  },
  {
   "cell_type": "code",
   "execution_count": 23,
   "id": "f3840ab3",
   "metadata": {},
   "outputs": [
    {
     "data": {
      "text/plain": [
       "<seaborn.matrix.ClusterGrid at 0x221960851e0>"
      ]
     },
     "execution_count": 23,
     "metadata": {},
     "output_type": "execute_result"
    },
    {
     "data": {
      "image/png": "[encoded data removed]",
      "text/plain": [
       "<Figure size 864x720 with 4 Axes>"
      ]
     },
     "metadata": {
      "needs_background": "light"
     },
     "output_type": "display_data"
    }
   ],
   "source": [
    "sns.clustermap(dataframe_heatmap, \n",
    "               cmap = 'coolwarm', \n",
    "               figsize = (12,10))"
   ]
  },
  {
   "cell_type": "markdown",
   "id": "dbed229f",
   "metadata": {},
   "source": [
    "The clustermap makes it abundantly clear that Sundays consistently have the lowest number of 911 calls when compared to the other days of the week."
   ]
  },
  {
   "cell_type": "markdown",
   "id": "3e57a2ae",
   "metadata": {},
   "source": [
    "## Conclusion :"
   ]
  },
  {
   "cell_type": "markdown",
   "id": "5399cdf1",
   "metadata": {},
   "source": [
    "In my visual analysis, I had the opportunity to practice a variety of data visualization techniques as I delved into this dataset. I used pandas to create dataframes, enabling me to manipulate, extract, and visualize important data categories of interest. As I explored the dataset, I discovered that EMS-related calls accounted for the highest proportion of 911 calls, followed by traffic-related calls and then fire-related calls. I also identified two distinct outliers, one on March 2nd, 2018, and the other on November 15th, 2018, which both appeared to be linked to severe weather conditions. It's worth noting that with further investigation, one could potentially extract valuable insights from the data associated with these specific dates."
   ]
  },
  {
   "cell_type": "code",
   "execution_count": null,
   "id": "76ab9ac8",
   "metadata": {},
   "outputs": [],
   "source": []
  }
 ],
 "metadata": {
  "kernelspec": {
   "display_name": "Python 3 (ipykernel)",
   "language": "python",
   "name": "python3"
  },
  "language_info": {
   "codemirror_mode": {
    "name": "ipython",
    "version": 3
   },
   "file_extension": ".py",
   "mimetype": "text/x-python",
   "name": "python",
   "nbconvert_exporter": "python",
   "pygments_lexer": "ipython3",
   "version": "3.10.9"
  }
 },
 "nbformat": 4,
 "nbformat_minor": 5
}
